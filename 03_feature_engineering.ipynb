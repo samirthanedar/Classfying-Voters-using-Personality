{
 "cells": [
  {
   "cell_type": "code",
   "execution_count": 124,
   "metadata": {},
   "outputs": [],
   "source": [
    "import psycopg2 as pg\n",
    "import pandas as pd\n",
    "import pandas.io.sql as pd_sql\n",
    "\n",
    "import numpy as np\n",
    "import matplotlib.pyplot as plt\n",
    "import seaborn as sns\n",
    "plt.style.use('ggplot')\n",
    "\n",
    "%matplotlib inline\n",
    "\n",
    "import pickle\n",
    "from sklearn.linear_model import LogisticRegression\n",
    "from sklearn.model_selection import train_test_split\n",
    "from sklearn.metrics import precision_score, recall_score, accuracy_score, roc_auc_score, log_loss\n",
    "from sklearn.metrics import confusion_matrix\n",
    "from sklearn.preprocessing import StandardScaler\n",
    "from sklearn.ensemble import RandomForestClassifier, GradientBoostingClassifier, VotingClassifier\n",
    "from sklearn.metrics import confusion_matrix\n",
    "from sklearn.neighbors import KNeighborsClassifier\n",
    "from sklearn.naive_bayes import BernoulliNB, MultinomialNB, GaussianNB\n",
    "from sklearn.svm import LinearSVC\n",
    "from sklearn import svm\n",
    "from sklearn.impute import SimpleImputer\n",
    "from sklearn.model_selection import cross_val_score"
   ]
  },
  {
   "cell_type": "code",
   "execution_count": 6,
   "metadata": {},
   "outputs": [],
   "source": [
    "with open('ready.pkl', 'rb') as handle:\n",
    "    df = pickle.load(handle)"
   ]
  },
  {
   "cell_type": "markdown",
   "metadata": {},
   "source": [
    "Alright the plan is to do some more feature engineering. I tried to engineer a new feature (fem+gun) and it made things worse. So let's try some other things:\n",
    "1. how many questions the respondent answered\n",
    "1. ratio of yes to nos\n",
    "1. total number of yes\n",
    "1. total number of nos"
   ]
  },
  {
   "cell_type": "markdown",
   "metadata": {},
   "source": [
    "## Quick Feature Engineering"
   ]
  },
  {
   "cell_type": "code",
   "execution_count": 42,
   "metadata": {},
   "outputs": [],
   "source": [
    "#making a new column showing how many informal questions did someone answer\n",
    "df['questions_answered'] = df.iloc[:,22:123].apply(lambda x: x.count(), axis=1)"
   ]
  },
  {
   "cell_type": "code",
   "execution_count": 68,
   "metadata": {},
   "outputs": [],
   "source": [
    "#making a new column showing how many times someone said yes to an informal question\n",
    "cols = df.columns[22:123]\n",
    "df['yes_amount'] = (df[cols] > 0).sum(1)"
   ]
  },
  {
   "cell_type": "code",
   "execution_count": 74,
   "metadata": {},
   "outputs": [],
   "source": [
    "#making a new column showing how many times someone said no to an informal question\n",
    "df['no_amount'] = (df[cols] == 0).sum(1)"
   ]
  },
  {
   "cell_type": "code",
   "execution_count": null,
   "metadata": {},
   "outputs": [],
   "source": [
    "df['yes_no_ratio'] = df['yes_amount']/df['no_amount']"
   ]
  },
  {
   "cell_type": "code",
   "execution_count": null,
   "metadata": {},
   "outputs": [],
   "source": [
    "#dropping the infinity values for the yes or no ratio since there's only 40 of them\n",
    "df2 = df.drop((df[df['yes_no_ratio'] > 1000].index))"
   ]
  },
  {
   "cell_type": "markdown",
   "metadata": {},
   "source": [
    "## Impact of Feature Engineering on Model Performance:"
   ]
  },
  {
   "cell_type": "code",
   "execution_count": 125,
   "metadata": {},
   "outputs": [],
   "source": [
    "#pasting over function from before to evaluate model performance but I made some changes\n",
    "\n",
    "def enhanced_confusion_matrix(model, x_train, x_test, y_train, y_test, no_auc=False):\n",
    "    \"\"\"\n",
    "    Purpose: makes a confusion matrix and reports on precision and recall for the given model\n",
    "    Arguments: model, xtrain data, ytrain data, xtest data, and ytest datasets already separated\n",
    "    Returns: Confusion matrix and precision and recall scores    \n",
    "    \"\"\"\n",
    "    fitted_model = model.fit(x_train,y_train)\n",
    "    prediction_hard = fitted_model.predict(x_test)\n",
    "    conf_matrix = confusion_matrix(y_test, prediction_hard)   \n",
    "    cross_val = cross_val_score(model,x_train,y_train,cv=5)\n",
    "    \n",
    "    print('Precision: ' + str(int((conf_matrix[0][0]) / (conf_matrix[0][0] + conf_matrix[1][0])*100)) + '%')\n",
    "    print('Recall: ' + str(int((conf_matrix[0][0]) / (conf_matrix[0][0] + conf_matrix[0][1])*100)) + '%')\n",
    "    print('Train Accuracy: ' + str(100*(fitted_model.score(x_train, y_train))) + '%')\n",
    "    print('Test Accuracy: ' + str(100*(fitted_model.score(x_test, y_test))) + '%')\n",
    "    print('Mean CV Score: ' + str(100*(np.mean(cross_val))) + '%')\n",
    "    \n",
    "    if no_auc ==False:\n",
    "        test_score = model.predict_proba(x_test)\n",
    "        auc = roc_auc_score(y_test,test_score[:,1])\n",
    "        ll = log_loss(y_test, test_score)\n",
    "        print('AUC Score: ' + str(100*(auc)) + '%')\n",
    "        print('Log Loss: ' + str(ll))\n",
    "    print(confusion_matrix(y_test, prediction_hard))\n",
    "    \n",
    "    return fitted_model"
   ]
  },
  {
   "cell_type": "code",
   "execution_count": 110,
   "metadata": {},
   "outputs": [],
   "source": [
    "def plot_feature(df,column,answer=1):\n",
    "    \"\"\"\n",
    "    Purpose: Show distribution of voting between republians and democrats for the feature inputed\n",
    "    Arguments: dataframe with the features and column name\n",
    "    Returns: Bar plot for distribution for the particular feature, and percentage split between two groups\n",
    "    \"\"\"\n",
    "    mask = df[column] == answer\n",
    "    \n",
    "    #assigning varibales \n",
    "    if df[mask].party.value_counts().index[0] == 'Democrat':\n",
    "        amount_dem = df[mask].party.value_counts()[0]\n",
    "        amount_rep = df[mask].party.value_counts()[1]\n",
    "    else:\n",
    "        amount_dem = df[mask].party.value_counts()[1]\n",
    "        amount_rep = df[mask].party.value_counts()[0]\n",
    "    \n",
    "    #plotting the bar graph\n",
    "    plt.bar(['Democrat','Republican'], [amount_dem,amount_rep])\n",
    "    \n",
    "    #printing the percentages of republicans and democrats in this group\n",
    "    print('Democrats: ' + str(100*(amount_dem/(amount_dem+amount_rep))))\n",
    "    print('Republicans: ' + str(100*(amount_rep/(amount_dem+amount_rep))))\n",
    "    \n",
    "    return df[mask].party.value_counts()"
   ]
  },
  {
   "cell_type": "markdown",
   "metadata": {},
   "source": [
    "Remember we had the following results for our models:\n",
    "\n",
    "**Random Forest**\n",
    "* Precision: 62%\n",
    "* Recall: 68%\n",
    "* Train Accuracy: 99.95509654243376%\n",
    "* Test Accuracy: 61.759425493716336%\n",
    "* AUC Score: 65.42583128477165%\n",
    "* Log Loss: 0.6546587732646288\n",
    "* Confusion Matrix:\n",
    "       [[404, 186],\n",
    "       [240, 284]]\n",
    "       \n",
    "**Logistic Regression**\n",
    "* Precision: 64%\n",
    "* Recall: 66%\n",
    "* Train Accuracy: 64.97530309833857%\n",
    "* Test Accuracy: 62.65709156193896%\n",
    "* AUC Score: 66.8572907232501%\n",
    "* Log Loss: 0.6547563371748129\n",
    "* Confusion Matrix:\n",
    "       [[395, 195],\n",
    "       [221, 303]])\n",
    "       \n",
    "**Naive Bayes Bernoulli**\n",
    "* Precision: 63%\n",
    "* Recall: 68%\n",
    "* Train Accuracy: 63.62819937135159%\n",
    "* Test Accuracy: 62.65709156193896%\n",
    "* AUC Score: 66.76057704748351%\n",
    "* Log Loss: 0.7096954978465346\n",
    "* Confusion Matrix:\n",
    "\n",
    "       [[404, 186],\n",
    "       [230, 294]])\n",
    "       \n",
    "**Ensemble**\n",
    "* Precision: 63%\n",
    "* Recall: 68%\n",
    "* Train Accuracy: 86.14728334081724%\n",
    "* Test Accuracy: 62.20825852782765%\n",
    "* AUC Score: 67.44954069090439%\n",
    "* Log Loss: 0.6473952062252966\n",
    "* Confusion Matrix: \n",
    "       [[402, 188],\n",
    "       [233, 291]])"
   ]
  },
  {
   "cell_type": "code",
   "execution_count": 99,
   "metadata": {},
   "outputs": [],
   "source": [
    "X = df2.drop(['party'],axis=1)\n",
    "y = df2.party"
   ]
  },
  {
   "cell_type": "code",
   "execution_count": 100,
   "metadata": {},
   "outputs": [],
   "source": [
    "x_train, x_test, ytrain, ytest = train_test_split(X, y, test_size=0.2, random_state=42, stratify=y)\n",
    "imp = SimpleImputer(missing_values=np.nan, strategy='most_frequent')\n",
    "imp = imp.fit(x_train)\n",
    "xtrain_imp = imp.transform(x_train)\n",
    "xtest_imp = imp.transform(x_test)"
   ]
  },
  {
   "cell_type": "code",
   "execution_count": 86,
   "metadata": {},
   "outputs": [],
   "source": []
  },
  {
   "cell_type": "markdown",
   "metadata": {},
   "source": [
    "### Logistic Regression"
   ]
  },
  {
   "cell_type": "code",
   "execution_count": 126,
   "metadata": {},
   "outputs": [
    {
     "name": "stdout",
     "output_type": "stream",
     "text": [
      "Precision: 62%\n",
      "Recall: 66%\n",
      "Train Accuracy: 64.85753052917232%\n",
      "Test Accuracy: 61.48282097649186%\n",
      "Mean CV Score: 60.3571592913567%\n",
      "AUC Score: 65.85652402205304%\n",
      "Log Loss: 0.6602585319064099\n",
      "[[392 194]\n",
      " [232 288]]\n"
     ]
    }
   ],
   "source": [
    "lr = LogisticRegression(solver= 'liblinear', C=1000)\n",
    "fitted_lr = enhanced_confusion_matrix(lr,xtrain_imp, xtest_imp, ytrain, ytest)"
   ]
  },
  {
   "cell_type": "markdown",
   "metadata": {},
   "source": [
    "LR is about the same maybe a little worse"
   ]
  },
  {
   "cell_type": "markdown",
   "metadata": {},
   "source": [
    "### Naive Bayes Bernoulli"
   ]
  },
  {
   "cell_type": "code",
   "execution_count": 127,
   "metadata": {},
   "outputs": [
    {
     "name": "stdout",
     "output_type": "stream",
     "text": [
      "Precision: 63%\n",
      "Recall: 69%\n",
      "Train Accuracy: 63.523292627770246%\n",
      "Test Accuracy: 62.20614828209765%\n",
      "Mean CV Score: 62.18897154689776%\n",
      "AUC Score: 66.68055920189026%\n",
      "Log Loss: 0.744482912213091\n",
      "[[407 179]\n",
      " [239 281]]\n"
     ]
    }
   ],
   "source": [
    "nbb = BernoulliNB()\n",
    "fitted_nbb = enhanced_confusion_matrix(nbb,xtrain_imp, xtest_imp, ytrain, ytest)"
   ]
  },
  {
   "cell_type": "markdown",
   "metadata": {},
   "source": [
    "NB is about the same"
   ]
  },
  {
   "cell_type": "markdown",
   "metadata": {},
   "source": [
    "### Random Forest"
   ]
  },
  {
   "cell_type": "code",
   "execution_count": 129,
   "metadata": {},
   "outputs": [
    {
     "name": "stdout",
     "output_type": "stream",
     "text": [
      "Precision: 64%\n",
      "Recall: 71%\n",
      "Train Accuracy: 99.97738579828132%\n",
      "Test Accuracy: 63.65280289330922%\n",
      "Mean CV Score: 61.216402075823815%\n",
      "AUC Score: 67.20694407981097%\n",
      "Log Loss: 0.6491118626532189\n",
      "[[419 167]\n",
      " [235 285]]\n"
     ]
    }
   ],
   "source": [
    "rf = RandomForestClassifier(n_estimators=100)\n",
    "fitted_rf = enhanced_confusion_matrix(rf,xtrain_imp, xtest_imp, ytrain, ytest)"
   ]
  },
  {
   "cell_type": "markdown",
   "metadata": {},
   "source": [
    "RF is also about the same. Slightly better in some cases."
   ]
  },
  {
   "cell_type": "code",
   "execution_count": 108,
   "metadata": {},
   "outputs": [
    {
     "data": {
      "text/plain": [
       "[(0.04934622329414904, 'yes_no_ratio'),\n",
       " (0.046268127342040416, 'yob'),\n",
       " (0.04174635452264502, 'questions_answered'),\n",
       " (0.04167082251153831, 'yes_amount'),\n",
       " (0.04106655519780622, 'no_amount'),\n",
       " (0.0248699275588731, 'q109244'),\n",
       " (0.015732074790684173, 'fem+gun'),\n",
       " (0.013324898170741424, 'q115611'),\n",
       " (0.011759653041833852, 'q113181'),\n",
       " (0.01048731384575756, 'q98197'),\n",
       " (0.010365837594383347, 'gender_Male'),\n",
       " (0.008171474930353272, 'q119851'),\n",
       " (0.008034930397130756, 'q118892'),\n",
       " (0.00793099462219311, 'q118232'),\n",
       " (0.007758737058209575, 'q121011'),\n",
       " (0.007691023075388378, 'q120379'),\n",
       " (0.007681607546819102, 'q119334'),\n",
       " (0.0076390274634483115, 'q120012'),\n",
       " (0.007627330952853649, 'q120472'),\n",
       " (0.007622053946226964, 'income_under $25,000'),\n",
       " (0.007618340552946231, 'householdstatus_Married (w/kids)'),\n",
       " (0.007598914314998345, 'q118117'),\n",
       " (0.00751423369405106, 'q120014'),\n",
       " (0.007510093339664253, 'q120194'),\n",
       " (0.007470658430746663, 'q120978'),\n",
       " (0.00744870788717106, 'householdstatus_Single (no kids)'),\n",
       " (0.007318310145379402, 'q111848'),\n",
       " (0.007246392281315117, 'q110740'),\n",
       " (0.007226156915876155, 'q118237'),\n",
       " (0.007138376259107309, 'q114386'),\n",
       " (0.007137361470027914, 'q122770'),\n",
       " (0.0071004644065900055, 'q113584'),\n",
       " (0.007051428321419634, 'q105655'),\n",
       " (0.007041824613787868, 'q114748'),\n",
       " (0.007016686532439634, 'q104996'),\n",
       " (0.007004929023348573, \"educationlevel_Bachelor's Degree\"),\n",
       " (0.0069473066813132665, 'q115899'),\n",
       " (0.006946062614615911, 'q103293'),\n",
       " (0.006942967431755504, 'q114961'),\n",
       " (0.0068779841372490925, 'q121699'),\n",
       " (0.006855800931863408, 'q115777'),\n",
       " (0.006845562241547077, 'q107869'),\n",
       " (0.0067749192412109895, 'q111580'),\n",
       " (0.006748673100274846, 'q119650'),\n",
       " (0.006726652041272941, 'q106389'),\n",
       " (0.0066988108683619565, 'q122769'),\n",
       " (0.006634868550316385, 'q124122'),\n",
       " (0.006627186325543226, 'q101163'),\n",
       " (0.006614323786391093, 'income_$100,001 - $150,000'),\n",
       " (0.006608883109753507, 'q112270'),\n",
       " (0.006534727967190942, 'q108855'),\n",
       " (0.006532832282924601, 'q106997'),\n",
       " (0.0065195741632166435, 'q122120'),\n",
       " (0.006516247297445091, 'q116953'),\n",
       " (0.006516217768478375, 'q112478'),\n",
       " (0.006505456518114119, 'q117193'),\n",
       " (0.006499407506517298, 'q116448'),\n",
       " (0.006454081133107446, 'q123621'),\n",
       " (0.006426792566927013, 'q96024'),\n",
       " (0.0064212079625162646, 'q100689'),\n",
       " (0.006417781163246535, 'q106042'),\n",
       " (0.0064096340548986, 'income_over $150,000'),\n",
       " (0.006406699537007368, 'q109367'),\n",
       " (0.006347269970357136, 'q116197'),\n",
       " (0.006333775459905783, 'q118233'),\n",
       " (0.006298666005789513, 'q98078'),\n",
       " (0.006268637716686368, 'q99982'),\n",
       " (0.006248022952012163, 'q105840'),\n",
       " (0.006233020203370612, 'q102687'),\n",
       " (0.006200766619165957, 'q115195'),\n",
       " (0.006186118854271933, 'q111220'),\n",
       " (0.0061449910769513574, 'q108950'),\n",
       " (0.006134513189212446, 'q113992'),\n",
       " (0.006121915412866095, 'income_$50,000 - $74,999'),\n",
       " (0.006080760841563706, 'income_$25,001 - $50,000'),\n",
       " (0.006070755053352015, 'q108343'),\n",
       " (0.00599515114741043, 'income_$75,000 - $100,000'),\n",
       " (0.0059714979285390305, 'q117186'),\n",
       " (0.005964094935782666, 'educationlevel_High School Diploma'),\n",
       " (0.005936250955223389, 'q98578'),\n",
       " (0.005866347150144613, 'q102906'),\n",
       " (0.0058521080169730445, 'q114517'),\n",
       " (0.005846453725251663, 'q98869'),\n",
       " (0.005831010985867111, 'q113583'),\n",
       " (0.005794692403121479, 'q100680'),\n",
       " (0.00577897831987622, 'q116797'),\n",
       " (0.005776820743887861, 'educationlevel_Current K-12'),\n",
       " (0.005751948323153931, 'q115390'),\n",
       " (0.00574589995871224, 'q101596'),\n",
       " (0.005733658334817049, 'q116881'),\n",
       " (0.005688959469544612, 'educationlevel_Current Undergraduate'),\n",
       " (0.005687758749048793, 'q108754'),\n",
       " (0.005670292227321615, 'q108342'),\n",
       " (0.005571342557577253, 'q102289'),\n",
       " (0.005482111948176069, 'q116441'),\n",
       " (0.00546032207152117, 'q101162'),\n",
       " (0.005446114519188892, \"educationlevel_Master's Degree\"),\n",
       " (0.005435697947932361, 'q122771'),\n",
       " (0.005384397572156166, 'q102674'),\n",
       " (0.005334389011198497, 'q108856'),\n",
       " (0.005286829271245487, 'q102089'),\n",
       " (0.005148276171638448, 'q114152'),\n",
       " (0.005134175748174017, 'householdstatus_Married (no kids)'),\n",
       " (0.005004514488937288, 'q121700'),\n",
       " (0.004853055382825389, 'q100562'),\n",
       " (0.004852402018973109, 'q124742'),\n",
       " (0.004850110178981488, 'q99480'),\n",
       " (0.00477104901837819, 'q115602'),\n",
       " (0.004748111081552246, \"educationlevel_Associate's Degree\"),\n",
       " (0.004705923804732369, 'q100010'),\n",
       " (0.00468165109805281, 'q112512'),\n",
       " (0.004660827031633814, 'q106272'),\n",
       " (0.0046424109354641675, 'q106388'),\n",
       " (0.004618982406985014, 'q106993'),\n",
       " (0.004383400762829018, 'householdstatus_Domestic Partners (no kids)'),\n",
       " (0.004139768163824014, 'q116601'),\n",
       " (0.004131403444779307, 'q115610'),\n",
       " (0.0036224493751515208, 'q99581'),\n",
       " (0.003583203627986192, 'q107491'),\n",
       " (0.0035690366475477613, 'q108617'),\n",
       " (0.0035488677461491956, 'q120650'),\n",
       " (0.0031110679111263327, 'q99716'),\n",
       " (0.003069312605435644, 'q98059'),\n",
       " (0.0030091025242479567, 'educationlevel_Doctoral Degree'),\n",
       " (0.0024770050822090777, 'householdstatus_Single (w/kids)'),\n",
       " (0.002132577726969656, 'q123464'),\n",
       " (0.0013404663512349368, 'householdstatus_Domestic Partners (w/kids)')]"
      ]
     },
     "execution_count": 108,
     "metadata": {},
     "output_type": "execute_result"
    }
   ],
   "source": [
    "feature_imp_list = list(zip(rf.feature_importances_,x_train.columns))\n",
    "feature_imp_list.sort(reverse=True)\n",
    "feature_imp_list"
   ]
  },
  {
   "cell_type": "markdown",
   "metadata": {},
   "source": [
    "It does seem like the non-binary features shoot up to the top of the feature importance list. I don't think that's because they are better. I think RF gives undue importance to them."
   ]
  },
  {
   "cell_type": "markdown",
   "metadata": {},
   "source": [
    "### Ensemble Model:"
   ]
  },
  {
   "cell_type": "code",
   "execution_count": 130,
   "metadata": {},
   "outputs": [
    {
     "name": "stdout",
     "output_type": "stream",
     "text": [
      "Precision: 63%\n",
      "Recall: 68%\n",
      "Train Accuracy: 84.53188602442334%\n",
      "Test Accuracy: 62.92947558770343%\n",
      "Mean CV Score: 62.120919293401855%\n",
      "AUC Score: 67.51739301653977%\n",
      "Log Loss: 0.6490382551611807\n",
      "[[403 183]\n",
      " [227 293]]\n"
     ]
    }
   ],
   "source": [
    "voting = VotingClassifier(estimators=[('lr', lr), ('rf', rf), ('NBB', nbb)], voting='soft')\n",
    "fitted_voting = enhanced_confusion_matrix(voting,xtrain_imp, xtest_imp, ytrain, ytest)"
   ]
  },
  {
   "cell_type": "markdown",
   "metadata": {},
   "source": [
    "Not much difference here either"
   ]
  },
  {
   "cell_type": "markdown",
   "metadata": {},
   "source": [
    "**So it looks like the new features don't make that much a difference. Let's plot some charts to see if we can indentify why**"
   ]
  },
  {
   "cell_type": "code",
   "execution_count": 115,
   "metadata": {},
   "outputs": [
    {
     "data": {
      "text/plain": [
       "<matplotlib.collections.PathCollection at 0x2f372ce290>"
      ]
     },
     "execution_count": 115,
     "metadata": {},
     "output_type": "execute_result"
    },
    {
     "data": {
      "image/png": "[encoded data removed]",
      "text/plain": [
       "<Figure size 432x288 with 1 Axes>"
      ]
     },
     "metadata": {
      "needs_background": "light"
     },
     "output_type": "display_data"
    }
   ],
   "source": [
    "#yes or no ratio\n",
    "plt.scatter(df.yes_no_ratio,df.party)"
   ]
  },
  {
   "cell_type": "code",
   "execution_count": 116,
   "metadata": {},
   "outputs": [
    {
     "data": {
      "text/plain": [
       "<matplotlib.collections.PathCollection at 0x2f3738b690>"
      ]
     },
     "execution_count": 116,
     "metadata": {},
     "output_type": "execute_result"
    },
    {
     "data": {
      "image/png": "[encoded data removed]",
      "text/plain": [
       "<Figure size 432x288 with 1 Axes>"
      ]
     },
     "metadata": {
      "needs_background": "light"
     },
     "output_type": "display_data"
    }
   ],
   "source": [
    "plt.scatter(df.questions_answered,df.party)"
   ]
  },
  {
   "cell_type": "code",
   "execution_count": 117,
   "metadata": {},
   "outputs": [
    {
     "data": {
      "text/plain": [
       "<matplotlib.collections.PathCollection at 0x2f372ef890>"
      ]
     },
     "execution_count": 117,
     "metadata": {},
     "output_type": "execute_result"
    },
    {
     "data": {
      "image/png": "[encoded data removed]",
      "text/plain": [
       "<Figure size 432x288 with 1 Axes>"
      ]
     },
     "metadata": {
      "needs_background": "light"
     },
     "output_type": "display_data"
    }
   ],
   "source": [
    "plt.scatter(df.yes_amount,df.party)"
   ]
  },
  {
   "cell_type": "code",
   "execution_count": 118,
   "metadata": {},
   "outputs": [
    {
     "data": {
      "text/plain": [
       "<matplotlib.collections.PathCollection at 0x2f3aa93cd0>"
      ]
     },
     "execution_count": 118,
     "metadata": {},
     "output_type": "execute_result"
    },
    {
     "data": {
      "image/png": "[encoded data removed]",
      "text/plain": [
       "<Figure size 432x288 with 1 Axes>"
      ]
     },
     "metadata": {
      "needs_background": "light"
     },
     "output_type": "display_data"
    }
   ],
   "source": [
    "plt.scatter(df.no_amount,df.party)"
   ]
  },
  {
   "cell_type": "markdown",
   "metadata": {},
   "source": [
    "**So that's why the models performance didn't change that much! None of these variables really seem to correlate one way or the other**"
   ]
  },
  {
   "cell_type": "markdown",
   "metadata": {},
   "source": [
    "I think my last step is to just see if I can tune any hyper parameters in any of these three models so that I can get the ensemble model F1 score higher"
   ]
  },
  {
   "cell_type": "code",
   "execution_count": null,
   "metadata": {},
   "outputs": [],
   "source": []
  }
 ],
 "metadata": {
  "kernelspec": {
   "display_name": "Python 3",
   "language": "python",
   "name": "python3"
  },
  "language_info": {
   "codemirror_mode": {
    "name": "ipython",
    "version": 3
   },
   "file_extension": ".py",
   "mimetype": "text/x-python",
   "name": "python",
   "nbconvert_exporter": "python",
   "pygments_lexer": "ipython3",
   "version": "3.7.4"
  }
 },
 "nbformat": 4,
 "nbformat_minor": 4
}
