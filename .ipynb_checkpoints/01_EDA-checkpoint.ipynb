{
 "cells": [
  {
   "cell_type": "code",
   "execution_count": 1,
   "metadata": {},
   "outputs": [],
   "source": [
    "import psycopg2 as pg\n",
    "import pandas as pd\n",
    "import pandas.io.sql as pd_sql\n",
    "import numpy as np\n",
    "import seaborn as sns\n",
    "\n",
    "%matplotlib inline\n",
    "\n",
    "from sklearn.linear_model import LogisticRegression\n",
    "from sklearn.model_selection import train_test_split\n",
    "from sklearn.metrics import precision_score, recall_score, accuracy_score, roc_auc_score\n",
    "from sklearn.metrics import confusion_matrix\n",
    "from sklearn.preprocessing import StandardScaler\n",
    "import matplotlib.pyplot as plt\n",
    "plt.style.use('ggplot')"
   ]
  },
  {
   "cell_type": "markdown",
   "metadata": {},
   "source": [
    "# Connecting to my Postgres Database"
   ]
  },
  {
   "cell_type": "code",
   "execution_count": 4,
   "metadata": {},
   "outputs": [],
   "source": [
    "# Postgres info to connect\n",
    "\n",
    "connection_args = {\n",
    "    'host': 'MY CURRENT AWS IP ADDRESS',  # My current AWS IP Address\n",
    "    'dbname': 'voting',    # DB that we are connecting to\n",
    "    'port': 5432,          # port on AWS\n",
    "    'user': 'ubuntu'       #username\n",
    "}\n",
    "\n",
    "connection = pg.connect(**connection_args)"
   ]
  },
  {
   "cell_type": "code",
   "execution_count": 5,
   "metadata": {},
   "outputs": [
    {
     "data": {
      "text/html": [
       "<div>\n",
       "<style scoped>\n",
       "    .dataframe tbody tr th:only-of-type {\n",
       "        vertical-align: middle;\n",
       "    }\n",
       "\n",
       "    .dataframe tbody tr th {\n",
       "        vertical-align: top;\n",
       "    }\n",
       "\n",
       "    .dataframe thead th {\n",
       "        text-align: right;\n",
       "    }\n",
       "</style>\n",
       "<table border=\"1\" class=\"dataframe\">\n",
       "  <thead>\n",
       "    <tr style=\"text-align: right;\">\n",
       "      <th></th>\n",
       "      <th>user_id</th>\n",
       "      <th>yob</th>\n",
       "      <th>gender</th>\n",
       "      <th>income</th>\n",
       "      <th>householdstatus</th>\n",
       "      <th>educationlevel</th>\n",
       "      <th>party</th>\n",
       "      <th>q124742</th>\n",
       "      <th>q124122</th>\n",
       "      <th>q123464</th>\n",
       "      <th>...</th>\n",
       "      <th>q100010</th>\n",
       "      <th>q99716</th>\n",
       "      <th>q99581</th>\n",
       "      <th>q99480</th>\n",
       "      <th>q98869</th>\n",
       "      <th>q98578</th>\n",
       "      <th>q98059</th>\n",
       "      <th>q98078</th>\n",
       "      <th>q98197</th>\n",
       "      <th>q96024</th>\n",
       "    </tr>\n",
       "  </thead>\n",
       "  <tbody>\n",
       "    <tr>\n",
       "      <th>0</th>\n",
       "      <td>1</td>\n",
       "      <td>1938</td>\n",
       "      <td>Male</td>\n",
       "      <td>None</td>\n",
       "      <td>Married (w/kids)</td>\n",
       "      <td>None</td>\n",
       "      <td>Democrat</td>\n",
       "      <td>No</td>\n",
       "      <td>None</td>\n",
       "      <td>No</td>\n",
       "      <td>...</td>\n",
       "      <td>Yes</td>\n",
       "      <td>No</td>\n",
       "      <td>No</td>\n",
       "      <td>None</td>\n",
       "      <td>No</td>\n",
       "      <td>None</td>\n",
       "      <td>Only-child</td>\n",
       "      <td>No</td>\n",
       "      <td>No</td>\n",
       "      <td>Yes</td>\n",
       "    </tr>\n",
       "    <tr>\n",
       "      <th>1</th>\n",
       "      <td>4</td>\n",
       "      <td>1970</td>\n",
       "      <td>Female</td>\n",
       "      <td>over $150,000</td>\n",
       "      <td>Domestic Partners (w/kids)</td>\n",
       "      <td>Bachelor's Degree</td>\n",
       "      <td>Democrat</td>\n",
       "      <td>None</td>\n",
       "      <td>Yes</td>\n",
       "      <td>No</td>\n",
       "      <td>...</td>\n",
       "      <td>None</td>\n",
       "      <td>None</td>\n",
       "      <td>None</td>\n",
       "      <td>No</td>\n",
       "      <td>No</td>\n",
       "      <td>No</td>\n",
       "      <td>Only-child</td>\n",
       "      <td>Yes</td>\n",
       "      <td>No</td>\n",
       "      <td>No</td>\n",
       "    </tr>\n",
       "    <tr>\n",
       "      <th>2</th>\n",
       "      <td>5</td>\n",
       "      <td>1997</td>\n",
       "      <td>Male</td>\n",
       "      <td>$75,000 - $100,000</td>\n",
       "      <td>Single (no kids)</td>\n",
       "      <td>High School Diploma</td>\n",
       "      <td>Republican</td>\n",
       "      <td>None</td>\n",
       "      <td>Yes</td>\n",
       "      <td>Yes</td>\n",
       "      <td>...</td>\n",
       "      <td>Yes</td>\n",
       "      <td>No</td>\n",
       "      <td>No</td>\n",
       "      <td>No</td>\n",
       "      <td>Yes</td>\n",
       "      <td>No</td>\n",
       "      <td>Yes</td>\n",
       "      <td>No</td>\n",
       "      <td>Yes</td>\n",
       "      <td>No</td>\n",
       "    </tr>\n",
       "    <tr>\n",
       "      <th>3</th>\n",
       "      <td>8</td>\n",
       "      <td>1983</td>\n",
       "      <td>Male</td>\n",
       "      <td>$100,001 - $150,000</td>\n",
       "      <td>Married (w/kids)</td>\n",
       "      <td>Bachelor's Degree</td>\n",
       "      <td>Democrat</td>\n",
       "      <td>No</td>\n",
       "      <td>Yes</td>\n",
       "      <td>No</td>\n",
       "      <td>...</td>\n",
       "      <td>No</td>\n",
       "      <td>No</td>\n",
       "      <td>No</td>\n",
       "      <td>Yes</td>\n",
       "      <td>Yes</td>\n",
       "      <td>No</td>\n",
       "      <td>Yes</td>\n",
       "      <td>No</td>\n",
       "      <td>No</td>\n",
       "      <td>Yes</td>\n",
       "    </tr>\n",
       "    <tr>\n",
       "      <th>4</th>\n",
       "      <td>9</td>\n",
       "      <td>1984</td>\n",
       "      <td>Female</td>\n",
       "      <td>$50,000 - $74,999</td>\n",
       "      <td>Married (w/kids)</td>\n",
       "      <td>High School Diploma</td>\n",
       "      <td>Republican</td>\n",
       "      <td>No</td>\n",
       "      <td>Yes</td>\n",
       "      <td>No</td>\n",
       "      <td>...</td>\n",
       "      <td>Yes</td>\n",
       "      <td>No</td>\n",
       "      <td>No</td>\n",
       "      <td>Yes</td>\n",
       "      <td>No</td>\n",
       "      <td>No</td>\n",
       "      <td>Yes</td>\n",
       "      <td>No</td>\n",
       "      <td>No</td>\n",
       "      <td>Yes</td>\n",
       "    </tr>\n",
       "  </tbody>\n",
       "</table>\n",
       "<p>5 rows × 108 columns</p>\n",
       "</div>"
      ],
      "text/plain": [
       "  user_id   yob  gender               income             householdstatus  \\\n",
       "0       1  1938    Male                 None            Married (w/kids)   \n",
       "1       4  1970  Female        over $150,000  Domestic Partners (w/kids)   \n",
       "2       5  1997    Male   $75,000 - $100,000            Single (no kids)   \n",
       "3       8  1983    Male  $100,001 - $150,000            Married (w/kids)   \n",
       "4       9  1984  Female    $50,000 - $74,999            Married (w/kids)   \n",
       "\n",
       "        educationlevel       party q124742 q124122 q123464  ... q100010  \\\n",
       "0                 None    Democrat      No    None      No  ...     Yes   \n",
       "1    Bachelor's Degree    Democrat    None     Yes      No  ...    None   \n",
       "2  High School Diploma  Republican    None     Yes     Yes  ...     Yes   \n",
       "3    Bachelor's Degree    Democrat      No     Yes      No  ...      No   \n",
       "4  High School Diploma  Republican      No     Yes      No  ...     Yes   \n",
       "\n",
       "  q99716 q99581 q99480 q98869 q98578      q98059 q98078 q98197 q96024  \n",
       "0     No     No   None     No   None  Only-child     No     No    Yes  \n",
       "1   None   None     No     No     No  Only-child    Yes     No     No  \n",
       "2     No     No     No    Yes     No         Yes     No    Yes     No  \n",
       "3     No     No    Yes    Yes     No         Yes     No     No    Yes  \n",
       "4     No     No    Yes     No     No         Yes     No     No    Yes  \n",
       "\n",
       "[5 rows x 108 columns]"
      ]
     },
     "execution_count": 5,
     "metadata": {},
     "output_type": "execute_result"
    }
   ],
   "source": [
    "query = \"SELECT * FROM bye LIMIT 5;\"\n",
    "\n",
    "pd_sql.read_sql(query, connection)"
   ]
  },
  {
   "cell_type": "markdown",
   "metadata": {},
   "source": [
    "**Yes it works! Alright let's grab just the traditional data (first 7 columns) and do some EDA**"
   ]
  },
  {
   "cell_type": "code",
   "execution_count": 47,
   "metadata": {},
   "outputs": [],
   "source": [
    "query = \"SELECT user_id,yob,gender,income,householdstatus,educationlevel,party FROM bye;\"\n",
    "df = pd_sql.read_sql(query, connection)"
   ]
  },
  {
   "cell_type": "code",
   "execution_count": 49,
   "metadata": {},
   "outputs": [
    {
     "data": {
      "text/plain": [
       "0       1938.0\n",
       "1       1970.0\n",
       "2       1997.0\n",
       "3       1983.0\n",
       "4       1984.0\n",
       "         ...  \n",
       "5563    1945.0\n",
       "5564    1970.0\n",
       "5565       NaN\n",
       "5566    1966.0\n",
       "5567       NaN\n",
       "Name: yob, Length: 5568, dtype: float64"
      ]
     },
     "execution_count": 49,
     "metadata": {},
     "output_type": "execute_result"
    }
   ],
   "source": [
    "#minor data cleaning\n",
    "df.yob = pd.to_numeric(df.yob, errors='coerce',downcast='integer')\n",
    "df.yob.astype(int,errors='ignore')"
   ]
  },
  {
   "cell_type": "code",
   "execution_count": 50,
   "metadata": {},
   "outputs": [],
   "source": [
    "#more data cleaning\n",
    "df.user_id = df.user_id.astype(int,errors='ignore')"
   ]
  },
  {
   "cell_type": "code",
   "execution_count": 51,
   "metadata": {},
   "outputs": [
    {
     "data": {
      "text/plain": [
       "user_id              int64\n",
       "yob                float64\n",
       "gender              object\n",
       "income              object\n",
       "householdstatus     object\n",
       "educationlevel      object\n",
       "party               object\n",
       "dtype: object"
      ]
     },
     "execution_count": 51,
     "metadata": {},
     "output_type": "execute_result"
    }
   ],
   "source": [
    "df.dtypes"
   ]
  },
  {
   "cell_type": "code",
   "execution_count": 112,
   "metadata": {},
   "outputs": [],
   "source": [
    "#making dummy variables\n",
    "dummy_df = pd.get_dummies(df, columns=['gender','income','householdstatus','educationlevel'])"
   ]
  },
  {
   "cell_type": "code",
   "execution_count": 121,
   "metadata": {},
   "outputs": [
    {
     "data": {
      "text/html": [
       "<div>\n",
       "<style scoped>\n",
       "    .dataframe tbody tr th:only-of-type {\n",
       "        vertical-align: middle;\n",
       "    }\n",
       "\n",
       "    .dataframe tbody tr th {\n",
       "        vertical-align: top;\n",
       "    }\n",
       "\n",
       "    .dataframe thead th {\n",
       "        text-align: right;\n",
       "    }\n",
       "</style>\n",
       "<table border=\"1\" class=\"dataframe\">\n",
       "  <thead>\n",
       "    <tr style=\"text-align: right;\">\n",
       "      <th></th>\n",
       "      <th>user_id</th>\n",
       "      <th>yob</th>\n",
       "      <th>party</th>\n",
       "      <th>gender_Female</th>\n",
       "      <th>gender_Male</th>\n",
       "      <th>income_$100,001 - $150,000</th>\n",
       "      <th>income_$25,001 - $50,000</th>\n",
       "      <th>income_$50,000 - $74,999</th>\n",
       "      <th>income_$75,000 - $100,000</th>\n",
       "      <th>income_over $150,000</th>\n",
       "      <th>...</th>\n",
       "      <th>householdstatus_Single (no kids)</th>\n",
       "      <th>householdstatus_Single (w/kids)</th>\n",
       "      <th>educationlevel_Associate's Degree</th>\n",
       "      <th>educationlevel_Bachelor's Degree</th>\n",
       "      <th>educationlevel_Current K-12</th>\n",
       "      <th>educationlevel_Current Undergraduate</th>\n",
       "      <th>educationlevel_Doctoral Degree</th>\n",
       "      <th>educationlevel_High School Diploma</th>\n",
       "      <th>educationlevel_Master's Degree</th>\n",
       "      <th>target</th>\n",
       "    </tr>\n",
       "  </thead>\n",
       "  <tbody>\n",
       "    <tr>\n",
       "      <th>0</th>\n",
       "      <td>1</td>\n",
       "      <td>1938.0</td>\n",
       "      <td>Democrat</td>\n",
       "      <td>0</td>\n",
       "      <td>1</td>\n",
       "      <td>0</td>\n",
       "      <td>0</td>\n",
       "      <td>0</td>\n",
       "      <td>0</td>\n",
       "      <td>0</td>\n",
       "      <td>...</td>\n",
       "      <td>0</td>\n",
       "      <td>0</td>\n",
       "      <td>0</td>\n",
       "      <td>0</td>\n",
       "      <td>0</td>\n",
       "      <td>0</td>\n",
       "      <td>0</td>\n",
       "      <td>0</td>\n",
       "      <td>0</td>\n",
       "      <td>1</td>\n",
       "    </tr>\n",
       "    <tr>\n",
       "      <th>1</th>\n",
       "      <td>4</td>\n",
       "      <td>1970.0</td>\n",
       "      <td>Democrat</td>\n",
       "      <td>1</td>\n",
       "      <td>0</td>\n",
       "      <td>0</td>\n",
       "      <td>0</td>\n",
       "      <td>0</td>\n",
       "      <td>0</td>\n",
       "      <td>1</td>\n",
       "      <td>...</td>\n",
       "      <td>0</td>\n",
       "      <td>0</td>\n",
       "      <td>0</td>\n",
       "      <td>1</td>\n",
       "      <td>0</td>\n",
       "      <td>0</td>\n",
       "      <td>0</td>\n",
       "      <td>0</td>\n",
       "      <td>0</td>\n",
       "      <td>1</td>\n",
       "    </tr>\n",
       "    <tr>\n",
       "      <th>2</th>\n",
       "      <td>5</td>\n",
       "      <td>1997.0</td>\n",
       "      <td>Republican</td>\n",
       "      <td>0</td>\n",
       "      <td>1</td>\n",
       "      <td>0</td>\n",
       "      <td>0</td>\n",
       "      <td>0</td>\n",
       "      <td>1</td>\n",
       "      <td>0</td>\n",
       "      <td>...</td>\n",
       "      <td>1</td>\n",
       "      <td>0</td>\n",
       "      <td>0</td>\n",
       "      <td>0</td>\n",
       "      <td>0</td>\n",
       "      <td>0</td>\n",
       "      <td>0</td>\n",
       "      <td>1</td>\n",
       "      <td>0</td>\n",
       "      <td>0</td>\n",
       "    </tr>\n",
       "    <tr>\n",
       "      <th>3</th>\n",
       "      <td>8</td>\n",
       "      <td>1983.0</td>\n",
       "      <td>Democrat</td>\n",
       "      <td>0</td>\n",
       "      <td>1</td>\n",
       "      <td>1</td>\n",
       "      <td>0</td>\n",
       "      <td>0</td>\n",
       "      <td>0</td>\n",
       "      <td>0</td>\n",
       "      <td>...</td>\n",
       "      <td>0</td>\n",
       "      <td>0</td>\n",
       "      <td>0</td>\n",
       "      <td>1</td>\n",
       "      <td>0</td>\n",
       "      <td>0</td>\n",
       "      <td>0</td>\n",
       "      <td>0</td>\n",
       "      <td>0</td>\n",
       "      <td>1</td>\n",
       "    </tr>\n",
       "    <tr>\n",
       "      <th>4</th>\n",
       "      <td>9</td>\n",
       "      <td>1984.0</td>\n",
       "      <td>Republican</td>\n",
       "      <td>1</td>\n",
       "      <td>0</td>\n",
       "      <td>0</td>\n",
       "      <td>0</td>\n",
       "      <td>1</td>\n",
       "      <td>0</td>\n",
       "      <td>0</td>\n",
       "      <td>...</td>\n",
       "      <td>0</td>\n",
       "      <td>0</td>\n",
       "      <td>0</td>\n",
       "      <td>0</td>\n",
       "      <td>0</td>\n",
       "      <td>0</td>\n",
       "      <td>0</td>\n",
       "      <td>1</td>\n",
       "      <td>0</td>\n",
       "      <td>0</td>\n",
       "    </tr>\n",
       "    <tr>\n",
       "      <th>...</th>\n",
       "      <td>...</td>\n",
       "      <td>...</td>\n",
       "      <td>...</td>\n",
       "      <td>...</td>\n",
       "      <td>...</td>\n",
       "      <td>...</td>\n",
       "      <td>...</td>\n",
       "      <td>...</td>\n",
       "      <td>...</td>\n",
       "      <td>...</td>\n",
       "      <td>...</td>\n",
       "      <td>...</td>\n",
       "      <td>...</td>\n",
       "      <td>...</td>\n",
       "      <td>...</td>\n",
       "      <td>...</td>\n",
       "      <td>...</td>\n",
       "      <td>...</td>\n",
       "      <td>...</td>\n",
       "      <td>...</td>\n",
       "      <td>...</td>\n",
       "    </tr>\n",
       "    <tr>\n",
       "      <th>5563</th>\n",
       "      <td>6952</td>\n",
       "      <td>1945.0</td>\n",
       "      <td>Democrat</td>\n",
       "      <td>0</td>\n",
       "      <td>1</td>\n",
       "      <td>0</td>\n",
       "      <td>1</td>\n",
       "      <td>0</td>\n",
       "      <td>0</td>\n",
       "      <td>0</td>\n",
       "      <td>...</td>\n",
       "      <td>0</td>\n",
       "      <td>0</td>\n",
       "      <td>0</td>\n",
       "      <td>0</td>\n",
       "      <td>0</td>\n",
       "      <td>0</td>\n",
       "      <td>0</td>\n",
       "      <td>1</td>\n",
       "      <td>0</td>\n",
       "      <td>1</td>\n",
       "    </tr>\n",
       "    <tr>\n",
       "      <th>5564</th>\n",
       "      <td>6953</td>\n",
       "      <td>1970.0</td>\n",
       "      <td>Democrat</td>\n",
       "      <td>1</td>\n",
       "      <td>0</td>\n",
       "      <td>0</td>\n",
       "      <td>0</td>\n",
       "      <td>0</td>\n",
       "      <td>0</td>\n",
       "      <td>0</td>\n",
       "      <td>...</td>\n",
       "      <td>0</td>\n",
       "      <td>0</td>\n",
       "      <td>0</td>\n",
       "      <td>1</td>\n",
       "      <td>0</td>\n",
       "      <td>0</td>\n",
       "      <td>0</td>\n",
       "      <td>0</td>\n",
       "      <td>0</td>\n",
       "      <td>1</td>\n",
       "    </tr>\n",
       "    <tr>\n",
       "      <th>5565</th>\n",
       "      <td>6954</td>\n",
       "      <td>NaN</td>\n",
       "      <td>Democrat</td>\n",
       "      <td>0</td>\n",
       "      <td>1</td>\n",
       "      <td>0</td>\n",
       "      <td>0</td>\n",
       "      <td>1</td>\n",
       "      <td>0</td>\n",
       "      <td>0</td>\n",
       "      <td>...</td>\n",
       "      <td>1</td>\n",
       "      <td>0</td>\n",
       "      <td>0</td>\n",
       "      <td>1</td>\n",
       "      <td>0</td>\n",
       "      <td>0</td>\n",
       "      <td>0</td>\n",
       "      <td>0</td>\n",
       "      <td>0</td>\n",
       "      <td>1</td>\n",
       "    </tr>\n",
       "    <tr>\n",
       "      <th>5566</th>\n",
       "      <td>6955</td>\n",
       "      <td>1966.0</td>\n",
       "      <td>Democrat</td>\n",
       "      <td>0</td>\n",
       "      <td>1</td>\n",
       "      <td>0</td>\n",
       "      <td>0</td>\n",
       "      <td>0</td>\n",
       "      <td>0</td>\n",
       "      <td>1</td>\n",
       "      <td>...</td>\n",
       "      <td>0</td>\n",
       "      <td>0</td>\n",
       "      <td>0</td>\n",
       "      <td>1</td>\n",
       "      <td>0</td>\n",
       "      <td>0</td>\n",
       "      <td>0</td>\n",
       "      <td>0</td>\n",
       "      <td>0</td>\n",
       "      <td>1</td>\n",
       "    </tr>\n",
       "    <tr>\n",
       "      <th>5567</th>\n",
       "      <td>6956</td>\n",
       "      <td>NaN</td>\n",
       "      <td>Democrat</td>\n",
       "      <td>0</td>\n",
       "      <td>1</td>\n",
       "      <td>0</td>\n",
       "      <td>0</td>\n",
       "      <td>0</td>\n",
       "      <td>0</td>\n",
       "      <td>0</td>\n",
       "      <td>...</td>\n",
       "      <td>0</td>\n",
       "      <td>0</td>\n",
       "      <td>0</td>\n",
       "      <td>0</td>\n",
       "      <td>0</td>\n",
       "      <td>0</td>\n",
       "      <td>0</td>\n",
       "      <td>0</td>\n",
       "      <td>1</td>\n",
       "      <td>1</td>\n",
       "    </tr>\n",
       "  </tbody>\n",
       "</table>\n",
       "<p>5568 rows × 25 columns</p>\n",
       "</div>"
      ],
      "text/plain": [
       "      user_id     yob       party  gender_Female  gender_Male  \\\n",
       "0           1  1938.0    Democrat              0            1   \n",
       "1           4  1970.0    Democrat              1            0   \n",
       "2           5  1997.0  Republican              0            1   \n",
       "3           8  1983.0    Democrat              0            1   \n",
       "4           9  1984.0  Republican              1            0   \n",
       "...       ...     ...         ...            ...          ...   \n",
       "5563     6952  1945.0    Democrat              0            1   \n",
       "5564     6953  1970.0    Democrat              1            0   \n",
       "5565     6954     NaN    Democrat              0            1   \n",
       "5566     6955  1966.0    Democrat              0            1   \n",
       "5567     6956     NaN    Democrat              0            1   \n",
       "\n",
       "      income_$100,001 - $150,000  income_$25,001 - $50,000  \\\n",
       "0                              0                         0   \n",
       "1                              0                         0   \n",
       "2                              0                         0   \n",
       "3                              1                         0   \n",
       "4                              0                         0   \n",
       "...                          ...                       ...   \n",
       "5563                           0                         1   \n",
       "5564                           0                         0   \n",
       "5565                           0                         0   \n",
       "5566                           0                         0   \n",
       "5567                           0                         0   \n",
       "\n",
       "      income_$50,000 - $74,999  income_$75,000 - $100,000  \\\n",
       "0                            0                          0   \n",
       "1                            0                          0   \n",
       "2                            0                          1   \n",
       "3                            0                          0   \n",
       "4                            1                          0   \n",
       "...                        ...                        ...   \n",
       "5563                         0                          0   \n",
       "5564                         0                          0   \n",
       "5565                         1                          0   \n",
       "5566                         0                          0   \n",
       "5567                         0                          0   \n",
       "\n",
       "      income_over $150,000  ...  householdstatus_Single (no kids)  \\\n",
       "0                        0  ...                                 0   \n",
       "1                        1  ...                                 0   \n",
       "2                        0  ...                                 1   \n",
       "3                        0  ...                                 0   \n",
       "4                        0  ...                                 0   \n",
       "...                    ...  ...                               ...   \n",
       "5563                     0  ...                                 0   \n",
       "5564                     0  ...                                 0   \n",
       "5565                     0  ...                                 1   \n",
       "5566                     1  ...                                 0   \n",
       "5567                     0  ...                                 0   \n",
       "\n",
       "      householdstatus_Single (w/kids)  educationlevel_Associate's Degree  \\\n",
       "0                                   0                                  0   \n",
       "1                                   0                                  0   \n",
       "2                                   0                                  0   \n",
       "3                                   0                                  0   \n",
       "4                                   0                                  0   \n",
       "...                               ...                                ...   \n",
       "5563                                0                                  0   \n",
       "5564                                0                                  0   \n",
       "5565                                0                                  0   \n",
       "5566                                0                                  0   \n",
       "5567                                0                                  0   \n",
       "\n",
       "      educationlevel_Bachelor's Degree  educationlevel_Current K-12  \\\n",
       "0                                    0                            0   \n",
       "1                                    1                            0   \n",
       "2                                    0                            0   \n",
       "3                                    1                            0   \n",
       "4                                    0                            0   \n",
       "...                                ...                          ...   \n",
       "5563                                 0                            0   \n",
       "5564                                 1                            0   \n",
       "5565                                 1                            0   \n",
       "5566                                 1                            0   \n",
       "5567                                 0                            0   \n",
       "\n",
       "      educationlevel_Current Undergraduate  educationlevel_Doctoral Degree  \\\n",
       "0                                        0                               0   \n",
       "1                                        0                               0   \n",
       "2                                        0                               0   \n",
       "3                                        0                               0   \n",
       "4                                        0                               0   \n",
       "...                                    ...                             ...   \n",
       "5563                                     0                               0   \n",
       "5564                                     0                               0   \n",
       "5565                                     0                               0   \n",
       "5566                                     0                               0   \n",
       "5567                                     0                               0   \n",
       "\n",
       "      educationlevel_High School Diploma  educationlevel_Master's Degree  \\\n",
       "0                                      0                               0   \n",
       "1                                      0                               0   \n",
       "2                                      1                               0   \n",
       "3                                      0                               0   \n",
       "4                                      1                               0   \n",
       "...                                  ...                             ...   \n",
       "5563                                   1                               0   \n",
       "5564                                   0                               0   \n",
       "5565                                   0                               0   \n",
       "5566                                   0                               0   \n",
       "5567                                   0                               1   \n",
       "\n",
       "      target  \n",
       "0          1  \n",
       "1          1  \n",
       "2          0  \n",
       "3          1  \n",
       "4          0  \n",
       "...      ...  \n",
       "5563       1  \n",
       "5564       1  \n",
       "5565       1  \n",
       "5566       1  \n",
       "5567       1  \n",
       "\n",
       "[5568 rows x 25 columns]"
      ]
     },
     "execution_count": 121,
     "metadata": {},
     "output_type": "execute_result"
    }
   ],
   "source": [
    "dummy_df"
   ]
  },
  {
   "cell_type": "code",
   "execution_count": 122,
   "metadata": {},
   "outputs": [
    {
     "data": {
      "text/plain": [
       "<seaborn.axisgrid.PairGrid at 0x233b65c410>"
      ]
     },
     "execution_count": 122,
     "metadata": {},
     "output_type": "execute_result"
    },
    {
     "data": {
      "image/png": "[encoded data removed]",
      "text/plain": [
       "<Figure size 900x900 with 30 Axes>"
      ]
     },
     "metadata": {
      "needs_background": "light"
     },
     "output_type": "display_data"
    }
   ],
   "source": [
    "sns.pairplot(dummy_df[['user_id','yob', 'target', 'gender_Female', 'gender_Male']])"
   ]
  },
  {
   "cell_type": "markdown",
   "metadata": {},
   "source": [
    "Pairplot didn't help. Let's write a function to view bar charts showing the distribution of voting for each feature"
   ]
  },
  {
   "cell_type": "code",
   "execution_count": 252,
   "metadata": {},
   "outputs": [],
   "source": [
    "def plot_feature(df,column):\n",
    "    \"\"\"\n",
    "    Purpose: Show distribution of voting between republicans and democrats for the feature inputed\n",
    "    Arguments: dataframe with the features and column name\n",
    "    Returns: Bar plot for distribution for the particular feature, and percentage split between two groups\n",
    "    \"\"\"\n",
    "    mask = df[column] == 1\n",
    "    \n",
    "    #assigning variables \n",
    "    if df[mask].party.value_counts().index[0] == 'Democrat':\n",
    "        amount_dem = df[mask].party.value_counts()[0]\n",
    "        amount_rep = df[mask].party.value_counts()[1]\n",
    "    else:\n",
    "        amount_dem = df[mask].party.value_counts()[1]\n",
    "        amount_rep = df[mask].party.value_counts()[0]\n",
    "    \n",
    "    #plotting the bar graph\n",
    "    plt.bar(['Democrat','Republican'], [amount_dem,amount_rep])\n",
    "    \n",
    "    #printing the percentages of republicans and democrats in this group\n",
    "    print('Democrats: ' + str(100*(amount_dem/(amount_dem+amount_rep))))\n",
    "    print('Republicans: ' + str(100*(amount_rep/(amount_dem+amount_rep))))\n",
    "    \n",
    "    return df[mask].party.value_counts()"
   ]
  },
  {
   "cell_type": "markdown",
   "metadata": {},
   "source": [
    "## Gender"
   ]
  },
  {
   "cell_type": "markdown",
   "metadata": {},
   "source": [
    "Male"
   ]
  },
  {
   "cell_type": "code",
   "execution_count": 253,
   "metadata": {},
   "outputs": [
    {
     "name": "stdout",
     "output_type": "stream",
     "text": [
      "Democrats: 48.51127819548872\n",
      "Republicans: 51.48872180451127\n"
     ]
    },
    {
     "data": {
      "text/plain": [
       "Republican    1712\n",
       "Democrat      1613\n",
       "Name: party, dtype: int64"
      ]
     },
     "execution_count": 253,
     "metadata": {},
     "output_type": "execute_result"
    },
    {
     "data": {
      "image/png": "[encoded data removed]",
      "text/plain": [
       "<Figure size 432x288 with 1 Axes>"
      ]
     },
     "metadata": {
      "needs_background": "light"
     },
     "output_type": "display_data"
    }
   ],
   "source": [
    "plot_feature(dummy_df,'gender_Male')"
   ]
  },
  {
   "cell_type": "markdown",
   "metadata": {},
   "source": [
    "Female"
   ]
  },
  {
   "cell_type": "code",
   "execution_count": 254,
   "metadata": {},
   "outputs": [
    {
     "name": "stdout",
     "output_type": "stream",
     "text": [
      "Democrats: 59.859154929577464\n",
      "Republicans: 40.140845070422536\n"
     ]
    },
    {
     "data": {
      "text/plain": [
       "Democrat      1275\n",
       "Republican     855\n",
       "Name: party, dtype: int64"
      ]
     },
     "execution_count": 254,
     "metadata": {},
     "output_type": "execute_result"
    },
    {
     "data": {
      "image/png": "[encoded data removed]",
      "text/plain": [
       "<Figure size 432x288 with 1 Axes>"
      ]
     },
     "metadata": {
      "needs_background": "light"
     },
     "output_type": "display_data"
    }
   ],
   "source": [
    "plot_feature(dummy_df,'gender_Female')"
   ]
  },
  {
   "cell_type": "markdown",
   "metadata": {},
   "source": [
    "**First insight: Males in this sample tend to pretty evenly split but Females are more likely to vote Democrat**"
   ]
  },
  {
   "cell_type": "markdown",
   "metadata": {},
   "source": [
    "## YOB"
   ]
  },
  {
   "cell_type": "code",
   "execution_count": 164,
   "metadata": {},
   "outputs": [
    {
     "data": {
      "text/plain": [
       "1983.0"
      ]
     },
     "execution_count": 164,
     "metadata": {},
     "output_type": "execute_result"
    }
   ],
   "source": [
    "#ok so the median yob is 1983 so I'll cut the data in half \n",
    "dummy_df.yob.median()"
   ]
  },
  {
   "cell_type": "code",
   "execution_count": 174,
   "metadata": {},
   "outputs": [
    {
     "data": {
      "text/plain": [
       "<BarContainer object of 2 artists>"
      ]
     },
     "execution_count": 174,
     "metadata": {},
     "output_type": "execute_result"
    },
    {
     "data": {
      "image/png": "[encoded data removed]",
      "text/plain": [
       "<Figure size 432x288 with 1 Axes>"
      ]
     },
     "metadata": {
      "needs_background": "light"
     },
     "output_type": "display_data"
    }
   ],
   "source": [
    "median_yob = dummy_df.yob.median()\n",
    "#dummy_df[dummy_df.yob >= median_yob].party.value_counts()\n",
    "\n",
    "#For people born on or after 1983 here is the distribution between republican and democrat\n",
    "plt.bar(['Democrat','Republican'],dummy_df[dummy_df.yob >= median_yob].party.value_counts())"
   ]
  },
  {
   "cell_type": "code",
   "execution_count": 175,
   "metadata": {},
   "outputs": [
    {
     "data": {
      "text/plain": [
       "<BarContainer object of 2 artists>"
      ]
     },
     "execution_count": 175,
     "metadata": {},
     "output_type": "execute_result"
    },
    {
     "data": {
      "image/png": "[encoded data removed]",
      "text/plain": [
       "<Figure size 432x288 with 1 Axes>"
      ]
     },
     "metadata": {
      "needs_background": "light"
     },
     "output_type": "display_data"
    }
   ],
   "source": [
    "#For people born before 1983 here is the distribution between republican and democrat\n",
    "plt.bar(['Democrat','Republican'],dummy_df[dummy_df.yob < median_yob].party.value_counts())"
   ]
  },
  {
   "cell_type": "markdown",
   "metadata": {},
   "source": [
    "**Both groups lean democrat slightly. Let's push the split year back and see what happens**"
   ]
  },
  {
   "cell_type": "markdown",
   "metadata": {},
   "source": [
    "### 18-34 year olds"
   ]
  },
  {
   "cell_type": "code",
   "execution_count": 187,
   "metadata": {},
   "outputs": [
    {
     "data": {
      "text/plain": [
       "Democrat      1243\n",
       "Republican    1100\n",
       "Name: party, dtype: int64"
      ]
     },
     "execution_count": 187,
     "metadata": {},
     "output_type": "execute_result"
    },
    {
     "data": {
      "image/png": "[encoded data removed]",
      "text/plain": [
       "<Figure size 432x288 with 1 Axes>"
      ]
     },
     "metadata": {
      "needs_background": "light"
     },
     "output_type": "display_data"
    }
   ],
   "source": [
    "#For 18-34 year olds here is the distribution between republican and democrat\n",
    "mask = (dummy_df.yob <= 1995) & (dummy_df.yob >= 1979)\n",
    "plt.bar(['Democrat','Republican'],dummy_df[mask].party.value_counts())\n",
    "dummy_df[mask].party.value_counts()"
   ]
  },
  {
   "cell_type": "markdown",
   "metadata": {},
   "source": [
    "### 35-55 year olds"
   ]
  },
  {
   "cell_type": "code",
   "execution_count": 188,
   "metadata": {},
   "outputs": [
    {
     "data": {
      "text/plain": [
       "Democrat      835\n",
       "Republican    741\n",
       "Name: party, dtype: int64"
      ]
     },
     "execution_count": 188,
     "metadata": {},
     "output_type": "execute_result"
    },
    {
     "data": {
      "image/png": "[encoded data removed]",
      "text/plain": [
       "<Figure size 432x288 with 1 Axes>"
      ]
     },
     "metadata": {
      "needs_background": "light"
     },
     "output_type": "display_data"
    }
   ],
   "source": [
    "#For people 35-55 years old here is the distribution between republican and democrat\n",
    "mask = (dummy_df.yob < 1979) & (dummy_df.yob >= 1958)\n",
    "plt.bar(['Democrat','Republican'],dummy_df[mask].party.value_counts())\n",
    "dummy_df[mask].party.value_counts()"
   ]
  },
  {
   "cell_type": "markdown",
   "metadata": {},
   "source": [
    "### 55+"
   ]
  },
  {
   "cell_type": "code",
   "execution_count": 189,
   "metadata": {},
   "outputs": [
    {
     "data": {
      "text/plain": [
       "Democrat      310\n",
       "Republican    238\n",
       "Name: party, dtype: int64"
      ]
     },
     "execution_count": 189,
     "metadata": {},
     "output_type": "execute_result"
    },
    {
     "data": {
      "image/png": "[encoded data removed]",
      "text/plain": [
       "<Figure size 432x288 with 1 Axes>"
      ]
     },
     "metadata": {
      "needs_background": "light"
     },
     "output_type": "display_data"
    }
   ],
   "source": [
    "#For people over 55 years old here is the distribution between republican and democrat\n",
    "mask = (dummy_df.yob < 1958)\n",
    "plt.bar(['Democrat','Republican'],dummy_df[mask].party.value_counts())\n",
    "dummy_df[mask].party.value_counts()"
   ]
  },
  {
   "cell_type": "markdown",
   "metadata": {},
   "source": [
    "**Ok so no real difference in age**"
   ]
  },
  {
   "cell_type": "code",
   "execution_count": 183,
   "metadata": {},
   "outputs": [],
   "source": [
    "#saving this df\n",
    "dummy_df.to_pickle(\"dummy_df.pkl\")"
   ]
  },
  {
   "cell_type": "markdown",
   "metadata": {},
   "source": [
    "## Income Level"
   ]
  },
  {
   "cell_type": "markdown",
   "metadata": {},
   "source": [
    "### Under $25k "
   ]
  },
  {
   "cell_type": "code",
   "execution_count": 223,
   "metadata": {},
   "outputs": [
    {
     "name": "stdout",
     "output_type": "stream",
     "text": [
      "Democrats: 53.954802259887\n",
      "Republicans: 46.04519774011299\n"
     ]
    },
    {
     "data": {
      "text/plain": [
       "(Democrat      382\n",
       " Republican    326\n",
       " Name: party, dtype: int64,)"
      ]
     },
     "execution_count": 223,
     "metadata": {},
     "output_type": "execute_result"
    },
    {
     "data": {
      "image/png": "[encoded data removed]",
      "text/plain": [
       "<Figure size 432x288 with 1 Axes>"
      ]
     },
     "metadata": {
      "needs_background": "light"
     },
     "output_type": "display_data"
    }
   ],
   "source": [
    "#showing the distribution of voting for the income level: 25,001 - $50,000\n",
    "plot_feature(dummy_df,'income_under $25,000')"
   ]
  },
  {
   "cell_type": "markdown",
   "metadata": {},
   "source": [
    "### $25k to 50k"
   ]
  },
  {
   "cell_type": "code",
   "execution_count": 230,
   "metadata": {},
   "outputs": [
    {
     "name": "stdout",
     "output_type": "stream",
     "text": [
      "Democrats: 53.954802259887\n",
      "Republicans: 46.04519774011299\n"
     ]
    },
    {
     "data": {
      "text/plain": [
       "(Democrat      382\n",
       " Republican    326\n",
       " Name: party, dtype: int64,)"
      ]
     },
     "execution_count": 230,
     "metadata": {},
     "output_type": "execute_result"
    },
    {
     "data": {
      "image/png": "[encoded data removed]",
      "text/plain": [
       "<Figure size 432x288 with 1 Axes>"
      ]
     },
     "metadata": {
      "needs_background": "light"
     },
     "output_type": "display_data"
    }
   ],
   "source": [
    "#showing the distribution of voting for the income level: 25,001 - $50,000\n",
    "plot_feature(dummy_df,'income_$25,001 - $50,000')"
   ]
  },
  {
   "cell_type": "markdown",
   "metadata": {},
   "source": [
    "### $50k to 75k"
   ]
  },
  {
   "cell_type": "code",
   "execution_count": 226,
   "metadata": {},
   "outputs": [
    {
     "name": "stdout",
     "output_type": "stream",
     "text": [
      "Democrats: 53.66748166259169\n",
      "Republicans: 46.33251833740831\n"
     ]
    },
    {
     "data": {
      "text/plain": [
       "(Democrat      439\n",
       " Republican    379\n",
       " Name: party, dtype: int64,)"
      ]
     },
     "execution_count": 226,
     "metadata": {},
     "output_type": "execute_result"
    },
    {
     "data": {
      "image/png": "[encoded data removed]",
      "text/plain": [
       "<Figure size 432x288 with 1 Axes>"
      ]
     },
     "metadata": {
      "needs_background": "light"
     },
     "output_type": "display_data"
    }
   ],
   "source": [
    "#showing the distribution of voting for the income level: $50,000 - $74,999\n",
    "plot_feature(dummy_df,'income_$50,000 - $74,999')"
   ]
  },
  {
   "cell_type": "markdown",
   "metadata": {},
   "source": [
    "### $100k to 150k"
   ]
  },
  {
   "cell_type": "code",
   "execution_count": 228,
   "metadata": {},
   "outputs": [
    {
     "name": "stdout",
     "output_type": "stream",
     "text": [
      "Democrats: 53.255208333333336\n",
      "Republicans: 46.74479166666667\n"
     ]
    },
    {
     "data": {
      "text/plain": [
       "(Democrat      409\n",
       " Republican    359\n",
       " Name: party, dtype: int64,)"
      ]
     },
     "execution_count": 228,
     "metadata": {},
     "output_type": "execute_result"
    },
    {
     "data": {
      "image/png": "[encoded data removed]",
      "text/plain": [
       "<Figure size 432x288 with 1 Axes>"
      ]
     },
     "metadata": {
      "needs_background": "light"
     },
     "output_type": "display_data"
    }
   ],
   "source": [
    "#showing the distribution of voting for the income level: $100,001 - $150,000\n",
    "plot_feature(dummy_df,'income_$100,001 - $150,000')"
   ]
  },
  {
   "cell_type": "markdown",
   "metadata": {},
   "source": [
    "### $150k+"
   ]
  },
  {
   "cell_type": "code",
   "execution_count": 229,
   "metadata": {},
   "outputs": [
    {
     "name": "stdout",
     "output_type": "stream",
     "text": [
      "Democrats: 48.1029810298103\n",
      "Republicans: 51.8970189701897\n"
     ]
    },
    {
     "data": {
      "text/plain": [
       "(Republican    383\n",
       " Democrat      355\n",
       " Name: party, dtype: int64,)"
      ]
     },
     "execution_count": 229,
     "metadata": {},
     "output_type": "execute_result"
    },
    {
     "data": {
      "image/png": "[encoded data removed]",
      "text/plain": [
       "<Figure size 432x288 with 1 Axes>"
      ]
     },
     "metadata": {
      "needs_background": "light"
     },
     "output_type": "display_data"
    }
   ],
   "source": [
    "#showing the distribution of voting for the income level: over $150,000\n",
    "plot_feature(dummy_df,'income_over $150,000')"
   ]
  },
  {
   "cell_type": "markdown",
   "metadata": {},
   "source": [
    "## Marital Status"
   ]
  },
  {
   "cell_type": "markdown",
   "metadata": {},
   "source": [
    "### Domestic Partners (no kids):"
   ]
  },
  {
   "cell_type": "code",
   "execution_count": 232,
   "metadata": {},
   "outputs": [
    {
     "name": "stdout",
     "output_type": "stream",
     "text": [
      "Democrats: 72.77777777777777\n",
      "Republicans: 27.22222222222222\n"
     ]
    },
    {
     "data": {
      "text/plain": [
       "(Democrat      131\n",
       " Republican     49\n",
       " Name: party, dtype: int64,)"
      ]
     },
     "execution_count": 232,
     "metadata": {},
     "output_type": "execute_result"
    },
    {
     "data": {
      "image/png": "[encoded data removed]",
      "text/plain": [
       "<Figure size 432x288 with 1 Axes>"
      ]
     },
     "metadata": {
      "needs_background": "light"
     },
     "output_type": "display_data"
    }
   ],
   "source": [
    "plot_feature(dummy_df,'householdstatus_Domestic Partners (no kids)')"
   ]
  },
  {
   "cell_type": "markdown",
   "metadata": {},
   "source": [
    "### Domestic Partners w/kids"
   ]
  },
  {
   "cell_type": "code",
   "execution_count": 234,
   "metadata": {},
   "outputs": [
    {
     "name": "stdout",
     "output_type": "stream",
     "text": [
      "Democrats: 57.377049180327866\n",
      "Republicans: 42.62295081967213\n"
     ]
    },
    {
     "data": {
      "text/plain": [
       "(Democrat      35\n",
       " Republican    26\n",
       " Name: party, dtype: int64,)"
      ]
     },
     "execution_count": 234,
     "metadata": {},
     "output_type": "execute_result"
    },
    {
     "data": {
      "image/png": "[encoded data removed]",
      "text/plain": [
       "<Figure size 432x288 with 1 Axes>"
      ]
     },
     "metadata": {
      "needs_background": "light"
     },
     "output_type": "display_data"
    }
   ],
   "source": [
    "plot_feature(dummy_df,'householdstatus_Domestic Partners (w/kids)')"
   ]
  },
  {
   "cell_type": "markdown",
   "metadata": {},
   "source": [
    "### Married no kids"
   ]
  },
  {
   "cell_type": "code",
   "execution_count": 235,
   "metadata": {},
   "outputs": [
    {
     "name": "stdout",
     "output_type": "stream",
     "text": [
      "Democrats: 52.760736196319016\n",
      "Republicans: 47.239263803680984\n"
     ]
    },
    {
     "data": {
      "text/plain": [
       "(Democrat      344\n",
       " Republican    308\n",
       " Name: party, dtype: int64,)"
      ]
     },
     "execution_count": 235,
     "metadata": {},
     "output_type": "execute_result"
    },
    {
     "data": {
      "image/png": "[encoded data removed]",
      "text/plain": [
       "<Figure size 432x288 with 1 Axes>"
      ]
     },
     "metadata": {
      "needs_background": "light"
     },
     "output_type": "display_data"
    }
   ],
   "source": [
    "plot_feature(dummy_df,'householdstatus_Married (no kids)')"
   ]
  },
  {
   "cell_type": "markdown",
   "metadata": {},
   "source": [
    "### Married with kids"
   ]
  },
  {
   "cell_type": "code",
   "execution_count": 237,
   "metadata": {},
   "outputs": [
    {
     "name": "stdout",
     "output_type": "stream",
     "text": [
      "Democrats: 47.17691342534505\n",
      "Republicans: 52.82308657465495\n"
     ]
    },
    {
     "data": {
      "text/plain": [
       "(Republican    842\n",
       " Democrat      752\n",
       " Name: party, dtype: int64,)"
      ]
     },
     "execution_count": 237,
     "metadata": {},
     "output_type": "execute_result"
    },
    {
     "data": {
      "image/png": "[encoded data removed]",
      "text/plain": [
       "<Figure size 432x288 with 1 Axes>"
      ]
     },
     "metadata": {
      "needs_background": "light"
     },
     "output_type": "display_data"
    }
   ],
   "source": [
    "plot_feature(dummy_df,'householdstatus_Married (w/kids)')"
   ]
  },
  {
   "cell_type": "markdown",
   "metadata": {},
   "source": [
    "### Single no kids"
   ]
  },
  {
   "cell_type": "code",
   "execution_count": 238,
   "metadata": {},
   "outputs": [
    {
     "name": "stdout",
     "output_type": "stream",
     "text": [
      "Democrats: 55.121349238996295\n",
      "Republicans: 44.878650761003705\n"
     ]
    },
    {
     "data": {
      "text/plain": [
       "(Democrat      1340\n",
       " Republican    1091\n",
       " Name: party, dtype: int64,)"
      ]
     },
     "execution_count": 238,
     "metadata": {},
     "output_type": "execute_result"
    },
    {
     "data": {
      "image/png": "[encoded data removed]",
      "text/plain": [
       "<Figure size 432x288 with 1 Axes>"
      ]
     },
     "metadata": {
      "needs_background": "light"
     },
     "output_type": "display_data"
    }
   ],
   "source": [
    "plot_feature(dummy_df,'householdstatus_Single (no kids)')"
   ]
  },
  {
   "cell_type": "markdown",
   "metadata": {},
   "source": [
    "### Single with kids"
   ]
  },
  {
   "cell_type": "code",
   "execution_count": 239,
   "metadata": {},
   "outputs": [
    {
     "name": "stdout",
     "output_type": "stream",
     "text": [
      "Democrats: 59.5\n",
      "Republicans: 40.5\n"
     ]
    },
    {
     "data": {
      "text/plain": [
       "(Democrat      119\n",
       " Republican     81\n",
       " Name: party, dtype: int64,)"
      ]
     },
     "execution_count": 239,
     "metadata": {},
     "output_type": "execute_result"
    },
    {
     "data": {
      "image/png": "[encoded data removed]",
      "text/plain": [
       "<Figure size 432x288 with 1 Axes>"
      ]
     },
     "metadata": {
      "needs_background": "light"
     },
     "output_type": "display_data"
    }
   ],
   "source": [
    "plot_feature(dummy_df,'householdstatus_Single (w/kids)')"
   ]
  },
  {
   "cell_type": "markdown",
   "metadata": {},
   "source": [
    "## Education"
   ]
  },
  {
   "cell_type": "markdown",
   "metadata": {},
   "source": [
    "### Associates Degree"
   ]
  },
  {
   "cell_type": "code",
   "execution_count": 242,
   "metadata": {},
   "outputs": [
    {
     "name": "stdout",
     "output_type": "stream",
     "text": [
      "Democrats: 46.8421052631579\n",
      "Republicans: 53.1578947368421\n"
     ]
    },
    {
     "data": {
      "text/plain": [
       "(Republican    202\n",
       " Democrat      178\n",
       " Name: party, dtype: int64,)"
      ]
     },
     "execution_count": 242,
     "metadata": {},
     "output_type": "execute_result"
    },
    {
     "data": {
      "image/png": "[encoded data removed]",
      "text/plain": [
       "<Figure size 432x288 with 1 Axes>"
      ]
     },
     "metadata": {
      "needs_background": "light"
     },
     "output_type": "display_data"
    }
   ],
   "source": [
    "plot_feature(dummy_df,\"educationlevel_Associate's Degree\")"
   ]
  },
  {
   "cell_type": "markdown",
   "metadata": {},
   "source": [
    "### Bachelor's Degree"
   ]
  },
  {
   "cell_type": "code",
   "execution_count": 243,
   "metadata": {},
   "outputs": [
    {
     "name": "stdout",
     "output_type": "stream",
     "text": [
      "Democrats: 54.72636815920397\n",
      "Republicans: 45.27363184079602\n"
     ]
    },
    {
     "data": {
      "text/plain": [
       "(Democrat      660\n",
       " Republican    546\n",
       " Name: party, dtype: int64,)"
      ]
     },
     "execution_count": 243,
     "metadata": {},
     "output_type": "execute_result"
    },
    {
     "data": {
      "image/png": "[encoded data removed]",
      "text/plain": [
       "<Figure size 432x288 with 1 Axes>"
      ]
     },
     "metadata": {
      "needs_background": "light"
     },
     "output_type": "display_data"
    }
   ],
   "source": [
    "plot_feature(dummy_df,\"educationlevel_Bachelor's Degree\")"
   ]
  },
  {
   "cell_type": "markdown",
   "metadata": {},
   "source": [
    "### Current K-12"
   ]
  },
  {
   "cell_type": "code",
   "execution_count": 244,
   "metadata": {},
   "outputs": [
    {
     "name": "stdout",
     "output_type": "stream",
     "text": [
      "Democrats: 51.86522262334536\n",
      "Republicans: 48.13477737665463\n"
     ]
    },
    {
     "data": {
      "text/plain": [
       "(Democrat      431\n",
       " Republican    400\n",
       " Name: party, dtype: int64,)"
      ]
     },
     "execution_count": 244,
     "metadata": {},
     "output_type": "execute_result"
    },
    {
     "data": {
      "image/png": "[encoded data removed]",
      "text/plain": [
       "<Figure size 432x288 with 1 Axes>"
      ]
     },
     "metadata": {
      "needs_background": "light"
     },
     "output_type": "display_data"
    }
   ],
   "source": [
    "plot_feature(dummy_df,\"educationlevel_Current K-12\")"
   ]
  },
  {
   "cell_type": "markdown",
   "metadata": {},
   "source": [
    "### Current Undergrad"
   ]
  },
  {
   "cell_type": "code",
   "execution_count": 245,
   "metadata": {},
   "outputs": [
    {
     "name": "stdout",
     "output_type": "stream",
     "text": [
      "Democrats: 54.88917861799217\n",
      "Republicans: 45.11082138200782\n"
     ]
    },
    {
     "data": {
      "text/plain": [
       "(Democrat      421\n",
       " Republican    346\n",
       " Name: party, dtype: int64,)"
      ]
     },
     "execution_count": 245,
     "metadata": {},
     "output_type": "execute_result"
    },
    {
     "data": {
      "image/png": "[encoded data removed]",
      "text/plain": [
       "<Figure size 432x288 with 1 Axes>"
      ]
     },
     "metadata": {
      "needs_background": "light"
     },
     "output_type": "display_data"
    }
   ],
   "source": [
    "plot_feature(dummy_df,\"educationlevel_Current Undergraduate\")"
   ]
  },
  {
   "cell_type": "markdown",
   "metadata": {},
   "source": [
    "### Doctoral Degree"
   ]
  },
  {
   "cell_type": "code",
   "execution_count": 246,
   "metadata": {},
   "outputs": [
    {
     "name": "stdout",
     "output_type": "stream",
     "text": [
      "Democrats: 55.05050505050505\n",
      "Republicans: 44.94949494949495\n"
     ]
    },
    {
     "data": {
      "text/plain": [
       "(Democrat      109\n",
       " Republican     89\n",
       " Name: party, dtype: int64,)"
      ]
     },
     "execution_count": 246,
     "metadata": {},
     "output_type": "execute_result"
    },
    {
     "data": {
      "image/png": "[encoded data removed]",
      "text/plain": [
       "<Figure size 432x288 with 1 Axes>"
      ]
     },
     "metadata": {
      "needs_background": "light"
     },
     "output_type": "display_data"
    }
   ],
   "source": [
    "plot_feature(dummy_df,'educationlevel_Doctoral Degree')"
   ]
  },
  {
   "cell_type": "markdown",
   "metadata": {},
   "source": [
    "### High School Diploma"
   ]
  },
  {
   "cell_type": "code",
   "execution_count": 247,
   "metadata": {},
   "outputs": [
    {
     "name": "stdout",
     "output_type": "stream",
     "text": [
      "Democrats: 50.51395007342144\n",
      "Republicans: 49.48604992657856\n"
     ]
    },
    {
     "data": {
      "text/plain": [
       "(Democrat      344\n",
       " Republican    337\n",
       " Name: party, dtype: int64,)"
      ]
     },
     "execution_count": 247,
     "metadata": {},
     "output_type": "execute_result"
    },
    {
     "data": {
      "image/png": "[encoded data removed]",
      "text/plain": [
       "<Figure size 432x288 with 1 Axes>"
      ]
     },
     "metadata": {
      "needs_background": "light"
     },
     "output_type": "display_data"
    }
   ],
   "source": [
    "plot_feature(dummy_df,'educationlevel_High School Diploma')"
   ]
  },
  {
   "cell_type": "markdown",
   "metadata": {},
   "source": [
    "### Master's Degree"
   ]
  },
  {
   "cell_type": "code",
   "execution_count": 249,
   "metadata": {},
   "outputs": [
    {
     "name": "stdout",
     "output_type": "stream",
     "text": [
      "Democrats: 57.58998435054773\n",
      "Republicans: 42.41001564945227\n"
     ]
    },
    {
     "data": {
      "text/plain": [
       "(Democrat      368\n",
       " Republican    271\n",
       " Name: party, dtype: int64,)"
      ]
     },
     "execution_count": 249,
     "metadata": {},
     "output_type": "execute_result"
    },
    {
     "data": {
      "image/png": "[encoded data removed]",
      "text/plain": [
       "<Figure size 432x288 with 1 Axes>"
      ]
     },
     "metadata": {
      "needs_background": "light"
     },
     "output_type": "display_data"
    }
   ],
   "source": [
    "plot_feature(dummy_df,\"educationlevel_Master's Degree\")"
   ]
  },
  {
   "cell_type": "markdown",
   "metadata": {},
   "source": [
    "**Features with 60% or greater split**"
   ]
  },
  {
   "cell_type": "markdown",
   "metadata": {},
   "source": [
    "1. Domestic Partners no kids (dem)\n",
    "1. Single with kids (dem)\n",
    "1. Female_gender (dem)"
   ]
  },
  {
   "cell_type": "markdown",
   "metadata": {},
   "source": [
    "**Some more basic visualizations down here:**"
   ]
  },
  {
   "cell_type": "code",
   "execution_count": 44,
   "metadata": {},
   "outputs": [],
   "source": [
    "def plot_dem_versus_rep(df):\n",
    "    \"\"\"\n",
    "    Purpose: Show distribution of voting between republians and democrats for the whole dataset\n",
    "    Arguments: dataframe with voters and a column named 'Party' containing the party they intend to vote for\n",
    "    Returns: Bar plot showing how many people say they are voting either rep or dem\n",
    "    \"\"\"\n",
    "    \n",
    "    \n",
    "    #assigning variables \n",
    "    if df.Party.value_counts().index[0] == 'Democrat':\n",
    "        amount_dem = df.Party.value_counts()[0]\n",
    "        amount_rep = df.Party.value_counts()[1]\n",
    "    else:\n",
    "        amount_dem = df.Party.value_counts()[1]\n",
    "        amount_rep = df.Party.value_counts()[0]\n",
    "    \n",
    "    #plotting the bar graph\n",
    "    plt.figure(figsize=(12,8))\n",
    "    barlist = plt.bar(['Democrat','Republican'], [amount_dem,amount_rep])\n",
    "    barlist[0].set_color('b')\n",
    "    barlist[1].set_color('r')\n",
    "    plt.xticks(fontsize=15, color='black')\n",
    "    plt.yticks(fontsize=10, color='black')\n",
    "    plt.ylabel('Amount', fontsize=15, rotation='horizontal', horizontalalignment='right', color='black')\n",
    "    ax = plt.axes()        \n",
    "    ax.xaxis.grid(False) \n",
    "    \n",
    "    plt.savefig('Total_dems_vs_reps.png',format='png',bbox_inches='tight')\n",
    "    \n",
    "    #printing the percentages of republicans and democrats in this group\n",
    "    print('Democrats: ' + str(100*(amount_dem/(amount_dem+amount_rep))))\n",
    "    print('Republicans: ' + str(100*(amount_rep/(amount_dem+amount_rep))))\n",
    "    \n",
    "    return df.Party.value_counts()"
   ]
  },
  {
   "cell_type": "code",
   "execution_count": 45,
   "metadata": {},
   "outputs": [
    {
     "name": "stdout",
     "output_type": "stream",
     "text": [
      "Democrats: 52.99928160919541\n",
      "Republicans: 47.00071839080459\n"
     ]
    },
    {
     "name": "stderr",
     "output_type": "stream",
     "text": [
      "/Users/samir/opt/anaconda3/envs/metis/lib/python3.7/site-packages/ipykernel_launcher.py:25: MatplotlibDeprecationWarning: Adding an axes using the same arguments as a previous axes currently reuses the earlier instance.  In a future version, a new instance will always be created and returned.  Meanwhile, this warning can be suppressed, and the future behavior ensured, by passing a unique label to each axes instance.\n"
     ]
    },
    {
     "data": {
      "text/plain": [
       "Democrat      2951\n",
       "Republican    2617\n",
       "Name: Party, dtype: int64"
      ]
     },
     "execution_count": 45,
     "metadata": {},
     "output_type": "execute_result"
    },
    {
     "data": {
      "image/png": "[encoded data removed]",
      "text/plain": [
       "<Figure size 864x576 with 1 Axes>"
      ]
     },
     "metadata": {},
     "output_type": "display_data"
    }
   ],
   "source": [
    "plot_dem_versus_rep(df)"
   ]
  }
 ],
 "metadata": {
  "kernelspec": {
   "display_name": "Python 3",
   "language": "python",
   "name": "python3"
  },
  "language_info": {
   "codemirror_mode": {
    "name": "ipython",
    "version": 3
   },
   "file_extension": ".py",
   "mimetype": "text/x-python",
   "name": "python",
   "nbconvert_exporter": "python",
   "pygments_lexer": "ipython3",
   "version": "3.7.4"
  }
 },
 "nbformat": 4,
 "nbformat_minor": 4
}
