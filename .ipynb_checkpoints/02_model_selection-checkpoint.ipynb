{
 "cells": [
  {
   "cell_type": "code",
   "execution_count": 1,
   "metadata": {},
   "outputs": [],
   "source": [
    "import psycopg2 as pg\n",
    "import pandas as pd\n",
    "import pandas.io.sql as pd_sql\n",
    "\n",
    "import numpy as np\n",
    "import matplotlib.pyplot as plt\n",
    "import seaborn as sns\n",
    "plt.style.use('ggplot')\n",
    "\n",
    "%matplotlib inline\n",
    "\n",
    "import pickle\n",
    "from sklearn.linear_model import LogisticRegression\n",
    "from sklearn.model_selection import train_test_split\n",
    "from sklearn.metrics import precision_score, recall_score, accuracy_score, roc_auc_score, log_loss, roc_curve\n",
    "from sklearn.metrics import confusion_matrix\n",
    "from sklearn.preprocessing import StandardScaler\n",
    "from sklearn.ensemble import RandomForestClassifier, GradientBoostingClassifier, VotingClassifier\n",
    "from sklearn.metrics import confusion_matrix\n",
    "from sklearn.neighbors import KNeighborsClassifier\n",
    "from sklearn.naive_bayes import BernoulliNB, MultinomialNB, GaussianNB\n",
    "from sklearn.svm import LinearSVC\n",
    "from sklearn import svm\n",
    "from sklearn.impute import SimpleImputer\n",
    "from sklearn.model_selection import cross_val_score"
   ]
  },
  {
   "cell_type": "markdown",
   "metadata": {},
   "source": [
    "## Connecting to the PostgreSQL database"
   ]
  },
  {
   "cell_type": "code",
   "execution_count": 2,
   "metadata": {},
   "outputs": [],
   "source": [
    "# Postgres info to connect\n",
    "\n",
    "connection_args = {\n",
    "    'host': 'MY CURRENT AWS IP ADDRESS',  # My current AWS IP Address\n",
    "    'dbname': 'voting',    # DB that we are connecting to\n",
    "    'port': 5432,          # port on AWS\n",
    "    'user': 'ubuntu'       #username\n",
    "}\n",
    "\n",
    "\n",
    "connection = pg.connect(**connection_args)"
   ]
  },
  {
   "cell_type": "code",
   "execution_count": 3,
   "metadata": {},
   "outputs": [
    {
     "data": {
      "text/html": [
       "<div>\n",
       "<style scoped>\n",
       "    .dataframe tbody tr th:only-of-type {\n",
       "        vertical-align: middle;\n",
       "    }\n",
       "\n",
       "    .dataframe tbody tr th {\n",
       "        vertical-align: top;\n",
       "    }\n",
       "\n",
       "    .dataframe thead th {\n",
       "        text-align: right;\n",
       "    }\n",
       "</style>\n",
       "<table border=\"1\" class=\"dataframe\">\n",
       "  <thead>\n",
       "    <tr style=\"text-align: right;\">\n",
       "      <th></th>\n",
       "      <th>user_id</th>\n",
       "      <th>yob</th>\n",
       "      <th>gender</th>\n",
       "      <th>income</th>\n",
       "      <th>householdstatus</th>\n",
       "      <th>educationlevel</th>\n",
       "      <th>party</th>\n",
       "      <th>q124742</th>\n",
       "      <th>q124122</th>\n",
       "      <th>q123464</th>\n",
       "      <th>...</th>\n",
       "      <th>q100010</th>\n",
       "      <th>q99716</th>\n",
       "      <th>q99581</th>\n",
       "      <th>q99480</th>\n",
       "      <th>q98869</th>\n",
       "      <th>q98578</th>\n",
       "      <th>q98059</th>\n",
       "      <th>q98078</th>\n",
       "      <th>q98197</th>\n",
       "      <th>q96024</th>\n",
       "    </tr>\n",
       "  </thead>\n",
       "  <tbody>\n",
       "    <tr>\n",
       "      <th>0</th>\n",
       "      <td>1</td>\n",
       "      <td>1938</td>\n",
       "      <td>Male</td>\n",
       "      <td>None</td>\n",
       "      <td>Married (w/kids)</td>\n",
       "      <td>None</td>\n",
       "      <td>Democrat</td>\n",
       "      <td>No</td>\n",
       "      <td>None</td>\n",
       "      <td>No</td>\n",
       "      <td>...</td>\n",
       "      <td>Yes</td>\n",
       "      <td>No</td>\n",
       "      <td>No</td>\n",
       "      <td>None</td>\n",
       "      <td>No</td>\n",
       "      <td>None</td>\n",
       "      <td>Only-child</td>\n",
       "      <td>No</td>\n",
       "      <td>No</td>\n",
       "      <td>Yes</td>\n",
       "    </tr>\n",
       "    <tr>\n",
       "      <th>1</th>\n",
       "      <td>4</td>\n",
       "      <td>1970</td>\n",
       "      <td>Female</td>\n",
       "      <td>over $150,000</td>\n",
       "      <td>Domestic Partners (w/kids)</td>\n",
       "      <td>Bachelor's Degree</td>\n",
       "      <td>Democrat</td>\n",
       "      <td>None</td>\n",
       "      <td>Yes</td>\n",
       "      <td>No</td>\n",
       "      <td>...</td>\n",
       "      <td>None</td>\n",
       "      <td>None</td>\n",
       "      <td>None</td>\n",
       "      <td>No</td>\n",
       "      <td>No</td>\n",
       "      <td>No</td>\n",
       "      <td>Only-child</td>\n",
       "      <td>Yes</td>\n",
       "      <td>No</td>\n",
       "      <td>No</td>\n",
       "    </tr>\n",
       "    <tr>\n",
       "      <th>2</th>\n",
       "      <td>5</td>\n",
       "      <td>1997</td>\n",
       "      <td>Male</td>\n",
       "      <td>$75,000 - $100,000</td>\n",
       "      <td>Single (no kids)</td>\n",
       "      <td>High School Diploma</td>\n",
       "      <td>Republican</td>\n",
       "      <td>None</td>\n",
       "      <td>Yes</td>\n",
       "      <td>Yes</td>\n",
       "      <td>...</td>\n",
       "      <td>Yes</td>\n",
       "      <td>No</td>\n",
       "      <td>No</td>\n",
       "      <td>No</td>\n",
       "      <td>Yes</td>\n",
       "      <td>No</td>\n",
       "      <td>Yes</td>\n",
       "      <td>No</td>\n",
       "      <td>Yes</td>\n",
       "      <td>No</td>\n",
       "    </tr>\n",
       "    <tr>\n",
       "      <th>3</th>\n",
       "      <td>8</td>\n",
       "      <td>1983</td>\n",
       "      <td>Male</td>\n",
       "      <td>$100,001 - $150,000</td>\n",
       "      <td>Married (w/kids)</td>\n",
       "      <td>Bachelor's Degree</td>\n",
       "      <td>Democrat</td>\n",
       "      <td>No</td>\n",
       "      <td>Yes</td>\n",
       "      <td>No</td>\n",
       "      <td>...</td>\n",
       "      <td>No</td>\n",
       "      <td>No</td>\n",
       "      <td>No</td>\n",
       "      <td>Yes</td>\n",
       "      <td>Yes</td>\n",
       "      <td>No</td>\n",
       "      <td>Yes</td>\n",
       "      <td>No</td>\n",
       "      <td>No</td>\n",
       "      <td>Yes</td>\n",
       "    </tr>\n",
       "    <tr>\n",
       "      <th>4</th>\n",
       "      <td>9</td>\n",
       "      <td>1984</td>\n",
       "      <td>Female</td>\n",
       "      <td>$50,000 - $74,999</td>\n",
       "      <td>Married (w/kids)</td>\n",
       "      <td>High School Diploma</td>\n",
       "      <td>Republican</td>\n",
       "      <td>No</td>\n",
       "      <td>Yes</td>\n",
       "      <td>No</td>\n",
       "      <td>...</td>\n",
       "      <td>Yes</td>\n",
       "      <td>No</td>\n",
       "      <td>No</td>\n",
       "      <td>Yes</td>\n",
       "      <td>No</td>\n",
       "      <td>No</td>\n",
       "      <td>Yes</td>\n",
       "      <td>No</td>\n",
       "      <td>No</td>\n",
       "      <td>Yes</td>\n",
       "    </tr>\n",
       "    <tr>\n",
       "      <th>...</th>\n",
       "      <td>...</td>\n",
       "      <td>...</td>\n",
       "      <td>...</td>\n",
       "      <td>...</td>\n",
       "      <td>...</td>\n",
       "      <td>...</td>\n",
       "      <td>...</td>\n",
       "      <td>...</td>\n",
       "      <td>...</td>\n",
       "      <td>...</td>\n",
       "      <td>...</td>\n",
       "      <td>...</td>\n",
       "      <td>...</td>\n",
       "      <td>...</td>\n",
       "      <td>...</td>\n",
       "      <td>...</td>\n",
       "      <td>...</td>\n",
       "      <td>...</td>\n",
       "      <td>...</td>\n",
       "      <td>...</td>\n",
       "      <td>...</td>\n",
       "    </tr>\n",
       "    <tr>\n",
       "      <th>5563</th>\n",
       "      <td>6952</td>\n",
       "      <td>1945</td>\n",
       "      <td>Male</td>\n",
       "      <td>$25,001 - $50,000</td>\n",
       "      <td>Married (w/kids)</td>\n",
       "      <td>High School Diploma</td>\n",
       "      <td>Democrat</td>\n",
       "      <td>None</td>\n",
       "      <td>Yes</td>\n",
       "      <td>No</td>\n",
       "      <td>...</td>\n",
       "      <td>None</td>\n",
       "      <td>None</td>\n",
       "      <td>None</td>\n",
       "      <td>None</td>\n",
       "      <td>None</td>\n",
       "      <td>None</td>\n",
       "      <td>None</td>\n",
       "      <td>None</td>\n",
       "      <td>None</td>\n",
       "      <td>None</td>\n",
       "    </tr>\n",
       "    <tr>\n",
       "      <th>5564</th>\n",
       "      <td>6953</td>\n",
       "      <td>1970</td>\n",
       "      <td>Female</td>\n",
       "      <td>None</td>\n",
       "      <td>Married (w/kids)</td>\n",
       "      <td>Bachelor's Degree</td>\n",
       "      <td>Democrat</td>\n",
       "      <td>None</td>\n",
       "      <td>None</td>\n",
       "      <td>None</td>\n",
       "      <td>...</td>\n",
       "      <td>None</td>\n",
       "      <td>None</td>\n",
       "      <td>None</td>\n",
       "      <td>None</td>\n",
       "      <td>None</td>\n",
       "      <td>None</td>\n",
       "      <td>None</td>\n",
       "      <td>None</td>\n",
       "      <td>None</td>\n",
       "      <td>None</td>\n",
       "    </tr>\n",
       "    <tr>\n",
       "      <th>5565</th>\n",
       "      <td>6954</td>\n",
       "      <td>NA</td>\n",
       "      <td>Male</td>\n",
       "      <td>$50,000 - $74,999</td>\n",
       "      <td>Single (no kids)</td>\n",
       "      <td>Bachelor's Degree</td>\n",
       "      <td>Democrat</td>\n",
       "      <td>No</td>\n",
       "      <td>Yes</td>\n",
       "      <td>None</td>\n",
       "      <td>...</td>\n",
       "      <td>None</td>\n",
       "      <td>None</td>\n",
       "      <td>None</td>\n",
       "      <td>None</td>\n",
       "      <td>None</td>\n",
       "      <td>None</td>\n",
       "      <td>None</td>\n",
       "      <td>None</td>\n",
       "      <td>None</td>\n",
       "      <td>None</td>\n",
       "    </tr>\n",
       "    <tr>\n",
       "      <th>5566</th>\n",
       "      <td>6955</td>\n",
       "      <td>1966</td>\n",
       "      <td>Male</td>\n",
       "      <td>over $150,000</td>\n",
       "      <td>Married (w/kids)</td>\n",
       "      <td>Bachelor's Degree</td>\n",
       "      <td>Democrat</td>\n",
       "      <td>None</td>\n",
       "      <td>None</td>\n",
       "      <td>None</td>\n",
       "      <td>...</td>\n",
       "      <td>None</td>\n",
       "      <td>None</td>\n",
       "      <td>None</td>\n",
       "      <td>None</td>\n",
       "      <td>None</td>\n",
       "      <td>None</td>\n",
       "      <td>None</td>\n",
       "      <td>None</td>\n",
       "      <td>None</td>\n",
       "      <td>None</td>\n",
       "    </tr>\n",
       "    <tr>\n",
       "      <th>5567</th>\n",
       "      <td>6956</td>\n",
       "      <td>NA</td>\n",
       "      <td>Male</td>\n",
       "      <td>None</td>\n",
       "      <td>None</td>\n",
       "      <td>Master's Degree</td>\n",
       "      <td>Democrat</td>\n",
       "      <td>None</td>\n",
       "      <td>No</td>\n",
       "      <td>No</td>\n",
       "      <td>...</td>\n",
       "      <td>None</td>\n",
       "      <td>None</td>\n",
       "      <td>None</td>\n",
       "      <td>None</td>\n",
       "      <td>None</td>\n",
       "      <td>None</td>\n",
       "      <td>None</td>\n",
       "      <td>None</td>\n",
       "      <td>None</td>\n",
       "      <td>None</td>\n",
       "    </tr>\n",
       "  </tbody>\n",
       "</table>\n",
       "<p>5568 rows × 108 columns</p>\n",
       "</div>"
      ],
      "text/plain": [
       "     user_id   yob  gender               income             householdstatus  \\\n",
       "0          1  1938    Male                 None            Married (w/kids)   \n",
       "1          4  1970  Female        over $150,000  Domestic Partners (w/kids)   \n",
       "2          5  1997    Male   $75,000 - $100,000            Single (no kids)   \n",
       "3          8  1983    Male  $100,001 - $150,000            Married (w/kids)   \n",
       "4          9  1984  Female    $50,000 - $74,999            Married (w/kids)   \n",
       "...      ...   ...     ...                  ...                         ...   \n",
       "5563    6952  1945    Male    $25,001 - $50,000            Married (w/kids)   \n",
       "5564    6953  1970  Female                 None            Married (w/kids)   \n",
       "5565    6954    NA    Male    $50,000 - $74,999            Single (no kids)   \n",
       "5566    6955  1966    Male        over $150,000            Married (w/kids)   \n",
       "5567    6956    NA    Male                 None                        None   \n",
       "\n",
       "           educationlevel       party q124742 q124122 q123464  ... q100010  \\\n",
       "0                    None    Democrat      No    None      No  ...     Yes   \n",
       "1       Bachelor's Degree    Democrat    None     Yes      No  ...    None   \n",
       "2     High School Diploma  Republican    None     Yes     Yes  ...     Yes   \n",
       "3       Bachelor's Degree    Democrat      No     Yes      No  ...      No   \n",
       "4     High School Diploma  Republican      No     Yes      No  ...     Yes   \n",
       "...                   ...         ...     ...     ...     ...  ...     ...   \n",
       "5563  High School Diploma    Democrat    None     Yes      No  ...    None   \n",
       "5564    Bachelor's Degree    Democrat    None    None    None  ...    None   \n",
       "5565    Bachelor's Degree    Democrat      No     Yes    None  ...    None   \n",
       "5566    Bachelor's Degree    Democrat    None    None    None  ...    None   \n",
       "5567      Master's Degree    Democrat    None      No      No  ...    None   \n",
       "\n",
       "     q99716 q99581 q99480 q98869 q98578      q98059 q98078 q98197 q96024  \n",
       "0        No     No   None     No   None  Only-child     No     No    Yes  \n",
       "1      None   None     No     No     No  Only-child    Yes     No     No  \n",
       "2        No     No     No    Yes     No         Yes     No    Yes     No  \n",
       "3        No     No    Yes    Yes     No         Yes     No     No    Yes  \n",
       "4        No     No    Yes     No     No         Yes     No     No    Yes  \n",
       "...     ...    ...    ...    ...    ...         ...    ...    ...    ...  \n",
       "5563   None   None   None   None   None        None   None   None   None  \n",
       "5564   None   None   None   None   None        None   None   None   None  \n",
       "5565   None   None   None   None   None        None   None   None   None  \n",
       "5566   None   None   None   None   None        None   None   None   None  \n",
       "5567   None   None   None   None   None        None   None   None   None  \n",
       "\n",
       "[5568 rows x 108 columns]"
      ]
     },
     "execution_count": 3,
     "metadata": {},
     "output_type": "execute_result"
    }
   ],
   "source": [
    "query = \"SELECT * FROM bye;\"\n",
    "\n",
    "pd_sql.read_sql(query, connection)"
   ]
  },
  {
   "cell_type": "code",
   "execution_count": 4,
   "metadata": {},
   "outputs": [],
   "source": [
    "df = pd_sql.read_sql(query, connection)"
   ]
  },
  {
   "cell_type": "markdown",
   "metadata": {},
   "source": [
    "## Data Cleaning"
   ]
  },
  {
   "cell_type": "code",
   "execution_count": 5,
   "metadata": {},
   "outputs": [],
   "source": [
    "#changing numerical columns to the right data type\n",
    "df.yob = pd.to_numeric(df.yob, errors='coerce',downcast='integer')\n",
    "df.yob.astype(int,errors='ignore')\n",
    "df.user_id = df.user_id.astype(int,errors='ignore')"
   ]
  },
  {
   "cell_type": "code",
   "execution_count": 6,
   "metadata": {},
   "outputs": [],
   "source": [
    "#one hot coding for categorical variables\n",
    "df = pd.get_dummies(df, columns=['gender','income','householdstatus','educationlevel'])"
   ]
  },
  {
   "cell_type": "code",
   "execution_count": 7,
   "metadata": {},
   "outputs": [],
   "source": [
    "#setting the index to user id\n",
    "df.set_index(\"user_id\", inplace = True) "
   ]
  },
  {
   "cell_type": "markdown",
   "metadata": {},
   "source": [
    "### Splitting up the dfs to do some work on both"
   ]
  },
  {
   "cell_type": "code",
   "execution_count": 9,
   "metadata": {},
   "outputs": [],
   "source": [
    "#dropping the columns that are already formatted correctly\n",
    "df2 = df.drop(['yob', 'party', 'gender_Female',\n",
    " 'gender_Male',\n",
    " 'income_$100,001 - $150,000',\n",
    " 'income_$25,001 - $50,000',\n",
    " 'income_$50,000 - $74,999',\n",
    " 'income_$75,000 - $100,000',\n",
    " 'income_over $150,000',\n",
    " 'income_under $25,000',\n",
    " 'householdstatus_Domestic Partners (no kids)',\n",
    " 'householdstatus_Domestic Partners (w/kids)',\n",
    " 'householdstatus_Married (no kids)',\n",
    " 'householdstatus_Married (w/kids)',\n",
    " 'householdstatus_Single (no kids)',\n",
    " 'householdstatus_Single (w/kids)',\n",
    " \"educationlevel_Associate's Degree\",\n",
    " \"educationlevel_Bachelor's Degree\",\n",
    " 'educationlevel_Current K-12',\n",
    " 'educationlevel_Current Undergraduate',\n",
    " 'educationlevel_Doctoral Degree',\n",
    " 'educationlevel_High School Diploma',\n",
    " \"educationlevel_Master's Degree\"],axis=1)"
   ]
  },
  {
   "cell_type": "code",
   "execution_count": 10,
   "metadata": {},
   "outputs": [],
   "source": [
    "#recoding the question columns to 1s and 0s\n",
    "for col in df2.columns:\n",
    "    if col == 'q98059':\n",
    "        df2[col] = df2[col].map({'Yes': 1,'Only-child': 0})\n",
    "    elif col == 'q99982':\n",
    "        df2[col] = df2[col].map({'Check!': 1,'Nope': 0})\n",
    "    elif col == 'q101162':\n",
    "        df2[col] = df2[col].map({'Optimist': 1,'Pessimist': 0})\n",
    "    elif col == 'q101163':\n",
    "        df2[col] = df2[col].map({'Dad': 1,'Mom': 0})\n",
    "    elif col == 'q102089':\n",
    "        df2[col] = df2[col].map({'Own': 1,'Rent': 0})\n",
    "    elif col == 'q106997':\n",
    "        df2[col] = df2[col].map({'Yay people!': 1,'Grrr people': 0})\n",
    "    elif col == 'q108342':\n",
    "        df2[col] = df2[col].map({'In-person': 1,'Online': 0})\n",
    "    elif col == 'q108855':\n",
    "        df2[col] = df2[col].map({'Yes!': 1,'Umm...': 0})\n",
    "    elif col == 'q108856':\n",
    "        df2[col] = df2[col].map({'Socialize': 1,'Space': 0})\n",
    "    elif col == 'q108950':\n",
    "        df2[col] = df2[col].map({'Risk-friendly': 1,'Cautious': 0})\n",
    "    elif col == 'q110740':\n",
    "        df2[col] = df2[col].map({'Mac': 1,'PC': 0})\n",
    "    elif col == 'q111580':\n",
    "        df2[col] = df2[col].map({'Supportive': 1,'Demanding': 0})\n",
    "    elif col == 'q113583':\n",
    "        df2[col] = df2[col].map({'Tunes': 1,'Talk': 0})\n",
    "    elif col == 'q113584':\n",
    "        df2[col] = df2[col].map({'People': 1,'Technology': 0})\n",
    "    elif col == 'q114386':\n",
    "        df2[col] = df2[col].map({'TMI': 1,'Mysterious': 0})\n",
    "    elif col == 'q115777':\n",
    "        df2[col] = df2[col].map({'Start': 1,'End': 0})\n",
    "    elif col == 'q115899':\n",
    "        df2[col] = df2[col].map({'Circumstances': 1,'Me': 0})\n",
    "    elif col == 'q116197':\n",
    "        df2[col] = df2[col].map({'A.M.': 1,'P.M.': 0})\n",
    "    elif col == 'q116881':\n",
    "        df2[col] = df2[col].map({'Happy': 1,'Right': 0})\n",
    "    elif col == 'q117186':\n",
    "        df2[col] = df2[col].map({'Hot headed': 1,'Cool headed': 0})\n",
    "    elif col == 'q117193':\n",
    "        df2[col] = df2[col].map({'Standard hours': 1,'Odd hours': 0})\n",
    "    elif col == 'q118232':\n",
    "        df2[col] = df2[col].map({'Idealist': 1,'Pragmatist': 0})\n",
    "    elif col == 'q119650':\n",
    "        df2[col] = df2[col].map({'Giving': 1,'Receiving': 0})\n",
    "    elif col == 'q120194':\n",
    "        df2[col] = df2[col].map({'Study first': 1,'Try first': 0})\n",
    "    elif col == 'q120472':\n",
    "        df2[col] = df2[col].map({'Science': 1,'Art': 0})\n",
    "    elif col == 'q122771':\n",
    "        df2[col] = df2[col].map({'Public': 1,'Private': 0})\n",
    "    else:\n",
    "        df2[col] = df2[col].map({'Yes': 1,'No': 0})"
   ]
  },
  {
   "cell_type": "code",
   "execution_count": 11,
   "metadata": {},
   "outputs": [],
   "source": [
    "df3 = df[['yob', 'party', 'gender_Female',\n",
    " 'gender_Male',\n",
    " 'income_$100,001 - $150,000',\n",
    " 'income_$25,001 - $50,000',\n",
    " 'income_$50,000 - $74,999',\n",
    " 'income_$75,000 - $100,000',\n",
    " 'income_over $150,000',\n",
    " 'income_under $25,000',\n",
    " 'householdstatus_Domestic Partners (no kids)',\n",
    " 'householdstatus_Domestic Partners (w/kids)',\n",
    " 'householdstatus_Married (no kids)',\n",
    " 'householdstatus_Married (w/kids)',\n",
    " 'householdstatus_Single (no kids)',\n",
    " 'householdstatus_Single (w/kids)',\n",
    " \"educationlevel_Associate's Degree\",\n",
    " \"educationlevel_Bachelor's Degree\",\n",
    " 'educationlevel_Current K-12',\n",
    " 'educationlevel_Current Undergraduate',\n",
    " 'educationlevel_Doctoral Degree',\n",
    " 'educationlevel_High School Diploma',\n",
    " \"educationlevel_Master's Degree\"]]"
   ]
  },
  {
   "cell_type": "code",
   "execution_count": 12,
   "metadata": {},
   "outputs": [],
   "source": [
    "df3 = df3.drop(['gender_Female'],axis=1)"
   ]
  },
  {
   "cell_type": "markdown",
   "metadata": {},
   "source": [
    "### Merge them back together"
   ]
  },
  {
   "cell_type": "code",
   "execution_count": 13,
   "metadata": {},
   "outputs": [],
   "source": [
    "ready = df3.merge(df2,how='inner',left_index=True,right_index=True)"
   ]
  },
  {
   "cell_type": "code",
   "execution_count": 14,
   "metadata": {},
   "outputs": [
    {
     "data": {
      "text/html": [
       "<div>\n",
       "<style scoped>\n",
       "    .dataframe tbody tr th:only-of-type {\n",
       "        vertical-align: middle;\n",
       "    }\n",
       "\n",
       "    .dataframe tbody tr th {\n",
       "        vertical-align: top;\n",
       "    }\n",
       "\n",
       "    .dataframe thead th {\n",
       "        text-align: right;\n",
       "    }\n",
       "</style>\n",
       "<table border=\"1\" class=\"dataframe\">\n",
       "  <thead>\n",
       "    <tr style=\"text-align: right;\">\n",
       "      <th></th>\n",
       "      <th>yob</th>\n",
       "      <th>party</th>\n",
       "      <th>gender_Male</th>\n",
       "      <th>income_$100,001 - $150,000</th>\n",
       "      <th>income_$25,001 - $50,000</th>\n",
       "      <th>income_$50,000 - $74,999</th>\n",
       "      <th>income_$75,000 - $100,000</th>\n",
       "      <th>income_over $150,000</th>\n",
       "      <th>income_under $25,000</th>\n",
       "      <th>householdstatus_Domestic Partners (no kids)</th>\n",
       "      <th>...</th>\n",
       "      <th>q100010</th>\n",
       "      <th>q99716</th>\n",
       "      <th>q99581</th>\n",
       "      <th>q99480</th>\n",
       "      <th>q98869</th>\n",
       "      <th>q98578</th>\n",
       "      <th>q98059</th>\n",
       "      <th>q98078</th>\n",
       "      <th>q98197</th>\n",
       "      <th>q96024</th>\n",
       "    </tr>\n",
       "    <tr>\n",
       "      <th>user_id</th>\n",
       "      <th></th>\n",
       "      <th></th>\n",
       "      <th></th>\n",
       "      <th></th>\n",
       "      <th></th>\n",
       "      <th></th>\n",
       "      <th></th>\n",
       "      <th></th>\n",
       "      <th></th>\n",
       "      <th></th>\n",
       "      <th></th>\n",
       "      <th></th>\n",
       "      <th></th>\n",
       "      <th></th>\n",
       "      <th></th>\n",
       "      <th></th>\n",
       "      <th></th>\n",
       "      <th></th>\n",
       "      <th></th>\n",
       "      <th></th>\n",
       "      <th></th>\n",
       "    </tr>\n",
       "  </thead>\n",
       "  <tbody>\n",
       "    <tr>\n",
       "      <th>1</th>\n",
       "      <td>1938.0</td>\n",
       "      <td>Democrat</td>\n",
       "      <td>1</td>\n",
       "      <td>0</td>\n",
       "      <td>0</td>\n",
       "      <td>0</td>\n",
       "      <td>0</td>\n",
       "      <td>0</td>\n",
       "      <td>0</td>\n",
       "      <td>0</td>\n",
       "      <td>...</td>\n",
       "      <td>1.0</td>\n",
       "      <td>0.0</td>\n",
       "      <td>0.0</td>\n",
       "      <td>NaN</td>\n",
       "      <td>0.0</td>\n",
       "      <td>NaN</td>\n",
       "      <td>0.0</td>\n",
       "      <td>0.0</td>\n",
       "      <td>0.0</td>\n",
       "      <td>1.0</td>\n",
       "    </tr>\n",
       "    <tr>\n",
       "      <th>4</th>\n",
       "      <td>1970.0</td>\n",
       "      <td>Democrat</td>\n",
       "      <td>0</td>\n",
       "      <td>0</td>\n",
       "      <td>0</td>\n",
       "      <td>0</td>\n",
       "      <td>0</td>\n",
       "      <td>1</td>\n",
       "      <td>0</td>\n",
       "      <td>0</td>\n",
       "      <td>...</td>\n",
       "      <td>NaN</td>\n",
       "      <td>NaN</td>\n",
       "      <td>NaN</td>\n",
       "      <td>0.0</td>\n",
       "      <td>0.0</td>\n",
       "      <td>0.0</td>\n",
       "      <td>0.0</td>\n",
       "      <td>1.0</td>\n",
       "      <td>0.0</td>\n",
       "      <td>0.0</td>\n",
       "    </tr>\n",
       "    <tr>\n",
       "      <th>5</th>\n",
       "      <td>1997.0</td>\n",
       "      <td>Republican</td>\n",
       "      <td>1</td>\n",
       "      <td>0</td>\n",
       "      <td>0</td>\n",
       "      <td>0</td>\n",
       "      <td>1</td>\n",
       "      <td>0</td>\n",
       "      <td>0</td>\n",
       "      <td>0</td>\n",
       "      <td>...</td>\n",
       "      <td>1.0</td>\n",
       "      <td>0.0</td>\n",
       "      <td>0.0</td>\n",
       "      <td>0.0</td>\n",
       "      <td>1.0</td>\n",
       "      <td>0.0</td>\n",
       "      <td>1.0</td>\n",
       "      <td>0.0</td>\n",
       "      <td>1.0</td>\n",
       "      <td>0.0</td>\n",
       "    </tr>\n",
       "    <tr>\n",
       "      <th>8</th>\n",
       "      <td>1983.0</td>\n",
       "      <td>Democrat</td>\n",
       "      <td>1</td>\n",
       "      <td>1</td>\n",
       "      <td>0</td>\n",
       "      <td>0</td>\n",
       "      <td>0</td>\n",
       "      <td>0</td>\n",
       "      <td>0</td>\n",
       "      <td>0</td>\n",
       "      <td>...</td>\n",
       "      <td>0.0</td>\n",
       "      <td>0.0</td>\n",
       "      <td>0.0</td>\n",
       "      <td>1.0</td>\n",
       "      <td>1.0</td>\n",
       "      <td>0.0</td>\n",
       "      <td>1.0</td>\n",
       "      <td>0.0</td>\n",
       "      <td>0.0</td>\n",
       "      <td>1.0</td>\n",
       "    </tr>\n",
       "    <tr>\n",
       "      <th>9</th>\n",
       "      <td>1984.0</td>\n",
       "      <td>Republican</td>\n",
       "      <td>0</td>\n",
       "      <td>0</td>\n",
       "      <td>0</td>\n",
       "      <td>1</td>\n",
       "      <td>0</td>\n",
       "      <td>0</td>\n",
       "      <td>0</td>\n",
       "      <td>0</td>\n",
       "      <td>...</td>\n",
       "      <td>1.0</td>\n",
       "      <td>0.0</td>\n",
       "      <td>0.0</td>\n",
       "      <td>1.0</td>\n",
       "      <td>0.0</td>\n",
       "      <td>0.0</td>\n",
       "      <td>1.0</td>\n",
       "      <td>0.0</td>\n",
       "      <td>0.0</td>\n",
       "      <td>1.0</td>\n",
       "    </tr>\n",
       "    <tr>\n",
       "      <th>...</th>\n",
       "      <td>...</td>\n",
       "      <td>...</td>\n",
       "      <td>...</td>\n",
       "      <td>...</td>\n",
       "      <td>...</td>\n",
       "      <td>...</td>\n",
       "      <td>...</td>\n",
       "      <td>...</td>\n",
       "      <td>...</td>\n",
       "      <td>...</td>\n",
       "      <td>...</td>\n",
       "      <td>...</td>\n",
       "      <td>...</td>\n",
       "      <td>...</td>\n",
       "      <td>...</td>\n",
       "      <td>...</td>\n",
       "      <td>...</td>\n",
       "      <td>...</td>\n",
       "      <td>...</td>\n",
       "      <td>...</td>\n",
       "      <td>...</td>\n",
       "    </tr>\n",
       "    <tr>\n",
       "      <th>6952</th>\n",
       "      <td>1945.0</td>\n",
       "      <td>Democrat</td>\n",
       "      <td>1</td>\n",
       "      <td>0</td>\n",
       "      <td>1</td>\n",
       "      <td>0</td>\n",
       "      <td>0</td>\n",
       "      <td>0</td>\n",
       "      <td>0</td>\n",
       "      <td>0</td>\n",
       "      <td>...</td>\n",
       "      <td>NaN</td>\n",
       "      <td>NaN</td>\n",
       "      <td>NaN</td>\n",
       "      <td>NaN</td>\n",
       "      <td>NaN</td>\n",
       "      <td>NaN</td>\n",
       "      <td>NaN</td>\n",
       "      <td>NaN</td>\n",
       "      <td>NaN</td>\n",
       "      <td>NaN</td>\n",
       "    </tr>\n",
       "    <tr>\n",
       "      <th>6953</th>\n",
       "      <td>1970.0</td>\n",
       "      <td>Democrat</td>\n",
       "      <td>0</td>\n",
       "      <td>0</td>\n",
       "      <td>0</td>\n",
       "      <td>0</td>\n",
       "      <td>0</td>\n",
       "      <td>0</td>\n",
       "      <td>0</td>\n",
       "      <td>0</td>\n",
       "      <td>...</td>\n",
       "      <td>NaN</td>\n",
       "      <td>NaN</td>\n",
       "      <td>NaN</td>\n",
       "      <td>NaN</td>\n",
       "      <td>NaN</td>\n",
       "      <td>NaN</td>\n",
       "      <td>NaN</td>\n",
       "      <td>NaN</td>\n",
       "      <td>NaN</td>\n",
       "      <td>NaN</td>\n",
       "    </tr>\n",
       "    <tr>\n",
       "      <th>6954</th>\n",
       "      <td>NaN</td>\n",
       "      <td>Democrat</td>\n",
       "      <td>1</td>\n",
       "      <td>0</td>\n",
       "      <td>0</td>\n",
       "      <td>1</td>\n",
       "      <td>0</td>\n",
       "      <td>0</td>\n",
       "      <td>0</td>\n",
       "      <td>0</td>\n",
       "      <td>...</td>\n",
       "      <td>NaN</td>\n",
       "      <td>NaN</td>\n",
       "      <td>NaN</td>\n",
       "      <td>NaN</td>\n",
       "      <td>NaN</td>\n",
       "      <td>NaN</td>\n",
       "      <td>NaN</td>\n",
       "      <td>NaN</td>\n",
       "      <td>NaN</td>\n",
       "      <td>NaN</td>\n",
       "    </tr>\n",
       "    <tr>\n",
       "      <th>6955</th>\n",
       "      <td>1966.0</td>\n",
       "      <td>Democrat</td>\n",
       "      <td>1</td>\n",
       "      <td>0</td>\n",
       "      <td>0</td>\n",
       "      <td>0</td>\n",
       "      <td>0</td>\n",
       "      <td>1</td>\n",
       "      <td>0</td>\n",
       "      <td>0</td>\n",
       "      <td>...</td>\n",
       "      <td>NaN</td>\n",
       "      <td>NaN</td>\n",
       "      <td>NaN</td>\n",
       "      <td>NaN</td>\n",
       "      <td>NaN</td>\n",
       "      <td>NaN</td>\n",
       "      <td>NaN</td>\n",
       "      <td>NaN</td>\n",
       "      <td>NaN</td>\n",
       "      <td>NaN</td>\n",
       "    </tr>\n",
       "    <tr>\n",
       "      <th>6956</th>\n",
       "      <td>NaN</td>\n",
       "      <td>Democrat</td>\n",
       "      <td>1</td>\n",
       "      <td>0</td>\n",
       "      <td>0</td>\n",
       "      <td>0</td>\n",
       "      <td>0</td>\n",
       "      <td>0</td>\n",
       "      <td>0</td>\n",
       "      <td>0</td>\n",
       "      <td>...</td>\n",
       "      <td>NaN</td>\n",
       "      <td>NaN</td>\n",
       "      <td>NaN</td>\n",
       "      <td>NaN</td>\n",
       "      <td>NaN</td>\n",
       "      <td>NaN</td>\n",
       "      <td>NaN</td>\n",
       "      <td>NaN</td>\n",
       "      <td>NaN</td>\n",
       "      <td>NaN</td>\n",
       "    </tr>\n",
       "  </tbody>\n",
       "</table>\n",
       "<p>5568 rows × 123 columns</p>\n",
       "</div>"
      ],
      "text/plain": [
       "            yob       party  gender_Male  income_$100,001 - $150,000  \\\n",
       "user_id                                                                \n",
       "1        1938.0    Democrat            1                           0   \n",
       "4        1970.0    Democrat            0                           0   \n",
       "5        1997.0  Republican            1                           0   \n",
       "8        1983.0    Democrat            1                           1   \n",
       "9        1984.0  Republican            0                           0   \n",
       "...         ...         ...          ...                         ...   \n",
       "6952     1945.0    Democrat            1                           0   \n",
       "6953     1970.0    Democrat            0                           0   \n",
       "6954        NaN    Democrat            1                           0   \n",
       "6955     1966.0    Democrat            1                           0   \n",
       "6956        NaN    Democrat            1                           0   \n",
       "\n",
       "         income_$25,001 - $50,000  income_$50,000 - $74,999  \\\n",
       "user_id                                                       \n",
       "1                               0                         0   \n",
       "4                               0                         0   \n",
       "5                               0                         0   \n",
       "8                               0                         0   \n",
       "9                               0                         1   \n",
       "...                           ...                       ...   \n",
       "6952                            1                         0   \n",
       "6953                            0                         0   \n",
       "6954                            0                         1   \n",
       "6955                            0                         0   \n",
       "6956                            0                         0   \n",
       "\n",
       "         income_$75,000 - $100,000  income_over $150,000  \\\n",
       "user_id                                                    \n",
       "1                                0                     0   \n",
       "4                                0                     1   \n",
       "5                                1                     0   \n",
       "8                                0                     0   \n",
       "9                                0                     0   \n",
       "...                            ...                   ...   \n",
       "6952                             0                     0   \n",
       "6953                             0                     0   \n",
       "6954                             0                     0   \n",
       "6955                             0                     1   \n",
       "6956                             0                     0   \n",
       "\n",
       "         income_under $25,000  householdstatus_Domestic Partners (no kids)  \\\n",
       "user_id                                                                      \n",
       "1                           0                                            0   \n",
       "4                           0                                            0   \n",
       "5                           0                                            0   \n",
       "8                           0                                            0   \n",
       "9                           0                                            0   \n",
       "...                       ...                                          ...   \n",
       "6952                        0                                            0   \n",
       "6953                        0                                            0   \n",
       "6954                        0                                            0   \n",
       "6955                        0                                            0   \n",
       "6956                        0                                            0   \n",
       "\n",
       "         ...  q100010  q99716  q99581  q99480  q98869  q98578  q98059  q98078  \\\n",
       "user_id  ...                                                                    \n",
       "1        ...      1.0     0.0     0.0     NaN     0.0     NaN     0.0     0.0   \n",
       "4        ...      NaN     NaN     NaN     0.0     0.0     0.0     0.0     1.0   \n",
       "5        ...      1.0     0.0     0.0     0.0     1.0     0.0     1.0     0.0   \n",
       "8        ...      0.0     0.0     0.0     1.0     1.0     0.0     1.0     0.0   \n",
       "9        ...      1.0     0.0     0.0     1.0     0.0     0.0     1.0     0.0   \n",
       "...      ...      ...     ...     ...     ...     ...     ...     ...     ...   \n",
       "6952     ...      NaN     NaN     NaN     NaN     NaN     NaN     NaN     NaN   \n",
       "6953     ...      NaN     NaN     NaN     NaN     NaN     NaN     NaN     NaN   \n",
       "6954     ...      NaN     NaN     NaN     NaN     NaN     NaN     NaN     NaN   \n",
       "6955     ...      NaN     NaN     NaN     NaN     NaN     NaN     NaN     NaN   \n",
       "6956     ...      NaN     NaN     NaN     NaN     NaN     NaN     NaN     NaN   \n",
       "\n",
       "         q98197  q96024  \n",
       "user_id                  \n",
       "1           0.0     1.0  \n",
       "4           0.0     0.0  \n",
       "5           1.0     0.0  \n",
       "8           0.0     1.0  \n",
       "9           0.0     1.0  \n",
       "...         ...     ...  \n",
       "6952        NaN     NaN  \n",
       "6953        NaN     NaN  \n",
       "6954        NaN     NaN  \n",
       "6955        NaN     NaN  \n",
       "6956        NaN     NaN  \n",
       "\n",
       "[5568 rows x 123 columns]"
      ]
     },
     "execution_count": 14,
     "metadata": {},
     "output_type": "execute_result"
    }
   ],
   "source": [
    "ready"
   ]
  },
  {
   "cell_type": "markdown",
   "metadata": {},
   "source": [
    "## Running a basic Random Forest model to understand feature importance:"
   ]
  },
  {
   "cell_type": "code",
   "execution_count": 15,
   "metadata": {},
   "outputs": [],
   "source": [
    "#taking some functions from the lecture notebook to speed things up\n",
    "def quick_test(model, X, y):\n",
    "    xtrain, xtest, ytrain, ytest = train_test_split(X, y, test_size=0.2)\n",
    "    model.fit(xtrain, ytrain)\n",
    "    return model.score(xtest, ytest)\n",
    "\n",
    "def quick_test_afew_times(model, X, y, n=10):\n",
    "    return np.mean([quick_test(model, X, y) for j in range(n)])"
   ]
  },
  {
   "cell_type": "code",
   "execution_count": 16,
   "metadata": {},
   "outputs": [],
   "source": [
    "#dropping rows with null values\n",
    "non_null = ready.dropna()"
   ]
  },
  {
   "cell_type": "code",
   "execution_count": 17,
   "metadata": {},
   "outputs": [],
   "source": [
    "X=non_null.drop(['party'],axis=1)\n",
    "y=non_null.party"
   ]
  },
  {
   "cell_type": "code",
   "execution_count": 18,
   "metadata": {},
   "outputs": [
    {
     "data": {
      "text/plain": [
       "0.6304347826086956"
      ]
     },
     "execution_count": 18,
     "metadata": {},
     "output_type": "execute_result"
    }
   ],
   "source": [
    "#running my model\n",
    "randomforest = RandomForestClassifier(n_estimators=100)\n",
    "quick_test_afew_times(randomforest, X, y)"
   ]
  },
  {
   "cell_type": "code",
   "execution_count": 19,
   "metadata": {},
   "outputs": [],
   "source": [
    "feature_imp_list = list(zip(randomforest.feature_importances_,X.columns))\n",
    "feature_imp_list.sort(reverse=True)"
   ]
  },
  {
   "cell_type": "code",
   "execution_count": 20,
   "metadata": {},
   "outputs": [
    {
     "data": {
      "text/plain": [
       "[(0.060084346274309273, 'q109244'),\n",
       " (0.03843179774141752, 'yob'),\n",
       " (0.015050499584740805, 'q113181'),\n",
       " (0.013513357384122762, 'q98197'),\n",
       " (0.013117015943568637, 'q115611'),\n",
       " (0.010298679461059217, 'q112478'),\n",
       " (0.010123260252376354, 'q102687'),\n",
       " (0.010019475249071026, 'q118232'),\n",
       " (0.009969592276484222, 'q110740'),\n",
       " (0.009910149531789198, 'q105655'),\n",
       " (0.009888249080986206, 'q101596'),\n",
       " (0.009760952802691798, 'q115899'),\n",
       " (0.009660286079718477, 'q115195'),\n",
       " (0.009647844782993822, 'q98078'),\n",
       " (0.009630417003610971, 'q122769'),\n",
       " (0.009588063686639121, 'q112270'),\n",
       " (0.009529124288193618, 'q99982'),\n",
       " (0.009503840564408714, 'q102089'),\n",
       " (0.009451918199689255, 'q116953'),\n",
       " (0.009238878753432071, 'q100680'),\n",
       " (0.009186666946631655, 'q118892'),\n",
       " (0.009166900928878287, 'q118237'),\n",
       " (0.009153329933728362, 'q114748'),\n",
       " (0.00910362388357311, 'q108342'),\n",
       " (0.009099505782027483, 'q119851'),\n",
       " (0.009092524785154786, 'q114386'),\n",
       " (0.009051917745821892, 'q96024'),\n",
       " (0.00903847463883647, 'q121699'),\n",
       " (0.008962342944161818, 'q108754'),\n",
       " (0.008937529023622402, 'q111848'),\n",
       " (0.008912372073850981, 'q115390'),\n",
       " (0.00889496797123897, 'q101162'),\n",
       " (0.008856858888331915, 'q108950'),\n",
       " (0.008831569002650594, 'q103293'),\n",
       " (0.008570980420293193, 'q118233'),\n",
       " (0.008511268809481548, 'q98869'),\n",
       " (0.008491593438085105, 'q98578'),\n",
       " (0.008417605058930048, 'q124122'),\n",
       " (0.008410149871361561, 'q113583'),\n",
       " (0.008374738759422304, 'q120978'),\n",
       " (0.008329689506633618, 'q113992'),\n",
       " (0.008325243126005686, 'q106042'),\n",
       " (0.008277438529500162, 'q117186'),\n",
       " (0.008244970692271491, 'q120012'),\n",
       " (0.0081752808855051, 'q101163'),\n",
       " (0.008173963688280357, 'q104996'),\n",
       " (0.008109961561658377, 'q115777'),\n",
       " (0.008097033527093076, 'q111220'),\n",
       " (0.00807034702137566, 'q107869'),\n",
       " (0.008051718006103934, 'q111580'),\n",
       " (0.008047638219836341, 'q120472'),\n",
       " (0.008025372422025834, 'q120194'),\n",
       " (0.008004948631810435, 'q114961'),\n",
       " (0.007962677852284572, 'q118117'),\n",
       " (0.007909981478163311, 'q105840'),\n",
       " (0.00789953398888938, 'q122770'),\n",
       " (0.007851001547855596, 'q100689'),\n",
       " (0.007850364932578853, 'income_$75,000 - $100,000'),\n",
       " (0.007825770087043805, 'q108856'),\n",
       " (0.007814469415243663, 'q106272'),\n",
       " (0.007716780111354291, 'q117193'),\n",
       " (0.007684550198925272, 'q106389'),\n",
       " (0.007665887909102138, 'gender_Male'),\n",
       " (0.007604549015184493, 'q102906'),\n",
       " (0.007500602866207938, 'q109367'),\n",
       " (0.007497050171265027, 'q116881'),\n",
       " (0.007435828749526638, 'q113584'),\n",
       " (0.007372843250459207, 'q123621'),\n",
       " (0.007345454251061192, 'q106388'),\n",
       " (0.007334223643429635, 'income_$100,001 - $150,000'),\n",
       " (0.0073064150589132815, 'q119650'),\n",
       " (0.007187330456082679, 'q116797'),\n",
       " (0.007173102682251777, 'q102289'),\n",
       " (0.007162213563752603, 'q108855'),\n",
       " (0.007161062429295286, 'q116448'),\n",
       " (0.007144560877369723, 'q120379'),\n",
       " (0.007142342300564729, 'q120014'),\n",
       " (0.007079023584239023, 'q114517'),\n",
       " (0.007033374671589817, 'q99480'),\n",
       " (0.007010546945685797, 'householdstatus_Married (w/kids)'),\n",
       " (0.0069411226870382025, 'q116197'),\n",
       " (0.006935403905200338, 'householdstatus_Single (no kids)'),\n",
       " (0.0068498695671315515, 'q106997'),\n",
       " (0.0068394287982490075, 'q119334'),\n",
       " (0.0067944826068547185, 'q124742'),\n",
       " (0.006726881282333794, 'q100562'),\n",
       " (0.006718557759884747, 'q102674'),\n",
       " (0.006715167276712845, \"educationlevel_Bachelor's Degree\"),\n",
       " (0.006704830899457611, 'q115610'),\n",
       " (0.006655638332371046, 'q108343'),\n",
       " (0.006370679384518536, 'q121011'),\n",
       " (0.006301475173174007, 'q114152'),\n",
       " (0.0062877668652757904, 'income_over $150,000'),\n",
       " (0.0062554883872479195, 'q116601'),\n",
       " (0.006193832378387769, 'q107491'),\n",
       " (0.006128619649854619, 'q122771'),\n",
       " (0.006020189581777611, 'income_under $25,000'),\n",
       " (0.005979436205167491, 'educationlevel_High School Diploma'),\n",
       " (0.0059439392431654085, 'q108617'),\n",
       " (0.005888163092944474, 'q116441'),\n",
       " (0.005840103642073733, 'q122120'),\n",
       " (0.005802497260180419, 'q112512'),\n",
       " (0.005743001340369858, 'q115602'),\n",
       " (0.0057273054448735, \"educationlevel_Master's Degree\"),\n",
       " (0.005726465765054285, 'q100010'),\n",
       " (0.005695430788445353, 'income_$50,000 - $74,999'),\n",
       " (0.005620471645032793, 'educationlevel_Current Undergraduate'),\n",
       " (0.005348793129035159, 'q98059'),\n",
       " (0.005233559174799566, 'income_$25,001 - $50,000'),\n",
       " (0.005149335298846172, 'q106993'),\n",
       " (0.005058288168979665, 'q121700'),\n",
       " (0.005036588931233931, 'householdstatus_Married (no kids)'),\n",
       " (0.0049336071077105996, 'q99716'),\n",
       " (0.00490576264639965, \"educationlevel_Associate's Degree\"),\n",
       " (0.004173753905236924, 'q99581'),\n",
       " (0.004119717356358557, 'educationlevel_Current K-12'),\n",
       " (0.00363518027839702, 'q120650'),\n",
       " (0.0036035217713496406, 'q123464'),\n",
       " (0.003405540684857154, 'householdstatus_Domestic Partners (no kids)'),\n",
       " (0.0026889094948468637, 'householdstatus_Single (w/kids)'),\n",
       " (0.001547688707890809, 'educationlevel_Doctoral Degree'),\n",
       " (0.0006656866774754777, 'householdstatus_Domestic Partners (w/kids)')]"
      ]
     },
     "execution_count": 20,
     "metadata": {},
     "output_type": "execute_result"
    }
   ],
   "source": [
    "feature_imp_list"
   ]
  },
  {
   "cell_type": "markdown",
   "metadata": {},
   "source": [
    "Nothing substantial to report here. Let's test this with many models to see what model we should move forward with:"
   ]
  },
  {
   "cell_type": "markdown",
   "metadata": {},
   "source": [
    "## Testing different models (with nulls completely removed)"
   ]
  },
  {
   "cell_type": "code",
   "execution_count": 127,
   "metadata": {},
   "outputs": [],
   "source": [
    "xtrain, xtest, ytrain, ytest = train_test_split(X, y, test_size=0.2, random_state=42, stratify=y)"
   ]
  },
  {
   "cell_type": "code",
   "execution_count": 248,
   "metadata": {},
   "outputs": [],
   "source": [
    "# making a function to get a confusion matrix and lots of metrics for each model\n",
    "\n",
    "def enhanced_confusion_matrix(model, x_train, x_test, y_train, y_test, no_auc=False):\n",
    "    \"\"\"\n",
    "    Purpose: makes a confusion matrix and reports on precision and recall for the given model\n",
    "    Arguments: model, xtrain data, ytrain data, xtest data, and ytest datasets already separated\n",
    "    Returns: Confusion matrix and precision and recall scores    \n",
    "    \"\"\"\n",
    "    #generate all the metrics\n",
    "    fitted_model = model.fit(x_train,y_train)\n",
    "    prediction_hard = fitted_model.predict(x_test)\n",
    "    conf_matrix = confusion_matrix(y_test, prediction_hard)\n",
    "    cross_val = cross_val_score(model,x_train,y_train,cv=5)\n",
    "    \n",
    "    #print all the metrics\n",
    "    print('Precision: ' + str(int((conf_matrix[0][0]) / (conf_matrix[0][0] + conf_matrix[1][0])*100)) + '%')\n",
    "    print('Recall: ' + str(int((conf_matrix[0][0]) / (conf_matrix[0][0] + conf_matrix[0][1])*100)) + '%')\n",
    "    print('Train Accuracy: ' + str(100*(model.score(x_train, y_train))) + '%')\n",
    "    print('Test Accuracy: ' + str(100*(model.score(x_test, y_test))) + '%')\n",
    "    print('Mean CV Score: ' + str(100*(np.mean(cross_val))) + '%')\n",
    "    \n",
    "    #for non linear models do the following:\n",
    "    if no_auc ==False:\n",
    "        test_score = model.predict_proba(x_test)\n",
    "        auc = roc_auc_score(y_test,test_score[:,1])\n",
    "        ll = log_loss(y_test, test_score)\n",
    "        print('AUC Score: ' + str(100*(auc)) + '%')\n",
    "        print('Log Loss: ' + str(ll))\n",
    "        \n",
    "    #finally print the actual confusion matrix\n",
    "    print(confusion_matrix(y_test, prediction_hard))\n",
    "        \n",
    "    return fitted_model"
   ]
  },
  {
   "cell_type": "markdown",
   "metadata": {},
   "source": [
    "### Random Forest"
   ]
  },
  {
   "cell_type": "code",
   "execution_count": 226,
   "metadata": {},
   "outputs": [],
   "source": [
    "rf_model = RandomForestClassifier(n_estimators=100)"
   ]
  },
  {
   "cell_type": "code",
   "execution_count": 227,
   "metadata": {},
   "outputs": [
    {
     "name": "stdout",
     "output_type": "stream",
     "text": [
      "Precision: 59%\n",
      "Recall: 51%\n",
      "Train Accuracy: 100.0%\n",
      "Test Accuracy: 59.006211180124225%\n",
      "Mean CV Score: 62.36434108527131%\n",
      "AUC Score: 66.61778326644027%\n",
      "Log Loss: 0.6524213332856519\n"
     ]
    },
    {
     "data": {
      "text/plain": [
       "array([[41, 38],\n",
       "       [28, 54]])"
      ]
     },
     "execution_count": 227,
     "metadata": {},
     "output_type": "execute_result"
    }
   ],
   "source": [
    "enhanced_confusion_matrix(rf_model, xtrain, xtest, ytrain, ytest)"
   ]
  },
  {
   "cell_type": "markdown",
   "metadata": {},
   "source": [
    "### KNN"
   ]
  },
  {
   "cell_type": "code",
   "execution_count": 228,
   "metadata": {},
   "outputs": [],
   "source": [
    "knn = KNeighborsClassifier(n_neighbors=5)"
   ]
  },
  {
   "cell_type": "code",
   "execution_count": 229,
   "metadata": {},
   "outputs": [
    {
     "name": "stdout",
     "output_type": "stream",
     "text": [
      "Precision: 58%\n",
      "Recall: 50%\n",
      "Train Accuracy: 69.36236391912908%\n",
      "Test Accuracy: 58.38509316770186%\n",
      "Mean CV Score: 51.47286821705427%\n",
      "AUC Score: 59.96449521457239%\n",
      "Log Loss: 1.9318868899990267\n"
     ]
    },
    {
     "data": {
      "text/plain": [
       "array([[40, 39],\n",
       "       [28, 54]])"
      ]
     },
     "execution_count": 229,
     "metadata": {},
     "output_type": "execute_result"
    }
   ],
   "source": [
    "enhanced_confusion_matrix(knn, xtrain, xtest, ytrain, ytest)"
   ]
  },
  {
   "cell_type": "markdown",
   "metadata": {},
   "source": [
    "### Logistic Regression"
   ]
  },
  {
   "cell_type": "code",
   "execution_count": 230,
   "metadata": {},
   "outputs": [],
   "source": [
    "lm1 = LogisticRegression(solver= 'liblinear', C=1000)"
   ]
  },
  {
   "cell_type": "code",
   "execution_count": 231,
   "metadata": {},
   "outputs": [
    {
     "name": "stdout",
     "output_type": "stream",
     "text": [
      "Precision: 54%\n",
      "Recall: 50%\n",
      "Train Accuracy: 73.09486780715396%\n",
      "Test Accuracy: 54.6583850931677%\n",
      "Mean CV Score: 58.93168604651162%\n",
      "AUC Score: 57.87280024698981%\n",
      "Log Loss: 0.8412663612863672\n"
     ]
    },
    {
     "data": {
      "text/plain": [
       "array([[40, 39],\n",
       "       [34, 48]])"
      ]
     },
     "execution_count": 231,
     "metadata": {},
     "output_type": "execute_result"
    }
   ],
   "source": [
    "enhanced_confusion_matrix(lm1, xtrain, xtest, ytrain, ytest)"
   ]
  },
  {
   "cell_type": "markdown",
   "metadata": {},
   "source": [
    "### Naive Bayes - Gaussian"
   ]
  },
  {
   "cell_type": "code",
   "execution_count": 232,
   "metadata": {},
   "outputs": [],
   "source": [
    "nbG = GaussianNB()"
   ]
  },
  {
   "cell_type": "code",
   "execution_count": 233,
   "metadata": {},
   "outputs": [
    {
     "name": "stdout",
     "output_type": "stream",
     "text": [
      "Precision: 62%\n",
      "Recall: 44%\n",
      "Train Accuracy: 68.89580093312597%\n",
      "Test Accuracy: 59.62732919254658%\n",
      "Mean CV Score: 63.92320736434108%\n",
      "AUC Score: 63.66162395801174%\n",
      "Log Loss: 1.737615521714775\n"
     ]
    },
    {
     "data": {
      "text/plain": [
       "array([[35, 44],\n",
       "       [21, 61]])"
      ]
     },
     "execution_count": 233,
     "metadata": {},
     "output_type": "execute_result"
    }
   ],
   "source": [
    "enhanced_confusion_matrix(nbG, xtrain, xtest, ytrain, ytest)"
   ]
  },
  {
   "cell_type": "markdown",
   "metadata": {},
   "source": [
    "### Naive Bayes - Bernoulli"
   ]
  },
  {
   "cell_type": "code",
   "execution_count": 234,
   "metadata": {},
   "outputs": [],
   "source": [
    "Bnb = BernoulliNB()"
   ]
  },
  {
   "cell_type": "code",
   "execution_count": 235,
   "metadata": {},
   "outputs": [
    {
     "name": "stdout",
     "output_type": "stream",
     "text": [
      "Precision: 61%\n",
      "Recall: 54%\n",
      "Train Accuracy: 69.51788491446345%\n",
      "Test Accuracy: 60.86956521739131%\n",
      "Mean CV Score: 62.67805232558139%\n",
      "AUC Score: 65.26705773386848%\n",
      "Log Loss: 0.8304947818011866\n"
     ]
    },
    {
     "data": {
      "text/plain": [
       "array([[43, 36],\n",
       "       [27, 55]])"
      ]
     },
     "execution_count": 235,
     "metadata": {},
     "output_type": "execute_result"
    }
   ],
   "source": [
    "enhanced_confusion_matrix(Bnb, xtrain, xtest, ytrain, ytest)"
   ]
  },
  {
   "cell_type": "markdown",
   "metadata": {},
   "source": [
    "### Linear SVC"
   ]
  },
  {
   "cell_type": "code",
   "execution_count": 236,
   "metadata": {},
   "outputs": [],
   "source": [
    "linearsvc = LinearSVC()"
   ]
  },
  {
   "cell_type": "code",
   "execution_count": 237,
   "metadata": {},
   "outputs": [
    {
     "name": "stderr",
     "output_type": "stream",
     "text": [
      "/Users/samir/opt/anaconda3/envs/metis/lib/python3.7/site-packages/sklearn/svm/base.py:929: ConvergenceWarning: Liblinear failed to converge, increase the number of iterations.\n",
      "  \"the number of iterations.\", ConvergenceWarning)\n",
      "/Users/samir/opt/anaconda3/envs/metis/lib/python3.7/site-packages/sklearn/svm/base.py:929: ConvergenceWarning: Liblinear failed to converge, increase the number of iterations.\n",
      "  \"the number of iterations.\", ConvergenceWarning)\n",
      "/Users/samir/opt/anaconda3/envs/metis/lib/python3.7/site-packages/sklearn/svm/base.py:929: ConvergenceWarning: Liblinear failed to converge, increase the number of iterations.\n",
      "  \"the number of iterations.\", ConvergenceWarning)\n",
      "/Users/samir/opt/anaconda3/envs/metis/lib/python3.7/site-packages/sklearn/svm/base.py:929: ConvergenceWarning: Liblinear failed to converge, increase the number of iterations.\n",
      "  \"the number of iterations.\", ConvergenceWarning)\n"
     ]
    },
    {
     "name": "stdout",
     "output_type": "stream",
     "text": [
      "Precision: 49%\n",
      "Recall: 100%\n",
      "Train Accuracy: 49.4556765163297%\n",
      "Test Accuracy: 49.06832298136646%\n",
      "Mean CV Score: 50.07751937984496%\n"
     ]
    },
    {
     "name": "stderr",
     "output_type": "stream",
     "text": [
      "/Users/samir/opt/anaconda3/envs/metis/lib/python3.7/site-packages/sklearn/svm/base.py:929: ConvergenceWarning: Liblinear failed to converge, increase the number of iterations.\n",
      "  \"the number of iterations.\", ConvergenceWarning)\n",
      "/Users/samir/opt/anaconda3/envs/metis/lib/python3.7/site-packages/sklearn/svm/base.py:929: ConvergenceWarning: Liblinear failed to converge, increase the number of iterations.\n",
      "  \"the number of iterations.\", ConvergenceWarning)\n"
     ]
    },
    {
     "data": {
      "text/plain": [
       "array([[79,  0],\n",
       "       [82,  0]])"
      ]
     },
     "execution_count": 237,
     "metadata": {},
     "output_type": "execute_result"
    }
   ],
   "source": [
    "enhanced_confusion_matrix(linearsvc, xtrain, xtest, ytrain, ytest, no_auc=True)"
   ]
  },
  {
   "cell_type": "markdown",
   "metadata": {},
   "source": [
    "### SVM"
   ]
  },
  {
   "cell_type": "code",
   "execution_count": 238,
   "metadata": {},
   "outputs": [],
   "source": [
    "svm_model = svm.SVC(kernel=\"linear\")"
   ]
  },
  {
   "cell_type": "code",
   "execution_count": 239,
   "metadata": {},
   "outputs": [
    {
     "name": "stdout",
     "output_type": "stream",
     "text": [
      "Precision: 54%\n",
      "Recall: 51%\n",
      "Train Accuracy: 74.4945567651633%\n",
      "Test Accuracy: 55.27950310559007%\n",
      "Mean CV Score: 57.84883720930232%\n"
     ]
    },
    {
     "data": {
      "text/plain": [
       "array([[41, 38],\n",
       "       [34, 48]])"
      ]
     },
     "execution_count": 239,
     "metadata": {},
     "output_type": "execute_result"
    }
   ],
   "source": [
    "enhanced_confusion_matrix(svm_model, xtrain, xtest, ytrain, ytest, no_auc=True)"
   ]
  },
  {
   "cell_type": "markdown",
   "metadata": {},
   "source": [
    "Ok so I tried a bunch of models. It seems like Random Forest is still the best with Naive Bayes being a close 2nd place."
   ]
  },
  {
   "cell_type": "markdown",
   "metadata": {},
   "source": [
    "Next I want to fill the null values and then run the models with more data to see if that changes anything"
   ]
  },
  {
   "cell_type": "markdown",
   "metadata": {},
   "source": [
    "## Running models with nulls being changed to most frequent answer"
   ]
  },
  {
   "cell_type": "code",
   "execution_count": 163,
   "metadata": {},
   "outputs": [],
   "source": [
    "X_all = ready.drop(['party', 'fem+gun'],axis=1)\n",
    "y_all = ready.party"
   ]
  },
  {
   "cell_type": "code",
   "execution_count": 164,
   "metadata": {},
   "outputs": [],
   "source": [
    "#using imputer to fill NaN values with most frequent answer\n",
    "x_tr, x_te, y_tr, y_te = train_test_split(X_all, y_all, test_size=0.2, stratify=y_all,random_state=42)\n",
    "imp = SimpleImputer(missing_values=np.nan, strategy='most_frequent')\n",
    "imp = imp.fit(x_tr)\n",
    "X_train_imp = imp.transform(x_tr)\n",
    "X_test_imp = imp.transform(x_te)"
   ]
  },
  {
   "cell_type": "markdown",
   "metadata": {},
   "source": [
    "### Random Forest"
   ]
  },
  {
   "cell_type": "code",
   "execution_count": 260,
   "metadata": {},
   "outputs": [
    {
     "name": "stdout",
     "output_type": "stream",
     "text": [
      "Precision: 61%\n",
      "Recall: 68%\n",
      "Train Accuracy: 99.95509654243376%\n",
      "Test Accuracy: 60.412926391382406%\n",
      "Mean CV Score: 61.69695063984714%\n",
      "AUC Score: 64.28515978781213%\n",
      "Log Loss: 0.6630818985750548\n",
      "[[403 187]\n",
      " [254 270]]\n"
     ]
    }
   ],
   "source": [
    "rf2 = RandomForestClassifier(n_estimators=100)\n",
    "rf_fitted = enhanced_confusion_matrix(rf2,X_train_imp, X_test_imp, y_tr, y_te)"
   ]
  },
  {
   "cell_type": "markdown",
   "metadata": {},
   "source": [
    "Random Forest has not changed much. Recall up slightly though"
   ]
  },
  {
   "cell_type": "code",
   "execution_count": 168,
   "metadata": {},
   "outputs": [
    {
     "data": {
      "text/plain": [
       "[(0.05759245492992389, 'yob'),\n",
       " (0.036526130959853784, 'q109244'),\n",
       " (0.014842791086136852, 'q115611'),\n",
       " (0.012840876953715307, 'q113181'),\n",
       " (0.012018789631847647, 'gender_Male'),\n",
       " (0.010836086246798932, 'q121011'),\n",
       " (0.010497427096186819, 'q98197'),\n",
       " (0.010354224033735617, 'householdstatus_Single (no kids)'),\n",
       " (0.010347605959468702, 'q119851'),\n",
       " (0.010292162611981992, 'q118892'),\n",
       " (0.010277810848668871, 'q120012'),\n",
       " (0.010210936213238472, 'q119334'),\n",
       " (0.010195770564229193, 'q120978'),\n",
       " (0.009957492585058307, 'q120379'),\n",
       " (0.009905247970009344, \"educationlevel_Bachelor's Degree\"),\n",
       " (0.00978826377628931, 'q120194'),\n",
       " (0.009245313465138183, 'q110740'),\n",
       " (0.009144975121988202, 'householdstatus_Married (w/kids)'),\n",
       " (0.009125572628872796, 'q120472'),\n",
       " (0.008986622655783729, 'q118237'),\n",
       " (0.008891923989313997, 'q118117'),\n",
       " (0.008867150752540638, 'q105655'),\n",
       " (0.008786014544660764, 'q106997'),\n",
       " (0.008775298105810025, 'q120014'),\n",
       " (0.00877289946804931, 'income_under $25,000'),\n",
       " (0.008749016633107997, 'q114748'),\n",
       " (0.008700825984315815, 'q114386'),\n",
       " (0.008687386889386266, 'q112270'),\n",
       " (0.008644239305386152, 'q111848'),\n",
       " (0.008590279307442463, 'q122770'),\n",
       " (0.008584386989458567, 'q114961'),\n",
       " (0.008574378233357601, 'q113584'),\n",
       " (0.008566508407153978, 'q122769'),\n",
       " (0.008515028604140015, 'q115899'),\n",
       " (0.00850848026184096, 'q118232'),\n",
       " (0.008417672028138352, 'q121699'),\n",
       " (0.00836015674022268, 'income_$75,000 - $100,000'),\n",
       " (0.008331763936784373, 'income_$100,001 - $150,000'),\n",
       " (0.008247000453847598, 'q116448'),\n",
       " (0.008245824044656585, 'q117193'),\n",
       " (0.008243099266444448, 'q101163'),\n",
       " (0.008228474701906368, 'income_$50,000 - $74,999'),\n",
       " (0.008195955325503629, 'q103293'),\n",
       " (0.008129904398436626, 'q123621'),\n",
       " (0.008127077074421693, 'q115777'),\n",
       " (0.008105795877363646, 'q100689'),\n",
       " (0.008094073938472161, 'q106042'),\n",
       " (0.00807328155276907, 'q119650'),\n",
       " (0.00803666996110493, 'q107869'),\n",
       " (0.008034768268711308, 'q111580'),\n",
       " (0.008022487508765287, 'q112478'),\n",
       " (0.00798915267506879, 'income_over $150,000'),\n",
       " (0.00792495735263615, 'q98078'),\n",
       " (0.007901900873736344, 'q105840'),\n",
       " (0.007897454252406084, 'q122120'),\n",
       " (0.007888909887112255, 'q102687'),\n",
       " (0.007886632073290378, 'q109367'),\n",
       " (0.007865789323336833, 'q104996'),\n",
       " (0.007801996390031584, 'income_$25,001 - $50,000'),\n",
       " (0.007801337119190332, 'q124122'),\n",
       " (0.007795885020038517, 'educationlevel_High School Diploma'),\n",
       " (0.007786888363984399, 'q116881'),\n",
       " (0.0077511449834565035, 'q108855'),\n",
       " (0.007716024119761679, 'q116797'),\n",
       " (0.007642816314134505, 'q117186'),\n",
       " (0.007560162538600271, 'q116441'),\n",
       " (0.007558501447654869, 'educationlevel_Current K-12'),\n",
       " (0.007545667581308444, 'q99982'),\n",
       " (0.007505481937120565, 'q115195'),\n",
       " (0.007486846546060341, 'q106389'),\n",
       " (0.007391667840126622, 'q108950'),\n",
       " (0.007328205281027222, 'q115390'),\n",
       " (0.007295219738720037, 'q108754'),\n",
       " (0.007229946602164553, \"educationlevel_Master's Degree\"),\n",
       " (0.007228765368311705, 'q113992'),\n",
       " (0.007203152880713209, 'q118233'),\n",
       " (0.007199987037140315, 'q111220'),\n",
       " (0.007175614657764199, 'q116953'),\n",
       " (0.007160039933013203, 'q116197'),\n",
       " (0.007151226499896754, 'educationlevel_Current Undergraduate'),\n",
       " (0.007118918517745879, 'q98578'),\n",
       " (0.00706440838042714, 'q101596'),\n",
       " (0.007056744239952615, 'q113583'),\n",
       " (0.007026566989952879, 'q114517'),\n",
       " (0.007010373951816053, 'q114152'),\n",
       " (0.006978957772959857, 'q108342'),\n",
       " (0.006935860749862924, 'q99480'),\n",
       " (0.0068078360480377294, 'q101162'),\n",
       " (0.006804741433985485, 'q98869'),\n",
       " (0.00679052099270592, 'q108343'),\n",
       " (0.006761630359436758, 'q102906'),\n",
       " (0.006649418515178083, 'q96024'),\n",
       " (0.006520056936834817, 'q100680'),\n",
       " (0.006482422745498502, 'q102289'),\n",
       " (0.006453206405608544, 'householdstatus_Married (no kids)'),\n",
       " (0.006372114462648611, 'q106388'),\n",
       " (0.006331552923178367, 'q108856'),\n",
       " (0.0062937754535620115, 'q122771'),\n",
       " (0.0062874736600272586, 'q102674'),\n",
       " (0.0061419667127864015, 'q106272'),\n",
       " (0.006115763535308692, 'q115602'),\n",
       " (0.006095200588074251, 'q102089'),\n",
       " (0.005944219921305421, 'q124742'),\n",
       " (0.005902017057010813, 'q112512'),\n",
       " (0.005551241217599337, 'q100562'),\n",
       " (0.005470492729190056, 'q100010'),\n",
       " (0.00543033003014672, 'q121700'),\n",
       " (0.005385675792859291, 'q115610'),\n",
       " (0.005340547795768664, 'q116601'),\n",
       " (0.005244745772469107, \"educationlevel_Associate's Degree\"),\n",
       " (0.005178328845409146, 'q106993'),\n",
       " (0.00492616263038253, 'q120650'),\n",
       " (0.004495333609354809, 'q99581'),\n",
       " (0.0044811587166725154, 'q107491'),\n",
       " (0.004348072636635556, 'householdstatus_Domestic Partners (no kids)'),\n",
       " (0.004342507033072547, 'q108617'),\n",
       " (0.003793431409935731, 'q98059'),\n",
       " (0.0037196342888902276, 'q99716'),\n",
       " (0.0035930398791308876, 'educationlevel_Doctoral Degree'),\n",
       " (0.0029681372473409984, 'householdstatus_Single (w/kids)'),\n",
       " (0.0027315164965102355, 'q123464'),\n",
       " (0.0012881429844808514, 'householdstatus_Domestic Partners (w/kids)')]"
      ]
     },
     "execution_count": 168,
     "metadata": {},
     "output_type": "execute_result"
    }
   ],
   "source": [
    "feature_imp_list = list(zip(rf.feature_importances_,x_tr.columns))\n",
    "feature_imp_list.sort(reverse=True)\n",
    "feature_imp_list"
   ]
  },
  {
   "cell_type": "markdown",
   "metadata": {},
   "source": [
    "### KNN"
   ]
  },
  {
   "cell_type": "code",
   "execution_count": 169,
   "metadata": {},
   "outputs": [],
   "source": [
    "knn = KNeighborsClassifier(n_neighbors=5)"
   ]
  },
  {
   "cell_type": "code",
   "execution_count": 242,
   "metadata": {},
   "outputs": [
    {
     "name": "stdout",
     "output_type": "stream",
     "text": [
      "Precision: 55%\n",
      "Recall: 55%\n",
      "Train Accuracy: 70.76784912438258%\n",
      "Test Accuracy: 53.23159784560144%\n",
      "Mean CV Score: 52.69420946786123%\n",
      "AUC Score: 54.56818475870099%\n",
      "Log Loss: 1.4824654588827433\n"
     ]
    },
    {
     "data": {
      "text/plain": [
       "array([[329, 261],\n",
       "       [260, 264]])"
      ]
     },
     "execution_count": 242,
     "metadata": {},
     "output_type": "execute_result"
    }
   ],
   "source": [
    "enhanced_confusion_matrix(knn,X_train_imp, X_test_imp, y_tr, y_te)"
   ]
  },
  {
   "cell_type": "markdown",
   "metadata": {},
   "source": [
    "KNN has not improved from before. AUC decreased. If anything it's worse"
   ]
  },
  {
   "cell_type": "markdown",
   "metadata": {},
   "source": [
    "### Logistic Regression"
   ]
  },
  {
   "cell_type": "code",
   "execution_count": 263,
   "metadata": {},
   "outputs": [
    {
     "name": "stdout",
     "output_type": "stream",
     "text": [
      "Precision: 64%\n",
      "Recall: 66%\n",
      "Train Accuracy: 64.97530309833857%\n",
      "Test Accuracy: 62.65709156193896%\n",
      "Mean CV Score: 60.39423526000842%\n",
      "AUC Score: 66.8572907232501%\n",
      "Log Loss: 0.6547563371748129\n",
      "[[395 195]\n",
      " [221 303]]\n"
     ]
    }
   ],
   "source": [
    "lm2 = LogisticRegression(solver= 'liblinear', C=1000)\n",
    "lr_fitted = enhanced_confusion_matrix(lm2,X_train_imp, X_test_imp, y_tr, y_te)"
   ]
  },
  {
   "cell_type": "markdown",
   "metadata": {},
   "source": [
    "Logistic Regression has improved on everything! Overall, it seems like a solid model"
   ]
  },
  {
   "cell_type": "markdown",
   "metadata": {},
   "source": [
    "### Naive Bayes - Gaussian"
   ]
  },
  {
   "cell_type": "code",
   "execution_count": 244,
   "metadata": {},
   "outputs": [
    {
     "name": "stdout",
     "output_type": "stream",
     "text": [
      "Precision: 64%\n",
      "Recall: 51%\n",
      "Train Accuracy: 61.40547822182308%\n",
      "Test Accuracy: 59.42549371633752%\n",
      "Mean CV Score: 60.61930677652618%\n",
      "AUC Score: 64.30327338594901%\n",
      "Log Loss: 1.522059612455782\n"
     ]
    },
    {
     "data": {
      "text/plain": [
       "array([[302, 288],\n",
       "       [164, 360]])"
      ]
     },
     "execution_count": 244,
     "metadata": {},
     "output_type": "execute_result"
    }
   ],
   "source": [
    "nbG2 = GaussianNB()\n",
    "enhanced_confusion_matrix(nbG2,X_train_imp, X_test_imp, y_tr, y_te)"
   ]
  },
  {
   "cell_type": "markdown",
   "metadata": {},
   "source": [
    "About the same from before"
   ]
  },
  {
   "cell_type": "markdown",
   "metadata": {},
   "source": [
    "### Naive Bayes - Bernoulli"
   ]
  },
  {
   "cell_type": "code",
   "execution_count": 264,
   "metadata": {},
   "outputs": [
    {
     "name": "stdout",
     "output_type": "stream",
     "text": [
      "Precision: 63%\n",
      "Recall: 68%\n",
      "Train Accuracy: 63.62819937135159%\n",
      "Test Accuracy: 62.65709156193896%\n",
      "Mean CV Score: 61.71944748821188%\n",
      "AUC Score: 66.76057704748351%\n",
      "Log Loss: 0.7096954978465346\n",
      "[[404 186]\n",
      " [230 294]]\n"
     ]
    }
   ],
   "source": [
    "Bnb2 = BernoulliNB()\n",
    "nbb_fitted = enhanced_confusion_matrix(Bnb2,X_train_imp, X_test_imp, y_tr, y_te)"
   ]
  },
  {
   "cell_type": "markdown",
   "metadata": {},
   "source": [
    "Everything got better. This is becoming one of my better models. "
   ]
  },
  {
   "cell_type": "markdown",
   "metadata": {},
   "source": [
    "### Linear SVC"
   ]
  },
  {
   "cell_type": "code",
   "execution_count": 174,
   "metadata": {},
   "outputs": [
    {
     "name": "stdout",
     "output_type": "stream",
     "text": [
      "Precision: 52%\n",
      "Recall: 100%\n",
      "Train Accuracy: 53.008531656937585%\n",
      "Test Accuracy: 52.96229802513464%\n"
     ]
    },
    {
     "name": "stderr",
     "output_type": "stream",
     "text": [
      "/Users/samir/opt/anaconda3/envs/metis/lib/python3.7/site-packages/sklearn/svm/base.py:929: ConvergenceWarning: Liblinear failed to converge, increase the number of iterations.\n",
      "  \"the number of iterations.\", ConvergenceWarning)\n"
     ]
    },
    {
     "data": {
      "text/plain": [
       "array([[590,   0],\n",
       "       [524,   0]])"
      ]
     },
     "execution_count": 174,
     "metadata": {},
     "output_type": "execute_result"
    }
   ],
   "source": [
    "linearsvc2 = LinearSVC()\n",
    "enhanced_confusion_matrix(linearsvc2,X_train_imp, X_test_imp, y_tr, y_te, no_auc=True)"
   ]
  },
  {
   "cell_type": "markdown",
   "metadata": {},
   "source": [
    "This is still just predicting all Class 1"
   ]
  },
  {
   "cell_type": "markdown",
   "metadata": {},
   "source": [
    "### SVM"
   ]
  },
  {
   "cell_type": "code",
   "execution_count": 175,
   "metadata": {},
   "outputs": [],
   "source": [
    "#svm_model2 = svm.SVC(kernel=\"linear\")\n",
    "#enhanced_confusion_matrix(svm_model2,X_train_imp, X_test_imp, y_tr, y_te, no_auc=True)"
   ]
  },
  {
   "cell_type": "markdown",
   "metadata": {},
   "source": [
    "^ For some reason that cell takes forever to run so skipping it"
   ]
  },
  {
   "cell_type": "markdown",
   "metadata": {},
   "source": [
    "## Ensembling"
   ]
  },
  {
   "cell_type": "markdown",
   "metadata": {},
   "source": [
    "**Ok so it seems that my three best models are Logistic Regression, Naive Bayes Bernoulli and Random Forest in the order of their AUC scores. The Random Forest model is overfitting a ton though. Let's try to fit an ensemble model that takes all three of them and combines it and see if this model performs any better than the individual ones:**"
   ]
  },
  {
   "cell_type": "code",
   "execution_count": 265,
   "metadata": {},
   "outputs": [
    {
     "name": "stdout",
     "output_type": "stream",
     "text": [
      "Precision: 63%\n",
      "Recall: 67%\n",
      "Train Accuracy: 85.92276605298608%\n",
      "Test Accuracy: 62.65709156193896%\n",
      "Mean CV Score: 62.078620074320526%\n",
      "AUC Score: 67.19595031698798%\n",
      "Log Loss: 0.6493831500465569\n",
      "[[401 189]\n",
      " [227 297]]\n"
     ]
    }
   ],
   "source": [
    "voting = VotingClassifier(estimators=[('lr', lm2), ('rf', rf2), ('NBB', Bnb2)], voting='soft')\n",
    "ensemble_fitted = enhanced_confusion_matrix(voting,X_train_imp, X_test_imp, y_tr, y_te)"
   ]
  },
  {
   "cell_type": "markdown",
   "metadata": {},
   "source": [
    "Well the AUC score is the best I've gotten so far (67%) but not by much. Also, the log loss score is best I've got but similarly is not the best by much. Also, the overfitting from the Random Forest model makes this model over fit as well. I'm going to try to do some feature engineering to see if I can:\n",
    "\n",
    "1. Increase the AUC score for this ensemble model\n",
    "1. Reduce overfitting for the random forest model"
   ]
  },
  {
   "cell_type": "markdown",
   "metadata": {},
   "source": [
    "## Feature Engineering/More EDA"
   ]
  },
  {
   "cell_type": "code",
   "execution_count": 47,
   "metadata": {},
   "outputs": [],
   "source": [
    "#pasting in this function from the eda worksheet\n",
    "def plot_feature(df,column,answer=1):\n",
    "    \"\"\"\n",
    "    Purpose: Show distribution of voting between republians and democrats for the feature inputed\n",
    "    Arguments: dataframe with the features and column name\n",
    "    Returns: Bar plot for distribution for the particular feature, and percentage split between two groups\n",
    "    \"\"\"\n",
    "    mask = df[column] == answer\n",
    "    \n",
    "    #assigning varibales \n",
    "    if df[mask].party.value_counts().index[0] == 'Democrat':\n",
    "        amount_dem = df[mask].party.value_counts()[0]\n",
    "        amount_rep = df[mask].party.value_counts()[1]\n",
    "    else:\n",
    "        amount_dem = df[mask].party.value_counts()[1]\n",
    "        amount_rep = df[mask].party.value_counts()[0]\n",
    "    \n",
    "    #plotting the bar graph\n",
    "    plt.bar(['Democrat','Republican'], [amount_dem,amount_rep])\n",
    "    \n",
    "    #printing the percentages of republicans and democrats in this group\n",
    "    print('Democrats: ' + str(100*(amount_dem/(amount_dem+amount_rep))))\n",
    "    print('Republicans: ' + str(100*(amount_rep/(amount_dem+amount_rep))))\n",
    "    \n",
    "    return df[mask].party.value_counts()"
   ]
  },
  {
   "cell_type": "code",
   "execution_count": 48,
   "metadata": {
    "collapsed": true
   },
   "outputs": [
    {
     "data": {
      "text/plain": [
       "[(0.05811810114680376, 'yob'),\n",
       " (0.03754371807927355, 'q109244'),\n",
       " (0.01592425380970054, 'q115611'),\n",
       " (0.012996045685550881, 'gender_Male'),\n",
       " (0.011526209533287085, 'q113181'),\n",
       " (0.01094132070877958, 'q121011'),\n",
       " (0.010683489120578135, 'q98197'),\n",
       " (0.010624096184518405, 'q120012'),\n",
       " (0.01030032497616932, 'householdstatus_Single (no kids)'),\n",
       " (0.010000933972017342, 'q120379'),\n",
       " (0.009819533233464326, 'q119851'),\n",
       " (0.009785710890933769, 'q120472'),\n",
       " (0.009767788236616146, 'q120194'),\n",
       " (0.009719290395618103, 'q120978'),\n",
       " (0.009685040326372664, 'q118892'),\n",
       " (0.009574112625042713, 'q119334'),\n",
       " (0.009548763286441348, 'q118117'),\n",
       " (0.009457047532405038, \"educationlevel_Bachelor's Degree\"),\n",
       " (0.009418615655999512, 'q118237'),\n",
       " (0.00936996180503806, 'q114748'),\n",
       " (0.009198087407828322, 'q110740'),\n",
       " (0.009079863513824775, 'householdstatus_Married (w/kids)'),\n",
       " (0.008893967862858112, 'q118232'),\n",
       " (0.008700825364623457, 'q120014'),\n",
       " (0.008668724383038989, 'q122770'),\n",
       " (0.00866071972967858, 'q114386'),\n",
       " (0.008638767572029452, 'q112270'),\n",
       " (0.008577683398307393, 'q106042'),\n",
       " (0.008564385149790167, 'q113584'),\n",
       " (0.008529627610445897, 'q100689'),\n",
       " (0.008525299735904442, 'q106997'),\n",
       " (0.008520277742368222, 'educationlevel_Current K-12'),\n",
       " (0.008478812357125814, 'q111848'),\n",
       " (0.008474424192040987, 'q115899'),\n",
       " (0.00846252573456662, 'income_under $25,000'),\n",
       " (0.00844995299162953, 'q117186'),\n",
       " (0.008447994502081885, 'q116797'),\n",
       " (0.008425851173145297, 'q122769'),\n",
       " (0.008416488415706963, 'q115777'),\n",
       " (0.008405375852891228, 'q104996'),\n",
       " (0.008276574714070829, 'q123621'),\n",
       " (0.008245931462290091, 'q105655'),\n",
       " (0.008182377227831895, 'q103293'),\n",
       " (0.008157941396262802, 'q114961'),\n",
       " (0.008114052716928182, 'q116448'),\n",
       " (0.008019343188660063, 'q115195'),\n",
       " (0.00801041056720714, 'q122120'),\n",
       " (0.00799988996886549, 'q101163'),\n",
       " (0.007998254169742482, 'educationlevel_High School Diploma'),\n",
       " (0.007990848742410088, 'q117193'),\n",
       " (0.00798329355322878, 'q107869'),\n",
       " (0.007977165706260805, 'q111580'),\n",
       " (0.007973513168263746, 'income_$100,001 - $150,000'),\n",
       " (0.007925576324516003, 'income_over $150,000'),\n",
       " (0.007915358269056353, 'q121699'),\n",
       " (0.007866886663870724, 'q113992'),\n",
       " (0.007845757909172265, 'income_$75,000 - $100,000'),\n",
       " (0.007822224654074835, 'income_$50,000 - $74,999'),\n",
       " (0.007735124615786549, 'q108855'),\n",
       " (0.0077216951789075595, 'q124122'),\n",
       " (0.0076652551510717265, 'q119650'),\n",
       " (0.007625793660612543, 'q102687'),\n",
       " (0.007615276529714439, 'q96024'),\n",
       " (0.007590673602430955, 'q112478'),\n",
       " (0.007578235506526234, 'q111220'),\n",
       " (0.007527951796019907, 'q116953'),\n",
       " (0.007455521311902068, 'q109367'),\n",
       " (0.007398968429854282, 'q116441'),\n",
       " (0.007366786291328257, 'q116197'),\n",
       " (0.007314145252197348, 'educationlevel_Current Undergraduate'),\n",
       " (0.007312601774944697, 'q98578'),\n",
       " (0.0072842055251988586, 'q105840'),\n",
       " (0.007248453262571291, 'q108754'),\n",
       " (0.007202998604259219, 'q106389'),\n",
       " (0.007131692539374379, 'q99982'),\n",
       " (0.007130907261425334, 'q100680'),\n",
       " (0.007090985727620257, 'q98078'),\n",
       " (0.007070765518671791, 'q115390'),\n",
       " (0.0070483389084836975, 'income_$25,001 - $50,000'),\n",
       " (0.007026264195752241, 'q102906'),\n",
       " (0.006993937898013691, 'q113583'),\n",
       " (0.00699244486688757, 'q101162'),\n",
       " (0.006841127253210688, 'q116881'),\n",
       " (0.006824211337621095, 'q108342'),\n",
       " (0.0068191796256533675, 'q101596'),\n",
       " (0.006809640338663563, 'q102289'),\n",
       " (0.0067759688194688516, 'q108950'),\n",
       " (0.00675296635729865, 'q118233'),\n",
       " (0.006742053830658853, 'q114517'),\n",
       " (0.00674015789712843, 'householdstatus_Married (no kids)'),\n",
       " (0.00673001048705702, 'q99480'),\n",
       " (0.00672717666370936, 'q124742'),\n",
       " (0.006634268925972125, 'q122771'),\n",
       " (0.006557760507233025, 'q108856'),\n",
       " (0.006553514495223724, \"educationlevel_Associate's Degree\"),\n",
       " (0.006472606304010081, \"educationlevel_Master's Degree\"),\n",
       " (0.006411500964411036, 'q108343'),\n",
       " (0.0063813472816755985, 'q114152'),\n",
       " (0.006326610818960314, 'q106388'),\n",
       " (0.006306235819400454, 'q102674'),\n",
       " (0.006132936205860727, 'q98869'),\n",
       " (0.006043091048643514, 'q102089'),\n",
       " (0.0058911945353755085, 'q115602'),\n",
       " (0.005730573057033205, 'q100010'),\n",
       " (0.005692998742774975, 'q115610'),\n",
       " (0.00567573808604931, 'q121700'),\n",
       " (0.005671152154255502, 'q106272'),\n",
       " (0.005376633356488917, 'q116601'),\n",
       " (0.0053501232600379044, 'q112512'),\n",
       " (0.005257813789552893, 'q106993'),\n",
       " (0.0049963721191507516, 'q100562'),\n",
       " (0.004957712871153976, 'q120650'),\n",
       " (0.004467740994085287, 'q107491'),\n",
       " (0.004455822062019912, 'q99581'),\n",
       " (0.004283808755845581, 'q108617'),\n",
       " (0.004047696599141613, 'educationlevel_Doctoral Degree'),\n",
       " (0.0039742650136931085, 'householdstatus_Domestic Partners (no kids)'),\n",
       " (0.0035983182504586357, 'q99716'),\n",
       " (0.003535684691466316, 'householdstatus_Single (w/kids)'),\n",
       " (0.0033149595751098236, 'q98059'),\n",
       " (0.003211986068356745, 'q123464'),\n",
       " (0.0015686053293258115, 'householdstatus_Domestic Partners (w/kids)')]"
      ]
     },
     "execution_count": 48,
     "metadata": {},
     "output_type": "execute_result"
    }
   ],
   "source": [
    "feature_imp_list"
   ]
  },
  {
   "cell_type": "markdown",
   "metadata": {},
   "source": [
    "So other than Year of birth, it seems like the next two features in terms of feature importance are:\n",
    "1. Do you consider yourself a feminist\n",
    "1. Do you own a gun?\n",
    "\n",
    "Let's plot those features and see what we're dealing with"
   ]
  },
  {
   "cell_type": "code",
   "execution_count": 49,
   "metadata": {},
   "outputs": [
    {
     "name": "stdout",
     "output_type": "stream",
     "text": [
      "Democrats: 80.21621621621622\n",
      "Republicans: 19.783783783783786\n"
     ]
    },
    {
     "data": {
      "text/plain": [
       "Democrat      742\n",
       "Republican    183\n",
       "Name: party, dtype: int64"
      ]
     },
     "execution_count": 49,
     "metadata": {},
     "output_type": "execute_result"
    },
    {
     "data": {
      "image/png": "[encoded data removed]",
      "text/plain": [
       "<Figure size 432x288 with 1 Axes>"
      ]
     },
     "metadata": {
      "needs_background": "light"
     },
     "output_type": "display_data"
    }
   ],
   "source": [
    "#people who said yes to the question: are you a feminist?\n",
    "plot_feature(ready,'q109244')"
   ]
  },
  {
   "cell_type": "code",
   "execution_count": 51,
   "metadata": {},
   "outputs": [
    {
     "name": "stdout",
     "output_type": "stream",
     "text": [
      "Democrats: 38.95304080061586\n",
      "Republicans: 61.04695919938414\n"
     ]
    },
    {
     "data": {
      "text/plain": [
       "Republican    793\n",
       "Democrat      506\n",
       "Name: party, dtype: int64"
      ]
     },
     "execution_count": 51,
     "metadata": {},
     "output_type": "execute_result"
    },
    {
     "data": {
      "image/png": "[encoded data removed]",
      "text/plain": [
       "<Figure size 432x288 with 1 Axes>"
      ]
     },
     "metadata": {
      "needs_background": "light"
     },
     "output_type": "display_data"
    }
   ],
   "source": [
    "#people who said yes to the question: do you own a gun?\n",
    "plot_feature(ready,'q115611')"
   ]
  },
  {
   "cell_type": "code",
   "execution_count": 53,
   "metadata": {},
   "outputs": [
    {
     "name": "stdout",
     "output_type": "stream",
     "text": [
      "Democrats: 48.51127819548872\n",
      "Republicans: 51.48872180451127\n"
     ]
    },
    {
     "data": {
      "text/plain": [
       "Republican    1712\n",
       "Democrat      1613\n",
       "Name: party, dtype: int64"
      ]
     },
     "execution_count": 53,
     "metadata": {},
     "output_type": "execute_result"
    },
    {
     "data": {
      "image/png": "[encoded data removed]",
      "text/plain": [
       "<Figure size 432x288 with 1 Axes>"
      ]
     },
     "metadata": {
      "needs_background": "light"
     },
     "output_type": "display_data"
    }
   ],
   "source": [
    "#Gender == Male\n",
    "plot_feature(ready,'gender_Male')"
   ]
  },
  {
   "cell_type": "code",
   "execution_count": 54,
   "metadata": {},
   "outputs": [
    {
     "name": "stdout",
     "output_type": "stream",
     "text": [
      "Democrats: 59.6522514489523\n",
      "Republicans: 40.3477485510477\n"
     ]
    },
    {
     "data": {
      "text/plain": [
       "Democrat      1338\n",
       "Republican     905\n",
       "Name: party, dtype: int64"
      ]
     },
     "execution_count": 54,
     "metadata": {},
     "output_type": "execute_result"
    },
    {
     "data": {
      "image/png": "[encoded data removed]",
      "text/plain": [
       "<Figure size 432x288 with 1 Axes>"
      ]
     },
     "metadata": {
      "needs_background": "light"
     },
     "output_type": "display_data"
    }
   ],
   "source": [
    "#Gender == Female\n",
    "plot_feature(ready,'gender_Male',answer=0)"
   ]
  },
  {
   "cell_type": "code",
   "execution_count": 55,
   "metadata": {},
   "outputs": [
    {
     "name": "stdout",
     "output_type": "stream",
     "text": [
      "Democrats: 42.03691045796309\n",
      "Republicans: 57.963089542036904\n"
     ]
    },
    {
     "data": {
      "text/plain": [
       "Republican    848\n",
       "Democrat      615\n",
       "Name: party, dtype: int64"
      ]
     },
     "execution_count": 55,
     "metadata": {},
     "output_type": "execute_result"
    },
    {
     "data": {
      "image/png": "[encoded data removed]",
      "text/plain": [
       "<Figure size 432x288 with 1 Axes>"
      ]
     },
     "metadata": {
      "needs_background": "light"
     },
     "output_type": "display_data"
    }
   ],
   "source": [
    "#people who said yes to the question: do you pray regularly?\n",
    "plot_feature(ready,'q113181')"
   ]
  },
  {
   "cell_type": "code",
   "execution_count": 57,
   "metadata": {},
   "outputs": [
    {
     "data": {
      "text/plain": [
       "<matplotlib.collections.PathCollection at 0x2f28887f10>"
      ]
     },
     "execution_count": 57,
     "metadata": {},
     "output_type": "execute_result"
    },
    {
     "data": {
      "image/png": "[encoded data removed]",
      "text/plain": [
       "<Figure size 432x288 with 1 Axes>"
      ]
     },
     "metadata": {
      "needs_background": "light"
     },
     "output_type": "display_data"
    }
   ],
   "source": [
    "#scatter plot for yob versus the party you will vote for\n",
    "plt.scatter(ready.yob,ready.party)"
   ]
  },
  {
   "cell_type": "code",
   "execution_count": 58,
   "metadata": {},
   "outputs": [
    {
     "name": "stdout",
     "output_type": "stream",
     "text": [
      "Democrats: 55.121349238996295\n",
      "Republicans: 44.878650761003705\n"
     ]
    },
    {
     "data": {
      "text/plain": [
       "Democrat      1340\n",
       "Republican    1091\n",
       "Name: party, dtype: int64"
      ]
     },
     "execution_count": 58,
     "metadata": {},
     "output_type": "execute_result"
    },
    {
     "data": {
      "image/png": "[encoded data removed]",
      "text/plain": [
       "<Figure size 432x288 with 1 Axes>"
      ]
     },
     "metadata": {
      "needs_background": "light"
     },
     "output_type": "display_data"
    }
   ],
   "source": [
    "plot_feature(ready,'householdstatus_Single (no kids)')"
   ]
  },
  {
   "cell_type": "markdown",
   "metadata": {},
   "source": [
    "Ok so 5 findings from the feature importance list are confirmed: \n",
    "1. people who identified as a feminist are highly likely to vote democrat (80%)\n",
    "1. people who own a gun are high likely to vote republican (61%)\n",
    "1. females are more likely to vote democrat (59%)\n",
    "1. people who pray more often are more likley to vote republican (57%)\n",
    "1. Single people with no kids are more likely to vote democrat (55%)\n",
    "\n",
    "I still don't see a big correlation between year of birth and voting habits. Let's see if we can get any better results by combining our top two features (not including yob). "
   ]
  },
  {
   "cell_type": "code",
   "execution_count": 59,
   "metadata": {},
   "outputs": [
    {
     "data": {
      "text/plain": [
       "Democrat      502\n",
       "Republican    112\n",
       "Name: party, dtype: int64"
      ]
     },
     "execution_count": 59,
     "metadata": {},
     "output_type": "execute_result"
    }
   ],
   "source": [
    "#feminist and doesn't own a gun\n",
    "ready[(ready.q109244 == 1) & (ready.q115611 == 0)].party.value_counts()"
   ]
  },
  {
   "cell_type": "code",
   "execution_count": 60,
   "metadata": {},
   "outputs": [
    {
     "data": {
      "text/plain": [
       "Democrat      109\n",
       "Republican     36\n",
       "Name: party, dtype: int64"
      ]
     },
     "execution_count": 60,
     "metadata": {},
     "output_type": "execute_result"
    }
   ],
   "source": [
    "#feminist and owns a gun\n",
    "ready[(ready.q109244 == 1) & (ready.q115611 == 1)].party.value_counts()"
   ]
  },
  {
   "cell_type": "code",
   "execution_count": 61,
   "metadata": {},
   "outputs": [
    {
     "data": {
      "text/plain": [
       "Republican    614\n",
       "Democrat      579\n",
       "Name: party, dtype: int64"
      ]
     },
     "execution_count": 61,
     "metadata": {},
     "output_type": "execute_result"
    }
   ],
   "source": [
    "#not a feminist and don't own a gun\n",
    "ready[(ready.q109244 == 0) & (ready.q115611 == 0)].party.value_counts()"
   ]
  },
  {
   "cell_type": "code",
   "execution_count": 62,
   "metadata": {},
   "outputs": [
    {
     "data": {
      "text/plain": [
       "Republican    594\n",
       "Democrat      292\n",
       "Name: party, dtype: int64"
      ]
     },
     "execution_count": 62,
     "metadata": {},
     "output_type": "execute_result"
    }
   ],
   "source": [
    "#not a feminist but owns a gun\n",
    "ready[(ready.q109244 == 0) & (ready.q115611 == 1)].party.value_counts()"
   ]
  },
  {
   "cell_type": "markdown",
   "metadata": {},
   "source": [
    "So it looks like if you group together yes-feminist and no-gun we get a group where 81% of people vote democrat and if we group together no-feminist and yes-gun we get a group where 67% of people vote republican. These are increased percentages so maybe adding this feature will help? Only one way to find out. Let's test it"
   ]
  },
  {
   "cell_type": "code",
   "execution_count": 63,
   "metadata": {},
   "outputs": [],
   "source": [
    "#adding a column for this new feature\n",
    "ready['fem+gun'] = np.nan"
   ]
  },
  {
   "cell_type": "code",
   "execution_count": 64,
   "metadata": {},
   "outputs": [],
   "source": [
    "ready.reset_index(inplace=True,drop=True)"
   ]
  },
  {
   "cell_type": "code",
   "execution_count": 67,
   "metadata": {},
   "outputs": [],
   "source": [
    "#change fem+gun values to 1 where person is both a feminist and doesnt own a gun\n",
    "indexes = np.where((ready['q109244'] == 1) & (ready['q115611'] == 0))[0]\n",
    "for idx in indexes:\n",
    "    ready.at[idx,'fem+gun'] = 1"
   ]
  },
  {
   "cell_type": "code",
   "execution_count": 68,
   "metadata": {},
   "outputs": [],
   "source": [
    "#change fem+gun values to 0 where person is not a feminist and owns a gun\n",
    "indexes = np.where((ready['q109244'] == 0) & (ready['q115611'] == 1))[0]\n",
    "for idx in indexes:\n",
    "    ready.at[idx,'fem+gun'] = 0"
   ]
  },
  {
   "cell_type": "code",
   "execution_count": 69,
   "metadata": {},
   "outputs": [
    {
     "data": {
      "text/plain": [
       "0.0    886\n",
       "1.0    614\n",
       "Name: fem+gun, dtype: int64"
      ]
     },
     "execution_count": 69,
     "metadata": {},
     "output_type": "execute_result"
    }
   ],
   "source": [
    "ready['fem+gun'].value_counts()"
   ]
  },
  {
   "cell_type": "code",
   "execution_count": 196,
   "metadata": {},
   "outputs": [],
   "source": [
    "#doing another train_test_split with the new df. Also doing the same imputing again\n",
    "X_tr, X_te, Y_tr, Y_te = train_test_split(ready.drop(['party','q109244','q115611'],axis=1), ready.party, stratify=ready.party,test_size=0.2, random_state=42)\n",
    "imp = SimpleImputer(missing_values=np.nan, strategy='most_frequent')\n",
    "imp = imp.fit(X_tr)\n",
    "xtrain_imp = imp.transform(X_tr)\n",
    "xtest_imp = imp.transform(X_te)"
   ]
  },
  {
   "cell_type": "code",
   "execution_count": 247,
   "metadata": {},
   "outputs": [
    {
     "name": "stdout",
     "output_type": "stream",
     "text": [
      "Precision: 60%\n",
      "Recall: 65%\n",
      "Train Accuracy: 99.95509654243376%\n",
      "Test Accuracy: 59.06642728904848%\n",
      "Mean CV Score: 59.429858507368124%\n",
      "AUC Score: 61.82219562685988%\n",
      "Log Loss: 0.674871480832578\n"
     ]
    },
    {
     "data": {
      "text/plain": [
       "array([[387, 203],\n",
       "       [253, 271]])"
      ]
     },
     "execution_count": 247,
     "metadata": {},
     "output_type": "execute_result"
    }
   ],
   "source": [
    "#running the new RF model:\n",
    "rf3 = RandomForestClassifier(n_estimators=100)\n",
    "enhanced_confusion_matrix(rf3,xtrain_imp, xtest_imp, Y_tr, Y_te)"
   ]
  },
  {
   "cell_type": "code",
   "execution_count": 198,
   "metadata": {
    "collapsed": true
   },
   "outputs": [
    {
     "data": {
      "text/plain": [
       "[(0.05861865944940882, 'yob'),\n",
       " (0.03571927039530591, 'q108617'),\n",
       " (0.014315692179043675, 'q115899'),\n",
       " (0.012682999447134595, 'gender_Male'),\n",
       " (0.012046026547919107, 'q112478'),\n",
       " (0.011259410707723986, 'fem+gun'),\n",
       " (0.01085811736419963, 'q120012'),\n",
       " (0.010774319580885223, 'q119334'),\n",
       " (0.01034292891136539, 'q121011'),\n",
       " (0.01006564958416191, 'householdstatus_Single (no kids)'),\n",
       " (0.010056437546410104, 'q120379'),\n",
       " (0.009825595180552139, 'q120978'),\n",
       " (0.009680477525948184, 'q119851'),\n",
       " (0.00965620075589417, 'q118237'),\n",
       " (0.009570479979775982, \"educationlevel_Bachelor's Degree\"),\n",
       " (0.009542669388524074, 'householdstatus_Married (w/kids)'),\n",
       " (0.009511449186662588, 'q118892'),\n",
       " (0.009486356556676593, 'q118117'),\n",
       " (0.009453547083966996, 'q120014'),\n",
       " (0.009437750884221989, 'q114748'),\n",
       " (0.00912558710083841, 'q115195'),\n",
       " (0.00909775275710261, 'q120472'),\n",
       " (0.00886915841890175, 'q115390'),\n",
       " (0.008855246494257653, 'q109367'),\n",
       " (0.008702127042012784, 'q120194'),\n",
       " (0.008694982641565758, 'q102674'),\n",
       " (0.008660280647433122, 'q111580'),\n",
       " (0.008607538765640618, 'q116448'),\n",
       " (0.008603365766919183, 'q118232'),\n",
       " (0.008540372999408878, 'q122770'),\n",
       " (0.008459112933632997, 'q103293'),\n",
       " (0.00843875373929095, 'q111848'),\n",
       " (0.008399568150552813, 'q113992'),\n",
       " (0.00833806970972148, 'q123621'),\n",
       " (0.008323721864360494, 'income_$50,000 - $74,999'),\n",
       " (0.008298297961861524, 'q114517'),\n",
       " (0.008260126209028969, 'q106388'),\n",
       " (0.00822704356518256, 'q113181'),\n",
       " (0.008220164637550188, 'q117186'),\n",
       " (0.008183499072173674, 'income_under $25,000'),\n",
       " (0.008171005748120009, 'q122769'),\n",
       " (0.008106456938821583, 'q121699'),\n",
       " (0.00803769380872916, 'q100562'),\n",
       " (0.008013107458764754, 'q102906'),\n",
       " (0.0079879257415843, 'q124122'),\n",
       " (0.007978099943249613, 'income_$100,001 - $150,000'),\n",
       " (0.007972740943608314, 'q115777'),\n",
       " (0.007927103301763258, 'q108950'),\n",
       " (0.007890753788169813, 'q110740'),\n",
       " (0.007854272918629817, 'q96024'),\n",
       " (0.007854248561897308, 'q111220'),\n",
       " (0.00784820431579281, 'q105655'),\n",
       " (0.007843604894877128, 'q119650'),\n",
       " (0.007777396008474069, 'educationlevel_High School Diploma'),\n",
       " (0.007744695314191455, 'q116797'),\n",
       " (0.0077406654702112734, 'income_over $150,000'),\n",
       " (0.007733625205856961, 'q100689'),\n",
       " (0.007673229862881398, 'q102089'),\n",
       " (0.007665191628069925, 'q116441'),\n",
       " (0.0076518482452022215, 'q112512'),\n",
       " (0.007644370624796027, 'income_$25,001 - $50,000'),\n",
       " (0.007633932221626988, 'q117193'),\n",
       " (0.007633834341281968, 'q106993'),\n",
       " (0.007618598070801956, 'q102687'),\n",
       " (0.007605576980251314, 'q108856'),\n",
       " (0.007520089369514542, 'q116881'),\n",
       " (0.007450195989086468, 'income_$75,000 - $100,000'),\n",
       " (0.007422554342595153, 'q100680'),\n",
       " (0.007420676451869926, 'educationlevel_Current Undergraduate'),\n",
       " (0.0074183363536125015, 'q122120'),\n",
       " (0.007391233023452289, 'q104996'),\n",
       " (0.007344916205356956, 'q116953'),\n",
       " (0.007336164809642042, 'q114152'),\n",
       " (0.007335785085845212, 'q114961'),\n",
       " (0.007314847768414525, 'q116197'),\n",
       " (0.007308241266932865, 'q105840'),\n",
       " (0.0072894902378044775, 'q108855'),\n",
       " (0.00726748318157017, 'q98059'),\n",
       " (0.007259243268850019, 'q98578'),\n",
       " (0.007240155798814129, 'q99716'),\n",
       " (0.007222856398750712, 'q98078'),\n",
       " (0.007176736264432881, 'q101596'),\n",
       " (0.007165513474219417, 'q107869'),\n",
       " (0.006988696643859305, 'q101163'),\n",
       " (0.006960412181384649, 'q114386'),\n",
       " (0.006947749988188993, 'q113583'),\n",
       " (0.006931600626827438, 'q118233'),\n",
       " (0.0069172588438206825, \"educationlevel_Master's Degree\"),\n",
       " (0.00688223187180653, 'q108343'),\n",
       " (0.006867441698148961, 'educationlevel_Current K-12'),\n",
       " (0.006832844629683633, 'q107491'),\n",
       " (0.006796524069387233, 'householdstatus_Married (no kids)'),\n",
       " (0.006711374942995047, 'q108342'),\n",
       " (0.0066646117157225845, 'q99982'),\n",
       " (0.006650396322484585, 'q113584'),\n",
       " (0.006497041026692907, 'q122771'),\n",
       " (0.006335933385257362, 'q106389'),\n",
       " (0.006312300626688756, 'q124742'),\n",
       " (0.0062857691908017556, 'q102289'),\n",
       " (0.006127720644025835, 'q101162'),\n",
       " (0.005958295475858162, 'q121700'),\n",
       " (0.0058782423715471955, 'q115602'),\n",
       " (0.005784876711999863, 'q106042'),\n",
       " (0.005589746404575424, 'q112270'),\n",
       " (0.005582300993761506, 'q99581'),\n",
       " (0.005570343766262984, 'q116601'),\n",
       " (0.005567951498272319, \"educationlevel_Associate's Degree\"),\n",
       " (0.005494124476898998, 'q100010'),\n",
       " (0.005321992983651837, 'q106272'),\n",
       " (0.005266287600968409, 'q115610'),\n",
       " (0.005007572827185472, 'q120650'),\n",
       " (0.004685655386410068, 'householdstatus_Domestic Partners (no kids)'),\n",
       " (0.004633885471287219, 'q98869'),\n",
       " (0.004607655797839962, 'q108754'),\n",
       " (0.004213184479056833, 'q106997'),\n",
       " (0.0036338625190118863, 'q99480'),\n",
       " (0.003544434713650963, 'q98197'),\n",
       " (0.0032801458273732853, 'educationlevel_Doctoral Degree'),\n",
       " (0.003215886669498755, 'householdstatus_Single (w/kids)'),\n",
       " (0.0028978634216499243, 'q123464'),\n",
       " (0.001420294515606884, 'householdstatus_Domestic Partners (w/kids)')]"
      ]
     },
     "execution_count": 198,
     "metadata": {},
     "output_type": "execute_result"
    }
   ],
   "source": [
    "feature_imp_list = list(zip(rf2.feature_importances_,X_tr.columns))\n",
    "feature_imp_list.sort(reverse=True)\n",
    "feature_imp_list"
   ]
  },
  {
   "cell_type": "markdown",
   "metadata": {},
   "source": [
    "**Well combining two features into seemed to decrease all metrics except recall. So it is not helpful. It did drop the overfitting slightly though. It also brought out a few more potentially important features:** \n",
    "1. People who live in a single parent household\n",
    "1. People who said the hardships in their lives are caused by their circumstances rather than themselves\n",
    "1. People who have phobias"
   ]
  },
  {
   "cell_type": "code",
   "execution_count": 199,
   "metadata": {
    "scrolled": true
   },
   "outputs": [
    {
     "name": "stdout",
     "output_type": "stream",
     "text": [
      "Democrats: 56.76959619952494\n",
      "Republicans: 43.23040380047506\n"
     ]
    },
    {
     "data": {
      "text/plain": [
       "Democrat      239\n",
       "Republican    182\n",
       "Name: party, dtype: int64"
      ]
     },
     "execution_count": 199,
     "metadata": {},
     "output_type": "execute_result"
    },
    {
     "data": {
      "image/png": "[encoded data removed]",
      "text/plain": [
       "<Figure size 432x288 with 1 Axes>"
      ]
     },
     "metadata": {
      "needs_background": "light"
     },
     "output_type": "display_data"
    }
   ],
   "source": [
    "#people who live in a single parent household\n",
    "plot_feature(ready,'q108617')"
   ]
  },
  {
   "cell_type": "code",
   "execution_count": 205,
   "metadata": {},
   "outputs": [
    {
     "name": "stdout",
     "output_type": "stream",
     "text": [
      "Democrats: 56.68918918918919\n",
      "Republicans: 43.310810810810814\n"
     ]
    },
    {
     "data": {
      "text/plain": [
       "Democrat      839\n",
       "Republican    641\n",
       "Name: party, dtype: int64"
      ]
     },
     "execution_count": 205,
     "metadata": {},
     "output_type": "execute_result"
    },
    {
     "data": {
      "image/png": "[encoded data removed]",
      "text/plain": [
       "<Figure size 432x288 with 1 Axes>"
      ]
     },
     "metadata": {
      "needs_background": "light"
     },
     "output_type": "display_data"
    }
   ],
   "source": [
    "#people who said they think the hardships in their life are more due to circumstances than them\n",
    "plot_feature(ready,'q115899',answer=1)"
   ]
  },
  {
   "cell_type": "code",
   "execution_count": 206,
   "metadata": {},
   "outputs": [
    {
     "name": "stdout",
     "output_type": "stream",
     "text": [
      "Democrats: 54.19354838709678\n",
      "Republicans: 45.806451612903224\n"
     ]
    },
    {
     "data": {
      "text/plain": [
       "Democrat      1092\n",
       "Republican     923\n",
       "Name: party, dtype: int64"
      ]
     },
     "execution_count": 206,
     "metadata": {},
     "output_type": "execute_result"
    },
    {
     "data": {
      "image/png": "[encoded data removed]",
      "text/plain": [
       "<Figure size 432x288 with 1 Axes>"
      ]
     },
     "metadata": {
      "needs_background": "light"
     },
     "output_type": "display_data"
    }
   ],
   "source": [
    "#people who said they have phobias\n",
    "plot_feature(ready,'q112478',answer=1)"
   ]
  },
  {
   "cell_type": "code",
   "execution_count": null,
   "metadata": {},
   "outputs": [],
   "source": [
    "#ready.to_pickle('ready.pkl')"
   ]
  },
  {
   "cell_type": "code",
   "execution_count": 268,
   "metadata": {},
   "outputs": [],
   "source": [
    "#with open('random_forest.pkl', 'wb') as f:\n",
    "    #pickle.dump(rf_fitted, f)"
   ]
  },
  {
   "cell_type": "code",
   "execution_count": 269,
   "metadata": {},
   "outputs": [],
   "source": [
    "#with open('log_regres_fitted.pkl', 'wb') as f:\n",
    "    #pickle.dump(lr_fitted, f)"
   ]
  },
  {
   "cell_type": "code",
   "execution_count": 270,
   "metadata": {},
   "outputs": [],
   "source": [
    "#with open('naive_bayes_fitted.pkl', 'wb') as f:\n",
    "    #pickle.dump(nbb_fitted, f)"
   ]
  },
  {
   "cell_type": "code",
   "execution_count": 271,
   "metadata": {},
   "outputs": [],
   "source": [
    "#with open('ensemble_fitted.pkl', 'wb') as f:\n",
    "    #pickle.dump(ensemble_fitted, f)"
   ]
  },
  {
   "cell_type": "code",
   "execution_count": null,
   "metadata": {},
   "outputs": [],
   "source": []
  }
 ],
 "metadata": {
  "kernelspec": {
   "display_name": "Python 3",
   "language": "python",
   "name": "python3"
  },
  "language_info": {
   "codemirror_mode": {
    "name": "ipython",
    "version": 3
   },
   "file_extension": ".py",
   "mimetype": "text/x-python",
   "name": "python",
   "nbconvert_exporter": "python",
   "pygments_lexer": "ipython3",
   "version": "3.7.4"
  }
 },
 "nbformat": 4,
 "nbformat_minor": 4
}
